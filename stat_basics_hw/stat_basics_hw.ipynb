{
 "cells": [
  {
   "cell_type": "code",
   "execution_count": 1,
   "id": "50778195",
   "metadata": {},
   "outputs": [],
   "source": [
    "import pandas as pd\n",
    "import numpy as np"
   ]
  },
  {
   "cell_type": "markdown",
   "id": "ad313c44",
   "metadata": {},
   "source": [
    "Загружаем датасет:"
   ]
  },
  {
   "cell_type": "code",
   "execution_count": 2,
   "id": "a4d5d49e",
   "metadata": {},
   "outputs": [
    {
     "name": "stdout",
     "output_type": "stream",
     "text": [
      "<class 'pandas.core.frame.DataFrame'>\n",
      "RangeIndex: 299 entries, 0 to 298\n",
      "Data columns (total 28 columns):\n",
      " #   Column   Non-Null Count  Dtype \n",
      "---  ------   --------------  ----- \n",
      " 0   2        299 non-null    object\n",
      " 1   1        299 non-null    int64 \n",
      " 2   530101   299 non-null    int64 \n",
      " 3   38.50    299 non-null    object\n",
      " 4   66       299 non-null    object\n",
      " 5   28       299 non-null    object\n",
      " 6   3        299 non-null    object\n",
      " 7   3.1      299 non-null    object\n",
      " 8   ?        299 non-null    object\n",
      " 9   2.1      299 non-null    object\n",
      " 10  5        299 non-null    object\n",
      " 11  4        299 non-null    object\n",
      " 12  4.1      299 non-null    object\n",
      " 13  ?.1      299 non-null    object\n",
      " 14  ?.2      299 non-null    object\n",
      " 15  ?.3      299 non-null    object\n",
      " 16  3.2      299 non-null    object\n",
      " 17  5.1      299 non-null    object\n",
      " 18  45.00    299 non-null    object\n",
      " 19  8.40     299 non-null    object\n",
      " 20  ?.4      299 non-null    object\n",
      " 21  ?.5      299 non-null    object\n",
      " 22  2.2      299 non-null    object\n",
      " 23  2.3      299 non-null    int64 \n",
      " 24  11300    299 non-null    int64 \n",
      " 25  00000    299 non-null    int64 \n",
      " 26  00000.1  299 non-null    int64 \n",
      " 27  2.4      299 non-null    int64 \n",
      "dtypes: int64(7), object(21)\n",
      "memory usage: 65.5+ KB\n"
     ]
    }
   ],
   "source": [
    "hd1 = pd.read_csv('https://raw.githubusercontent.com/obulygin/pyda_homeworks/master/statistics_basics/horse_data.csv')\n",
    "hd1.info()"
   ]
  },
  {
   "cell_type": "markdown",
   "id": "b3d92858",
   "metadata": {},
   "source": [
    "Очевидно, придется вручную ввести названия столбцов:"
   ]
  },
  {
   "cell_type": "code",
   "execution_count": 3,
   "id": "6111b895",
   "metadata": {},
   "outputs": [
    {
     "name": "stdout",
     "output_type": "stream",
     "text": [
      "<class 'pandas.core.frame.DataFrame'>\n",
      "RangeIndex: 299 entries, 0 to 298\n",
      "Data columns (total 28 columns):\n",
      " #   Column                       Non-Null Count  Dtype \n",
      "---  ------                       --------------  ----- \n",
      " 0   surgery?                     299 non-null    object\n",
      " 1   Age                          299 non-null    int64 \n",
      " 2   Hospital Number              299 non-null    int64 \n",
      " 3   rectal temperature           299 non-null    object\n",
      " 4   pulse                        299 non-null    object\n",
      " 5   respiratory rate             299 non-null    object\n",
      " 6   temperature of extremities   299 non-null    object\n",
      " 7   peripheral pulse             299 non-null    object\n",
      " 8   mucous membranes             299 non-null    object\n",
      " 9   capillary refill time        299 non-null    object\n",
      " 10  pain                         299 non-null    object\n",
      " 11  peristalsis                  299 non-null    object\n",
      " 12  abdominal distension         299 non-null    object\n",
      " 13  nasogastric tube             299 non-null    object\n",
      " 14  nasogastric reflux           299 non-null    object\n",
      " 15  nasogastric reflux PH        299 non-null    object\n",
      " 16  rectal examination - feces   299 non-null    object\n",
      " 17  abdomen                      299 non-null    object\n",
      " 18  packed cell volume           299 non-null    object\n",
      " 19  total protein                299 non-null    object\n",
      " 20  abdominocentesis appearance  299 non-null    object\n",
      " 21  abdomcentesis total protein  299 non-null    object\n",
      " 22  outcome                      299 non-null    object\n",
      " 23  surgical lesion?             299 non-null    int64 \n",
      " 24  type of lesion 1             299 non-null    int64 \n",
      " 25  type of lesion 2             299 non-null    int64 \n",
      " 26  type of lesion 3             299 non-null    int64 \n",
      " 27  cp_data                      299 non-null    int64 \n",
      "dtypes: int64(7), object(21)\n",
      "memory usage: 65.5+ KB\n"
     ]
    }
   ],
   "source": [
    "hd2 = pd.read_csv('https://raw.githubusercontent.com/obulygin/pyda_homeworks/master/statistics_basics/horse_data.csv', \n",
    "                 names = ['surgery?', \n",
    "                          'Age',\n",
    "                          'Hospital Number',\n",
    "                          'rectal temperature',\n",
    "                          'pulse',\n",
    "                          'respiratory rate',\n",
    "                          'temperature of extremities',\n",
    "                          'peripheral pulse',\n",
    "                          'mucous membranes',\n",
    "                          'capillary refill time',\n",
    "                          'pain',\n",
    "                          'peristalsis',\n",
    "                          'abdominal distension',\n",
    "                          'nasogastric tube',\n",
    "                          'nasogastric reflux',\n",
    "                          'nasogastric reflux PH',\n",
    "                          'rectal examination - feces',\n",
    "                          'abdomen',\n",
    "                          'packed cell volume',\n",
    "                          'total protein',\n",
    "                          'abdominocentesis appearance',\n",
    "                          'abdomcentesis total protein',\n",
    "                          'outcome',\n",
    "                          'surgical lesion?',\n",
    "                          'type of lesion 1',\n",
    "                          'type of lesion 2',\n",
    "                          'type of lesion 3',\n",
    "                          'cp_data'], \n",
    "                 header=0)\n",
    "hd2.info()"
   ]
  },
  {
   "cell_type": "code",
   "execution_count": 4,
   "id": "8998f0fe",
   "metadata": {},
   "outputs": [
    {
     "data": {
      "text/html": [
       "<div>\n",
       "<style scoped>\n",
       "    .dataframe tbody tr th:only-of-type {\n",
       "        vertical-align: middle;\n",
       "    }\n",
       "\n",
       "    .dataframe tbody tr th {\n",
       "        vertical-align: top;\n",
       "    }\n",
       "\n",
       "    .dataframe thead th {\n",
       "        text-align: right;\n",
       "    }\n",
       "</style>\n",
       "<table border=\"1\" class=\"dataframe\">\n",
       "  <thead>\n",
       "    <tr style=\"text-align: right;\">\n",
       "      <th></th>\n",
       "      <th>surgery?</th>\n",
       "      <th>Age</th>\n",
       "      <th>Hospital Number</th>\n",
       "      <th>rectal temperature</th>\n",
       "      <th>pulse</th>\n",
       "      <th>respiratory rate</th>\n",
       "      <th>temperature of extremities</th>\n",
       "      <th>peripheral pulse</th>\n",
       "      <th>mucous membranes</th>\n",
       "      <th>capillary refill time</th>\n",
       "      <th>...</th>\n",
       "      <th>packed cell volume</th>\n",
       "      <th>total protein</th>\n",
       "      <th>abdominocentesis appearance</th>\n",
       "      <th>abdomcentesis total protein</th>\n",
       "      <th>outcome</th>\n",
       "      <th>surgical lesion?</th>\n",
       "      <th>type of lesion 1</th>\n",
       "      <th>type of lesion 2</th>\n",
       "      <th>type of lesion 3</th>\n",
       "      <th>cp_data</th>\n",
       "    </tr>\n",
       "  </thead>\n",
       "  <tbody>\n",
       "    <tr>\n",
       "      <th>0</th>\n",
       "      <td>1</td>\n",
       "      <td>1</td>\n",
       "      <td>534817</td>\n",
       "      <td>39.2</td>\n",
       "      <td>88</td>\n",
       "      <td>20</td>\n",
       "      <td>?</td>\n",
       "      <td>?</td>\n",
       "      <td>4</td>\n",
       "      <td>1</td>\n",
       "      <td>...</td>\n",
       "      <td>50</td>\n",
       "      <td>85</td>\n",
       "      <td>2</td>\n",
       "      <td>2</td>\n",
       "      <td>3</td>\n",
       "      <td>2</td>\n",
       "      <td>2208</td>\n",
       "      <td>0</td>\n",
       "      <td>0</td>\n",
       "      <td>2</td>\n",
       "    </tr>\n",
       "    <tr>\n",
       "      <th>1</th>\n",
       "      <td>2</td>\n",
       "      <td>1</td>\n",
       "      <td>530334</td>\n",
       "      <td>38.30</td>\n",
       "      <td>40</td>\n",
       "      <td>24</td>\n",
       "      <td>1</td>\n",
       "      <td>1</td>\n",
       "      <td>3</td>\n",
       "      <td>1</td>\n",
       "      <td>...</td>\n",
       "      <td>33.00</td>\n",
       "      <td>6.70</td>\n",
       "      <td>?</td>\n",
       "      <td>?</td>\n",
       "      <td>1</td>\n",
       "      <td>2</td>\n",
       "      <td>0</td>\n",
       "      <td>0</td>\n",
       "      <td>0</td>\n",
       "      <td>1</td>\n",
       "    </tr>\n",
       "    <tr>\n",
       "      <th>2</th>\n",
       "      <td>1</td>\n",
       "      <td>9</td>\n",
       "      <td>5290409</td>\n",
       "      <td>39.10</td>\n",
       "      <td>164</td>\n",
       "      <td>84</td>\n",
       "      <td>4</td>\n",
       "      <td>1</td>\n",
       "      <td>6</td>\n",
       "      <td>2</td>\n",
       "      <td>...</td>\n",
       "      <td>48.00</td>\n",
       "      <td>7.20</td>\n",
       "      <td>3</td>\n",
       "      <td>5.30</td>\n",
       "      <td>2</td>\n",
       "      <td>1</td>\n",
       "      <td>2208</td>\n",
       "      <td>0</td>\n",
       "      <td>0</td>\n",
       "      <td>1</td>\n",
       "    </tr>\n",
       "    <tr>\n",
       "      <th>3</th>\n",
       "      <td>2</td>\n",
       "      <td>1</td>\n",
       "      <td>530255</td>\n",
       "      <td>37.30</td>\n",
       "      <td>104</td>\n",
       "      <td>35</td>\n",
       "      <td>?</td>\n",
       "      <td>?</td>\n",
       "      <td>6</td>\n",
       "      <td>2</td>\n",
       "      <td>...</td>\n",
       "      <td>74.00</td>\n",
       "      <td>7.40</td>\n",
       "      <td>?</td>\n",
       "      <td>?</td>\n",
       "      <td>2</td>\n",
       "      <td>2</td>\n",
       "      <td>4300</td>\n",
       "      <td>0</td>\n",
       "      <td>0</td>\n",
       "      <td>2</td>\n",
       "    </tr>\n",
       "    <tr>\n",
       "      <th>4</th>\n",
       "      <td>2</td>\n",
       "      <td>1</td>\n",
       "      <td>528355</td>\n",
       "      <td>?</td>\n",
       "      <td>?</td>\n",
       "      <td>?</td>\n",
       "      <td>2</td>\n",
       "      <td>1</td>\n",
       "      <td>3</td>\n",
       "      <td>1</td>\n",
       "      <td>...</td>\n",
       "      <td>?</td>\n",
       "      <td>?</td>\n",
       "      <td>?</td>\n",
       "      <td>?</td>\n",
       "      <td>1</td>\n",
       "      <td>2</td>\n",
       "      <td>0</td>\n",
       "      <td>0</td>\n",
       "      <td>0</td>\n",
       "      <td>2</td>\n",
       "    </tr>\n",
       "    <tr>\n",
       "      <th>5</th>\n",
       "      <td>1</td>\n",
       "      <td>1</td>\n",
       "      <td>526802</td>\n",
       "      <td>37.90</td>\n",
       "      <td>48</td>\n",
       "      <td>16</td>\n",
       "      <td>1</td>\n",
       "      <td>1</td>\n",
       "      <td>1</td>\n",
       "      <td>1</td>\n",
       "      <td>...</td>\n",
       "      <td>37.00</td>\n",
       "      <td>7.00</td>\n",
       "      <td>?</td>\n",
       "      <td>?</td>\n",
       "      <td>1</td>\n",
       "      <td>1</td>\n",
       "      <td>3124</td>\n",
       "      <td>0</td>\n",
       "      <td>0</td>\n",
       "      <td>2</td>\n",
       "    </tr>\n",
       "    <tr>\n",
       "      <th>6</th>\n",
       "      <td>1</td>\n",
       "      <td>1</td>\n",
       "      <td>529607</td>\n",
       "      <td>?</td>\n",
       "      <td>60</td>\n",
       "      <td>?</td>\n",
       "      <td>3</td>\n",
       "      <td>?</td>\n",
       "      <td>?</td>\n",
       "      <td>1</td>\n",
       "      <td>...</td>\n",
       "      <td>44.00</td>\n",
       "      <td>8.30</td>\n",
       "      <td>?</td>\n",
       "      <td>?</td>\n",
       "      <td>2</td>\n",
       "      <td>1</td>\n",
       "      <td>2208</td>\n",
       "      <td>0</td>\n",
       "      <td>0</td>\n",
       "      <td>2</td>\n",
       "    </tr>\n",
       "    <tr>\n",
       "      <th>7</th>\n",
       "      <td>2</td>\n",
       "      <td>1</td>\n",
       "      <td>530051</td>\n",
       "      <td>?</td>\n",
       "      <td>80</td>\n",
       "      <td>36</td>\n",
       "      <td>3</td>\n",
       "      <td>4</td>\n",
       "      <td>3</td>\n",
       "      <td>1</td>\n",
       "      <td>...</td>\n",
       "      <td>38.00</td>\n",
       "      <td>6.20</td>\n",
       "      <td>?</td>\n",
       "      <td>?</td>\n",
       "      <td>3</td>\n",
       "      <td>1</td>\n",
       "      <td>3205</td>\n",
       "      <td>0</td>\n",
       "      <td>0</td>\n",
       "      <td>2</td>\n",
       "    </tr>\n",
       "    <tr>\n",
       "      <th>8</th>\n",
       "      <td>2</td>\n",
       "      <td>9</td>\n",
       "      <td>5299629</td>\n",
       "      <td>38.30</td>\n",
       "      <td>90</td>\n",
       "      <td>?</td>\n",
       "      <td>1</td>\n",
       "      <td>?</td>\n",
       "      <td>1</td>\n",
       "      <td>1</td>\n",
       "      <td>...</td>\n",
       "      <td>40.00</td>\n",
       "      <td>6.20</td>\n",
       "      <td>1</td>\n",
       "      <td>2.20</td>\n",
       "      <td>1</td>\n",
       "      <td>2</td>\n",
       "      <td>0</td>\n",
       "      <td>0</td>\n",
       "      <td>0</td>\n",
       "      <td>1</td>\n",
       "    </tr>\n",
       "    <tr>\n",
       "      <th>9</th>\n",
       "      <td>1</td>\n",
       "      <td>1</td>\n",
       "      <td>528548</td>\n",
       "      <td>38.10</td>\n",
       "      <td>66</td>\n",
       "      <td>12</td>\n",
       "      <td>3</td>\n",
       "      <td>3</td>\n",
       "      <td>5</td>\n",
       "      <td>1</td>\n",
       "      <td>...</td>\n",
       "      <td>44.00</td>\n",
       "      <td>6.00</td>\n",
       "      <td>2</td>\n",
       "      <td>3.60</td>\n",
       "      <td>1</td>\n",
       "      <td>1</td>\n",
       "      <td>2124</td>\n",
       "      <td>0</td>\n",
       "      <td>0</td>\n",
       "      <td>1</td>\n",
       "    </tr>\n",
       "  </tbody>\n",
       "</table>\n",
       "<p>10 rows × 28 columns</p>\n",
       "</div>"
      ],
      "text/plain": [
       "  surgery?  Age  Hospital Number rectal temperature pulse respiratory rate  \\\n",
       "0        1    1           534817               39.2    88               20   \n",
       "1        2    1           530334              38.30    40               24   \n",
       "2        1    9          5290409              39.10   164               84   \n",
       "3        2    1           530255              37.30   104               35   \n",
       "4        2    1           528355                  ?     ?                ?   \n",
       "5        1    1           526802              37.90    48               16   \n",
       "6        1    1           529607                  ?    60                ?   \n",
       "7        2    1           530051                  ?    80               36   \n",
       "8        2    9          5299629              38.30    90                ?   \n",
       "9        1    1           528548              38.10    66               12   \n",
       "\n",
       "  temperature of extremities peripheral pulse mucous membranes  \\\n",
       "0                          ?                ?                4   \n",
       "1                          1                1                3   \n",
       "2                          4                1                6   \n",
       "3                          ?                ?                6   \n",
       "4                          2                1                3   \n",
       "5                          1                1                1   \n",
       "6                          3                ?                ?   \n",
       "7                          3                4                3   \n",
       "8                          1                ?                1   \n",
       "9                          3                3                5   \n",
       "\n",
       "  capillary refill time  ... packed cell volume total protein  \\\n",
       "0                     1  ...                 50            85   \n",
       "1                     1  ...              33.00          6.70   \n",
       "2                     2  ...              48.00          7.20   \n",
       "3                     2  ...              74.00          7.40   \n",
       "4                     1  ...                  ?             ?   \n",
       "5                     1  ...              37.00          7.00   \n",
       "6                     1  ...              44.00          8.30   \n",
       "7                     1  ...              38.00          6.20   \n",
       "8                     1  ...              40.00          6.20   \n",
       "9                     1  ...              44.00          6.00   \n",
       "\n",
       "  abdominocentesis appearance abdomcentesis total protein outcome  \\\n",
       "0                           2                           2       3   \n",
       "1                           ?                           ?       1   \n",
       "2                           3                        5.30       2   \n",
       "3                           ?                           ?       2   \n",
       "4                           ?                           ?       1   \n",
       "5                           ?                           ?       1   \n",
       "6                           ?                           ?       2   \n",
       "7                           ?                           ?       3   \n",
       "8                           1                        2.20       1   \n",
       "9                           2                        3.60       1   \n",
       "\n",
       "  surgical lesion? type of lesion 1 type of lesion 2 type of lesion 3 cp_data  \n",
       "0                2             2208                0                0       2  \n",
       "1                2                0                0                0       1  \n",
       "2                1             2208                0                0       1  \n",
       "3                2             4300                0                0       2  \n",
       "4                2                0                0                0       2  \n",
       "5                1             3124                0                0       2  \n",
       "6                1             2208                0                0       2  \n",
       "7                1             3205                0                0       2  \n",
       "8                2                0                0                0       1  \n",
       "9                1             2124                0                0       1  \n",
       "\n",
       "[10 rows x 28 columns]"
      ]
     },
     "execution_count": 4,
     "metadata": {},
     "output_type": "execute_result"
    }
   ],
   "source": [
    "hd2.head(10)"
   ]
  },
  {
   "cell_type": "markdown",
   "id": "a803792f",
   "metadata": {},
   "source": [
    "Нужно заменить \"?\" на NaN.\n",
    "Можно было бы сделать так: hd2 = hd2.replace('?', np.NaN), \n",
    "но я решил сделать так:"
   ]
  },
  {
   "cell_type": "code",
   "execution_count": 5,
   "id": "b15cbec1",
   "metadata": {},
   "outputs": [
    {
     "name": "stdout",
     "output_type": "stream",
     "text": [
      "<class 'pandas.core.frame.DataFrame'>\n",
      "RangeIndex: 299 entries, 0 to 298\n",
      "Data columns (total 28 columns):\n",
      " #   Column                       Non-Null Count  Dtype  \n",
      "---  ------                       --------------  -----  \n",
      " 0   surgery?                     298 non-null    float64\n",
      " 1   Age                          299 non-null    int64  \n",
      " 2   Hospital Number              299 non-null    int64  \n",
      " 3   rectal temperature           239 non-null    float64\n",
      " 4   pulse                        275 non-null    float64\n",
      " 5   respiratory rate             241 non-null    float64\n",
      " 6   temperature of extremities   243 non-null    float64\n",
      " 7   peripheral pulse             230 non-null    float64\n",
      " 8   mucous membranes             253 non-null    float64\n",
      " 9   capillary refill time        267 non-null    float64\n",
      " 10  pain                         244 non-null    float64\n",
      " 11  peristalsis                  255 non-null    float64\n",
      " 12  abdominal distension         243 non-null    float64\n",
      " 13  nasogastric tube             196 non-null    float64\n",
      " 14  nasogastric reflux           194 non-null    float64\n",
      " 15  nasogastric reflux PH        53 non-null     float64\n",
      " 16  rectal examination - feces   197 non-null    float64\n",
      " 17  abdomen                      181 non-null    float64\n",
      " 18  packed cell volume           270 non-null    float64\n",
      " 19  total protein                266 non-null    float64\n",
      " 20  abdominocentesis appearance  135 non-null    float64\n",
      " 21  abdomcentesis total protein  102 non-null    float64\n",
      " 22  outcome                      298 non-null    float64\n",
      " 23  surgical lesion?             299 non-null    int64  \n",
      " 24  type of lesion 1             299 non-null    int64  \n",
      " 25  type of lesion 2             299 non-null    int64  \n",
      " 26  type of lesion 3             299 non-null    int64  \n",
      " 27  cp_data                      299 non-null    int64  \n",
      "dtypes: float64(21), int64(7)\n",
      "memory usage: 65.5 KB\n"
     ]
    }
   ],
   "source": [
    "hd3 = pd.read_csv('https://raw.githubusercontent.com/obulygin/pyda_homeworks/master/statistics_basics/horse_data.csv', \n",
    "                 names = ['surgery?', \n",
    "                          'Age',\n",
    "                          'Hospital Number',\n",
    "                          'rectal temperature',\n",
    "                          'pulse',\n",
    "                          'respiratory rate',\n",
    "                          'temperature of extremities',\n",
    "                          'peripheral pulse',\n",
    "                          'mucous membranes',\n",
    "                          'capillary refill time',\n",
    "                          'pain',\n",
    "                          'peristalsis',\n",
    "                          'abdominal distension',\n",
    "                          'nasogastric tube',\n",
    "                          'nasogastric reflux',\n",
    "                          'nasogastric reflux PH',\n",
    "                          'rectal examination - feces',\n",
    "                          'abdomen',\n",
    "                          'packed cell volume',\n",
    "                          'total protein',\n",
    "                          'abdominocentesis appearance',\n",
    "                          'abdomcentesis total protein',\n",
    "                          'outcome',\n",
    "                          'surgical lesion?',\n",
    "                          'type of lesion 1',\n",
    "                          'type of lesion 2',\n",
    "                          'type of lesion 3',\n",
    "                          'cp_data'], \n",
    "                 header=0, na_values=[\"?\"])\n",
    "hd3.info()"
   ]
  },
  {
   "cell_type": "code",
   "execution_count": 6,
   "id": "c09f41a5",
   "metadata": {},
   "outputs": [
    {
     "name": "stdout",
     "output_type": "stream",
     "text": [
      "<class 'pandas.core.frame.DataFrame'>\n",
      "RangeIndex: 299 entries, 0 to 298\n",
      "Data columns (total 28 columns):\n",
      " #   Column                       Non-Null Count  Dtype  \n",
      "---  ------                       --------------  -----  \n",
      " 0   surgery?                     298 non-null    float64\n",
      " 1   Age                          299 non-null    int64  \n",
      " 2   Hospital Number              299 non-null    int64  \n",
      " 3   rectal temperature           239 non-null    float64\n",
      " 4   pulse                        275 non-null    float64\n",
      " 5   respiratory rate             241 non-null    float64\n",
      " 6   temperature of extremities   243 non-null    float64\n",
      " 7   peripheral pulse             230 non-null    float64\n",
      " 8   mucous membranes             253 non-null    float64\n",
      " 9   capillary refill time        267 non-null    float64\n",
      " 10  pain                         244 non-null    float64\n",
      " 11  peristalsis                  255 non-null    float64\n",
      " 12  abdominal distension         243 non-null    float64\n",
      " 13  nasogastric tube             196 non-null    float64\n",
      " 14  nasogastric reflux           194 non-null    float64\n",
      " 15  nasogastric reflux PH        53 non-null     float64\n",
      " 16  rectal examination - feces   197 non-null    float64\n",
      " 17  abdomen                      181 non-null    float64\n",
      " 18  packed cell volume           270 non-null    float64\n",
      " 19  total protein                266 non-null    float64\n",
      " 20  abdominocentesis appearance  135 non-null    float64\n",
      " 21  abdomcentesis total protein  102 non-null    float64\n",
      " 22  outcome                      298 non-null    float64\n",
      " 23  surgical lesion?             299 non-null    int64  \n",
      " 24  type of lesion 1             299 non-null    int64  \n",
      " 25  type of lesion 2             299 non-null    int64  \n",
      " 26  type of lesion 3             299 non-null    int64  \n",
      " 27  cp_data                      299 non-null    int64  \n",
      "dtypes: float64(21), int64(7)\n",
      "memory usage: 65.5 KB\n"
     ]
    }
   ],
   "source": [
    "hd3.info()"
   ]
  },
  {
   "cell_type": "markdown",
   "id": "93044162",
   "metadata": {},
   "source": [
    "В соответствии с описанием \n",
    "\n",
    "- surgery?\n",
    "- temperature of extremities\n",
    "- peripheral pulse\n",
    "- mucous membranes\n",
    "- capillary refill time\n",
    "- pain\n",
    "- peristalsis\n",
    "- abdominal distension\n",
    "- nasogastric tube\n",
    "- nasogastric reflux\n",
    "- rectal examination - feces\n",
    "- abdomen\n",
    "- abdominocentesis appearance\n",
    "- outcome\n",
    "\n",
    "суть категориальные данные, соответственно, их нужно перевести из float в int:"
   ]
  },
  {
   "cell_type": "code",
   "execution_count": 7,
   "id": "4c298b88",
   "metadata": {},
   "outputs": [],
   "source": [
    "hd3['surgery?'] = hd3['surgery?'].astype('Int64')\n",
    "hd3['temperature of extremities'] = hd3['temperature of extremities'].astype('Int64')\n",
    "hd3['peripheral pulse'] = hd3['peripheral pulse'].astype('Int64')\n",
    "hd3['mucous membranes'] = hd3['mucous membranes'].astype('Int64')\n",
    "hd3['capillary refill time'] = hd3['capillary refill time'].astype('Int64')\n",
    "hd3['pain'] = hd3['pain'].astype('Int64')\n",
    "hd3['peristalsis'] = hd3['peristalsis'].astype('Int64')\n",
    "hd3['abdominal distension'] = hd3['abdominal distension'].astype('Int64')\n",
    "hd3['nasogastric tube'] = hd3['nasogastric tube'].astype('Int64')\n",
    "hd3['nasogastric reflux'] = hd3['nasogastric reflux'].astype('Int64')\n",
    "hd3['rectal examination - feces'] = hd3['rectal examination - feces'].astype('Int64')\n",
    "hd3['abdomen'] = hd3['abdomen'].astype('Int64')\n",
    "hd3['abdominocentesis appearance'] = hd3['abdominocentesis appearance'].astype('Int64')\n",
    "hd3['outcome'] = hd3['outcome'].astype('Int64')"
   ]
  },
  {
   "cell_type": "code",
   "execution_count": 8,
   "id": "d4d792f6",
   "metadata": {},
   "outputs": [
    {
     "name": "stdout",
     "output_type": "stream",
     "text": [
      "<class 'pandas.core.frame.DataFrame'>\n",
      "RangeIndex: 299 entries, 0 to 298\n",
      "Data columns (total 28 columns):\n",
      " #   Column                       Non-Null Count  Dtype  \n",
      "---  ------                       --------------  -----  \n",
      " 0   surgery?                     298 non-null    Int64  \n",
      " 1   Age                          299 non-null    int64  \n",
      " 2   Hospital Number              299 non-null    int64  \n",
      " 3   rectal temperature           239 non-null    float64\n",
      " 4   pulse                        275 non-null    float64\n",
      " 5   respiratory rate             241 non-null    float64\n",
      " 6   temperature of extremities   243 non-null    Int64  \n",
      " 7   peripheral pulse             230 non-null    Int64  \n",
      " 8   mucous membranes             253 non-null    Int64  \n",
      " 9   capillary refill time        267 non-null    Int64  \n",
      " 10  pain                         244 non-null    Int64  \n",
      " 11  peristalsis                  255 non-null    Int64  \n",
      " 12  abdominal distension         243 non-null    Int64  \n",
      " 13  nasogastric tube             196 non-null    Int64  \n",
      " 14  nasogastric reflux           194 non-null    Int64  \n",
      " 15  nasogastric reflux PH        53 non-null     float64\n",
      " 16  rectal examination - feces   197 non-null    Int64  \n",
      " 17  abdomen                      181 non-null    Int64  \n",
      " 18  packed cell volume           270 non-null    float64\n",
      " 19  total protein                266 non-null    float64\n",
      " 20  abdominocentesis appearance  135 non-null    Int64  \n",
      " 21  abdomcentesis total protein  102 non-null    float64\n",
      " 22  outcome                      298 non-null    Int64  \n",
      " 23  surgical lesion?             299 non-null    int64  \n",
      " 24  type of lesion 1             299 non-null    int64  \n",
      " 25  type of lesion 2             299 non-null    int64  \n",
      " 26  type of lesion 3             299 non-null    int64  \n",
      " 27  cp_data                      299 non-null    int64  \n",
      "dtypes: Int64(14), float64(7), int64(7)\n",
      "memory usage: 69.6 KB\n"
     ]
    }
   ],
   "source": [
    "hd3.info()"
   ]
  },
  {
   "cell_type": "markdown",
   "id": "d87b243b",
   "metadata": {},
   "source": [
    "В соответствии с описанием\n",
    "\n",
    "- surgery?\n",
    "- Age\n",
    "- temperature of extremities\n",
    "- peripheral pulse\n",
    "- mucous membranes\n",
    "- capillary refill time\n",
    "- pain\n",
    "- peristalsis\n",
    "- abdominal distension\n",
    "- nasogastric tube\n",
    "- nasogastric reflux\n",
    "- rectal examination - feces\n",
    "- abdomen\n",
    "- abdominocentesis appearance\n",
    "- outcome\n",
    "\n",
    "суть категориальные данные, посмотрим, принимают ли они значения, соответствующие описанию:"
   ]
  },
  {
   "cell_type": "code",
   "execution_count": 9,
   "id": "03379b3f",
   "metadata": {},
   "outputs": [
    {
     "data": {
      "text/plain": [
       "<IntegerArray>\n",
       "[1, 2, <NA>]\n",
       "Length: 3, dtype: Int64"
      ]
     },
     "execution_count": 9,
     "metadata": {},
     "output_type": "execute_result"
    }
   ],
   "source": [
    "hd3['surgery?'].unique()"
   ]
  },
  {
   "cell_type": "code",
   "execution_count": 10,
   "id": "c6837827",
   "metadata": {},
   "outputs": [
    {
     "data": {
      "text/plain": [
       "array([1, 9])"
      ]
     },
     "execution_count": 10,
     "metadata": {},
     "output_type": "execute_result"
    }
   ],
   "source": [
    "hd3['Age'].unique()"
   ]
  },
  {
   "cell_type": "code",
   "execution_count": 11,
   "id": "ebb79100",
   "metadata": {},
   "outputs": [
    {
     "data": {
      "text/plain": [
       "<IntegerArray>\n",
       "[<NA>, 1, 4, 2, 3]\n",
       "Length: 5, dtype: Int64"
      ]
     },
     "execution_count": 11,
     "metadata": {},
     "output_type": "execute_result"
    }
   ],
   "source": [
    "hd3['temperature of extremities'].unique()"
   ]
  },
  {
   "cell_type": "code",
   "execution_count": 12,
   "id": "e0e5702b",
   "metadata": {},
   "outputs": [
    {
     "data": {
      "text/plain": [
       "<IntegerArray>\n",
       "[<NA>, 1, 4, 3, 2]\n",
       "Length: 5, dtype: Int64"
      ]
     },
     "execution_count": 12,
     "metadata": {},
     "output_type": "execute_result"
    }
   ],
   "source": [
    "hd3['peripheral pulse'].unique()"
   ]
  },
  {
   "cell_type": "code",
   "execution_count": 13,
   "id": "35ee69de",
   "metadata": {},
   "outputs": [
    {
     "data": {
      "text/plain": [
       "<IntegerArray>\n",
       "[4, 3, 6, 1, <NA>, 5, 2]\n",
       "Length: 7, dtype: Int64"
      ]
     },
     "execution_count": 13,
     "metadata": {},
     "output_type": "execute_result"
    }
   ],
   "source": [
    "hd3['mucous membranes'].unique()"
   ]
  },
  {
   "cell_type": "code",
   "execution_count": 14,
   "id": "f7642baa",
   "metadata": {},
   "outputs": [
    {
     "data": {
      "text/plain": [
       "<IntegerArray>\n",
       "[1, 2, <NA>, 3]\n",
       "Length: 4, dtype: Int64"
      ]
     },
     "execution_count": 14,
     "metadata": {},
     "output_type": "execute_result"
    }
   ],
   "source": [
    "hd3['capillary refill time'].unique()"
   ]
  },
  {
   "cell_type": "code",
   "execution_count": 15,
   "id": "28834101",
   "metadata": {},
   "outputs": [
    {
     "data": {
      "text/plain": [
       "<IntegerArray>\n",
       "[3, 2, <NA>, 4, 5, 1]\n",
       "Length: 6, dtype: Int64"
      ]
     },
     "execution_count": 15,
     "metadata": {},
     "output_type": "execute_result"
    }
   ],
   "source": [
    "hd3['pain'].unique()"
   ]
  },
  {
   "cell_type": "code",
   "execution_count": 16,
   "id": "41bb0746",
   "metadata": {},
   "outputs": [
    {
     "data": {
      "text/plain": [
       "<IntegerArray>\n",
       "[4, 3, <NA>, 1, 2]\n",
       "Length: 5, dtype: Int64"
      ]
     },
     "execution_count": 16,
     "metadata": {},
     "output_type": "execute_result"
    }
   ],
   "source": [
    "hd3['peristalsis'].unique()"
   ]
  },
  {
   "cell_type": "code",
   "execution_count": 17,
   "id": "95388fd4",
   "metadata": {},
   "outputs": [
    {
     "data": {
      "text/plain": [
       "<IntegerArray>\n",
       "[2, 1, 4, <NA>, 3]\n",
       "Length: 5, dtype: Int64"
      ]
     },
     "execution_count": 17,
     "metadata": {},
     "output_type": "execute_result"
    }
   ],
   "source": [
    "hd3['abdominal distension'].unique()"
   ]
  },
  {
   "cell_type": "code",
   "execution_count": 18,
   "id": "46d50b53",
   "metadata": {},
   "outputs": [
    {
     "data": {
      "text/plain": [
       "<IntegerArray>\n",
       "[<NA>, 1, 2, 3]\n",
       "Length: 4, dtype: Int64"
      ]
     },
     "execution_count": 18,
     "metadata": {},
     "output_type": "execute_result"
    }
   ],
   "source": [
    "hd3['nasogastric tube'].unique()"
   ]
  },
  {
   "cell_type": "code",
   "execution_count": 19,
   "id": "1f12c67c",
   "metadata": {},
   "outputs": [
    {
     "data": {
      "text/plain": [
       "<IntegerArray>\n",
       "[<NA>, 2, 1, 3]\n",
       "Length: 4, dtype: Int64"
      ]
     },
     "execution_count": 19,
     "metadata": {},
     "output_type": "execute_result"
    }
   ],
   "source": [
    "hd3['nasogastric reflux'].unique()"
   ]
  },
  {
   "cell_type": "code",
   "execution_count": 20,
   "id": "a538d417",
   "metadata": {},
   "outputs": [
    {
     "data": {
      "text/plain": [
       "<IntegerArray>\n",
       "[4, 1, 3, <NA>, 2]\n",
       "Length: 5, dtype: Int64"
      ]
     },
     "execution_count": 20,
     "metadata": {},
     "output_type": "execute_result"
    }
   ],
   "source": [
    "hd3['rectal examination - feces'].unique()"
   ]
  },
  {
   "cell_type": "code",
   "execution_count": 21,
   "id": "be050f1f",
   "metadata": {},
   "outputs": [
    {
     "data": {
      "text/plain": [
       "<IntegerArray>\n",
       "[2, 1, <NA>, 3, 5, 4]\n",
       "Length: 6, dtype: Int64"
      ]
     },
     "execution_count": 21,
     "metadata": {},
     "output_type": "execute_result"
    }
   ],
   "source": [
    "hd3['abdomen'].unique()"
   ]
  },
  {
   "cell_type": "code",
   "execution_count": 22,
   "id": "5e29f19a",
   "metadata": {},
   "outputs": [
    {
     "data": {
      "text/plain": [
       "<IntegerArray>\n",
       "[2, <NA>, 3, 1]\n",
       "Length: 4, dtype: Int64"
      ]
     },
     "execution_count": 22,
     "metadata": {},
     "output_type": "execute_result"
    }
   ],
   "source": [
    "hd3['abdominocentesis appearance'].unique()"
   ]
  },
  {
   "cell_type": "code",
   "execution_count": 23,
   "id": "c71b0975",
   "metadata": {},
   "outputs": [
    {
     "data": {
      "text/plain": [
       "<IntegerArray>\n",
       "[3, 1, 2, <NA>]\n",
       "Length: 4, dtype: Int64"
      ]
     },
     "execution_count": 23,
     "metadata": {},
     "output_type": "execute_result"
    }
   ],
   "source": [
    "hd3['outcome'].unique()"
   ]
  },
  {
   "cell_type": "markdown",
   "id": "f4bfbcef",
   "metadata": {},
   "source": [
    "Обнаружены проблемы со столбцами \n",
    "- Age (вместо категорий 1 и 2 имеются категории 1 и 9)\n",
    "- capillary refill time (вместо двух категорий 1 и 2 имеются три категории 1, 2 и 3)"
   ]
  },
  {
   "cell_type": "code",
   "execution_count": 24,
   "id": "935a7577",
   "metadata": {},
   "outputs": [
    {
     "data": {
      "text/plain": [
       "275"
      ]
     },
     "execution_count": 24,
     "metadata": {},
     "output_type": "execute_result"
    }
   ],
   "source": [
    "len(hd3[(hd3['Age']) == 1])"
   ]
  },
  {
   "cell_type": "code",
   "execution_count": 25,
   "id": "1079389b",
   "metadata": {},
   "outputs": [
    {
     "data": {
      "text/plain": [
       "24"
      ]
     },
     "execution_count": 25,
     "metadata": {},
     "output_type": "execute_result"
    }
   ],
   "source": [
    "len(hd3[(hd3['Age']) == 9])"
   ]
  },
  {
   "cell_type": "code",
   "execution_count": 26,
   "id": "7d24a71b",
   "metadata": {},
   "outputs": [
    {
     "data": {
      "text/plain": [
       "188"
      ]
     },
     "execution_count": 26,
     "metadata": {},
     "output_type": "execute_result"
    }
   ],
   "source": [
    "len(hd3[(hd3['capillary refill time']) == 1])"
   ]
  },
  {
   "cell_type": "code",
   "execution_count": 27,
   "id": "836604da",
   "metadata": {},
   "outputs": [
    {
     "data": {
      "text/plain": [
       "77"
      ]
     },
     "execution_count": 27,
     "metadata": {},
     "output_type": "execute_result"
    }
   ],
   "source": [
    "len(hd3[(hd3['capillary refill time']) == 2])"
   ]
  },
  {
   "cell_type": "code",
   "execution_count": 28,
   "id": "1c9cbfb2",
   "metadata": {},
   "outputs": [
    {
     "data": {
      "text/plain": [
       "2"
      ]
     },
     "execution_count": 28,
     "metadata": {},
     "output_type": "execute_result"
    }
   ],
   "source": [
    "len(hd3[(hd3['capillary refill time']) == 3])"
   ]
  },
  {
   "cell_type": "markdown",
   "id": "17d1dae3",
   "metadata": {},
   "source": [
    "Судя по всему в \n",
    "\n",
    "- Age - 9 (24 случая) - это методическая ошибка ввода и, как представляется, должна быть заменена на 2\n",
    "\n",
    "- capillary refill time 3 - ошибка ввода (2 случая), которую пока следует заменить на NaN)"
   ]
  },
  {
   "cell_type": "code",
   "execution_count": 29,
   "id": "22c67729",
   "metadata": {},
   "outputs": [],
   "source": [
    "hd3['Age'] = hd3['Age'].replace(9, 2)"
   ]
  },
  {
   "cell_type": "code",
   "execution_count": 30,
   "id": "f8752baa",
   "metadata": {},
   "outputs": [
    {
     "data": {
      "text/plain": [
       "array([1, 2])"
      ]
     },
     "execution_count": 30,
     "metadata": {},
     "output_type": "execute_result"
    }
   ],
   "source": [
    "hd3['Age'].unique()"
   ]
  },
  {
   "cell_type": "code",
   "execution_count": 31,
   "id": "6ba45c4a",
   "metadata": {},
   "outputs": [
    {
     "name": "stdout",
     "output_type": "stream",
     "text": [
      "<class 'pandas.core.frame.DataFrame'>\n",
      "RangeIndex: 299 entries, 0 to 298\n",
      "Data columns (total 28 columns):\n",
      " #   Column                       Non-Null Count  Dtype  \n",
      "---  ------                       --------------  -----  \n",
      " 0   surgery?                     298 non-null    Int64  \n",
      " 1   Age                          299 non-null    int64  \n",
      " 2   Hospital Number              299 non-null    int64  \n",
      " 3   rectal temperature           239 non-null    float64\n",
      " 4   pulse                        275 non-null    float64\n",
      " 5   respiratory rate             241 non-null    float64\n",
      " 6   temperature of extremities   243 non-null    Int64  \n",
      " 7   peripheral pulse             230 non-null    Int64  \n",
      " 8   mucous membranes             253 non-null    Int64  \n",
      " 9   capillary refill time        267 non-null    Int64  \n",
      " 10  pain                         244 non-null    Int64  \n",
      " 11  peristalsis                  255 non-null    Int64  \n",
      " 12  abdominal distension         243 non-null    Int64  \n",
      " 13  nasogastric tube             196 non-null    Int64  \n",
      " 14  nasogastric reflux           194 non-null    Int64  \n",
      " 15  nasogastric reflux PH        53 non-null     float64\n",
      " 16  rectal examination - feces   197 non-null    Int64  \n",
      " 17  abdomen                      181 non-null    Int64  \n",
      " 18  packed cell volume           270 non-null    float64\n",
      " 19  total protein                266 non-null    float64\n",
      " 20  abdominocentesis appearance  135 non-null    Int64  \n",
      " 21  abdomcentesis total protein  102 non-null    float64\n",
      " 22  outcome                      298 non-null    Int64  \n",
      " 23  surgical lesion?             299 non-null    int64  \n",
      " 24  type of lesion 1             299 non-null    int64  \n",
      " 25  type of lesion 2             299 non-null    int64  \n",
      " 26  type of lesion 3             299 non-null    int64  \n",
      " 27  cp_data                      299 non-null    int64  \n",
      "dtypes: Int64(14), float64(7), int64(7)\n",
      "memory usage: 69.6 KB\n"
     ]
    }
   ],
   "source": [
    "hd3.info()"
   ]
  },
  {
   "cell_type": "code",
   "execution_count": 32,
   "id": "46c48774",
   "metadata": {},
   "outputs": [
    {
     "data": {
      "text/html": [
       "<div>\n",
       "<style scoped>\n",
       "    .dataframe tbody tr th:only-of-type {\n",
       "        vertical-align: middle;\n",
       "    }\n",
       "\n",
       "    .dataframe tbody tr th {\n",
       "        vertical-align: top;\n",
       "    }\n",
       "\n",
       "    .dataframe thead th {\n",
       "        text-align: right;\n",
       "    }\n",
       "</style>\n",
       "<table border=\"1\" class=\"dataframe\">\n",
       "  <thead>\n",
       "    <tr style=\"text-align: right;\">\n",
       "      <th></th>\n",
       "      <th>surgery?</th>\n",
       "      <th>Age</th>\n",
       "      <th>Hospital Number</th>\n",
       "      <th>rectal temperature</th>\n",
       "      <th>pulse</th>\n",
       "      <th>respiratory rate</th>\n",
       "      <th>temperature of extremities</th>\n",
       "      <th>peripheral pulse</th>\n",
       "      <th>mucous membranes</th>\n",
       "      <th>capillary refill time</th>\n",
       "      <th>...</th>\n",
       "      <th>packed cell volume</th>\n",
       "      <th>total protein</th>\n",
       "      <th>abdominocentesis appearance</th>\n",
       "      <th>abdomcentesis total protein</th>\n",
       "      <th>outcome</th>\n",
       "      <th>surgical lesion?</th>\n",
       "      <th>type of lesion 1</th>\n",
       "      <th>type of lesion 2</th>\n",
       "      <th>type of lesion 3</th>\n",
       "      <th>cp_data</th>\n",
       "    </tr>\n",
       "  </thead>\n",
       "  <tbody>\n",
       "    <tr>\n",
       "      <th>0</th>\n",
       "      <td>1</td>\n",
       "      <td>1</td>\n",
       "      <td>534817</td>\n",
       "      <td>39.2</td>\n",
       "      <td>88.0</td>\n",
       "      <td>20.0</td>\n",
       "      <td>&lt;NA&gt;</td>\n",
       "      <td>&lt;NA&gt;</td>\n",
       "      <td>4</td>\n",
       "      <td>1</td>\n",
       "      <td>...</td>\n",
       "      <td>50.0</td>\n",
       "      <td>85.0</td>\n",
       "      <td>2</td>\n",
       "      <td>2.0</td>\n",
       "      <td>3</td>\n",
       "      <td>2</td>\n",
       "      <td>2208</td>\n",
       "      <td>0</td>\n",
       "      <td>0</td>\n",
       "      <td>2</td>\n",
       "    </tr>\n",
       "    <tr>\n",
       "      <th>1</th>\n",
       "      <td>2</td>\n",
       "      <td>1</td>\n",
       "      <td>530334</td>\n",
       "      <td>38.3</td>\n",
       "      <td>40.0</td>\n",
       "      <td>24.0</td>\n",
       "      <td>1</td>\n",
       "      <td>1</td>\n",
       "      <td>3</td>\n",
       "      <td>1</td>\n",
       "      <td>...</td>\n",
       "      <td>33.0</td>\n",
       "      <td>6.7</td>\n",
       "      <td>&lt;NA&gt;</td>\n",
       "      <td>NaN</td>\n",
       "      <td>1</td>\n",
       "      <td>2</td>\n",
       "      <td>0</td>\n",
       "      <td>0</td>\n",
       "      <td>0</td>\n",
       "      <td>1</td>\n",
       "    </tr>\n",
       "    <tr>\n",
       "      <th>2</th>\n",
       "      <td>1</td>\n",
       "      <td>2</td>\n",
       "      <td>5290409</td>\n",
       "      <td>39.1</td>\n",
       "      <td>164.0</td>\n",
       "      <td>84.0</td>\n",
       "      <td>4</td>\n",
       "      <td>1</td>\n",
       "      <td>6</td>\n",
       "      <td>2</td>\n",
       "      <td>...</td>\n",
       "      <td>48.0</td>\n",
       "      <td>7.2</td>\n",
       "      <td>3</td>\n",
       "      <td>5.3</td>\n",
       "      <td>2</td>\n",
       "      <td>1</td>\n",
       "      <td>2208</td>\n",
       "      <td>0</td>\n",
       "      <td>0</td>\n",
       "      <td>1</td>\n",
       "    </tr>\n",
       "    <tr>\n",
       "      <th>3</th>\n",
       "      <td>2</td>\n",
       "      <td>1</td>\n",
       "      <td>530255</td>\n",
       "      <td>37.3</td>\n",
       "      <td>104.0</td>\n",
       "      <td>35.0</td>\n",
       "      <td>&lt;NA&gt;</td>\n",
       "      <td>&lt;NA&gt;</td>\n",
       "      <td>6</td>\n",
       "      <td>2</td>\n",
       "      <td>...</td>\n",
       "      <td>74.0</td>\n",
       "      <td>7.4</td>\n",
       "      <td>&lt;NA&gt;</td>\n",
       "      <td>NaN</td>\n",
       "      <td>2</td>\n",
       "      <td>2</td>\n",
       "      <td>4300</td>\n",
       "      <td>0</td>\n",
       "      <td>0</td>\n",
       "      <td>2</td>\n",
       "    </tr>\n",
       "    <tr>\n",
       "      <th>4</th>\n",
       "      <td>2</td>\n",
       "      <td>1</td>\n",
       "      <td>528355</td>\n",
       "      <td>NaN</td>\n",
       "      <td>NaN</td>\n",
       "      <td>NaN</td>\n",
       "      <td>2</td>\n",
       "      <td>1</td>\n",
       "      <td>3</td>\n",
       "      <td>1</td>\n",
       "      <td>...</td>\n",
       "      <td>NaN</td>\n",
       "      <td>NaN</td>\n",
       "      <td>&lt;NA&gt;</td>\n",
       "      <td>NaN</td>\n",
       "      <td>1</td>\n",
       "      <td>2</td>\n",
       "      <td>0</td>\n",
       "      <td>0</td>\n",
       "      <td>0</td>\n",
       "      <td>2</td>\n",
       "    </tr>\n",
       "    <tr>\n",
       "      <th>5</th>\n",
       "      <td>1</td>\n",
       "      <td>1</td>\n",
       "      <td>526802</td>\n",
       "      <td>37.9</td>\n",
       "      <td>48.0</td>\n",
       "      <td>16.0</td>\n",
       "      <td>1</td>\n",
       "      <td>1</td>\n",
       "      <td>1</td>\n",
       "      <td>1</td>\n",
       "      <td>...</td>\n",
       "      <td>37.0</td>\n",
       "      <td>7.0</td>\n",
       "      <td>&lt;NA&gt;</td>\n",
       "      <td>NaN</td>\n",
       "      <td>1</td>\n",
       "      <td>1</td>\n",
       "      <td>3124</td>\n",
       "      <td>0</td>\n",
       "      <td>0</td>\n",
       "      <td>2</td>\n",
       "    </tr>\n",
       "    <tr>\n",
       "      <th>6</th>\n",
       "      <td>1</td>\n",
       "      <td>1</td>\n",
       "      <td>529607</td>\n",
       "      <td>NaN</td>\n",
       "      <td>60.0</td>\n",
       "      <td>NaN</td>\n",
       "      <td>3</td>\n",
       "      <td>&lt;NA&gt;</td>\n",
       "      <td>&lt;NA&gt;</td>\n",
       "      <td>1</td>\n",
       "      <td>...</td>\n",
       "      <td>44.0</td>\n",
       "      <td>8.3</td>\n",
       "      <td>&lt;NA&gt;</td>\n",
       "      <td>NaN</td>\n",
       "      <td>2</td>\n",
       "      <td>1</td>\n",
       "      <td>2208</td>\n",
       "      <td>0</td>\n",
       "      <td>0</td>\n",
       "      <td>2</td>\n",
       "    </tr>\n",
       "    <tr>\n",
       "      <th>7</th>\n",
       "      <td>2</td>\n",
       "      <td>1</td>\n",
       "      <td>530051</td>\n",
       "      <td>NaN</td>\n",
       "      <td>80.0</td>\n",
       "      <td>36.0</td>\n",
       "      <td>3</td>\n",
       "      <td>4</td>\n",
       "      <td>3</td>\n",
       "      <td>1</td>\n",
       "      <td>...</td>\n",
       "      <td>38.0</td>\n",
       "      <td>6.2</td>\n",
       "      <td>&lt;NA&gt;</td>\n",
       "      <td>NaN</td>\n",
       "      <td>3</td>\n",
       "      <td>1</td>\n",
       "      <td>3205</td>\n",
       "      <td>0</td>\n",
       "      <td>0</td>\n",
       "      <td>2</td>\n",
       "    </tr>\n",
       "    <tr>\n",
       "      <th>8</th>\n",
       "      <td>2</td>\n",
       "      <td>2</td>\n",
       "      <td>5299629</td>\n",
       "      <td>38.3</td>\n",
       "      <td>90.0</td>\n",
       "      <td>NaN</td>\n",
       "      <td>1</td>\n",
       "      <td>&lt;NA&gt;</td>\n",
       "      <td>1</td>\n",
       "      <td>1</td>\n",
       "      <td>...</td>\n",
       "      <td>40.0</td>\n",
       "      <td>6.2</td>\n",
       "      <td>1</td>\n",
       "      <td>2.2</td>\n",
       "      <td>1</td>\n",
       "      <td>2</td>\n",
       "      <td>0</td>\n",
       "      <td>0</td>\n",
       "      <td>0</td>\n",
       "      <td>1</td>\n",
       "    </tr>\n",
       "    <tr>\n",
       "      <th>9</th>\n",
       "      <td>1</td>\n",
       "      <td>1</td>\n",
       "      <td>528548</td>\n",
       "      <td>38.1</td>\n",
       "      <td>66.0</td>\n",
       "      <td>12.0</td>\n",
       "      <td>3</td>\n",
       "      <td>3</td>\n",
       "      <td>5</td>\n",
       "      <td>1</td>\n",
       "      <td>...</td>\n",
       "      <td>44.0</td>\n",
       "      <td>6.0</td>\n",
       "      <td>2</td>\n",
       "      <td>3.6</td>\n",
       "      <td>1</td>\n",
       "      <td>1</td>\n",
       "      <td>2124</td>\n",
       "      <td>0</td>\n",
       "      <td>0</td>\n",
       "      <td>1</td>\n",
       "    </tr>\n",
       "  </tbody>\n",
       "</table>\n",
       "<p>10 rows × 28 columns</p>\n",
       "</div>"
      ],
      "text/plain": [
       "   surgery?  Age  Hospital Number  rectal temperature  pulse  \\\n",
       "0         1    1           534817                39.2   88.0   \n",
       "1         2    1           530334                38.3   40.0   \n",
       "2         1    2          5290409                39.1  164.0   \n",
       "3         2    1           530255                37.3  104.0   \n",
       "4         2    1           528355                 NaN    NaN   \n",
       "5         1    1           526802                37.9   48.0   \n",
       "6         1    1           529607                 NaN   60.0   \n",
       "7         2    1           530051                 NaN   80.0   \n",
       "8         2    2          5299629                38.3   90.0   \n",
       "9         1    1           528548                38.1   66.0   \n",
       "\n",
       "   respiratory rate  temperature of extremities  peripheral pulse  \\\n",
       "0              20.0                        <NA>              <NA>   \n",
       "1              24.0                           1                 1   \n",
       "2              84.0                           4                 1   \n",
       "3              35.0                        <NA>              <NA>   \n",
       "4               NaN                           2                 1   \n",
       "5              16.0                           1                 1   \n",
       "6               NaN                           3              <NA>   \n",
       "7              36.0                           3                 4   \n",
       "8               NaN                           1              <NA>   \n",
       "9              12.0                           3                 3   \n",
       "\n",
       "   mucous membranes  capillary refill time  ...  packed cell volume  \\\n",
       "0                 4                      1  ...                50.0   \n",
       "1                 3                      1  ...                33.0   \n",
       "2                 6                      2  ...                48.0   \n",
       "3                 6                      2  ...                74.0   \n",
       "4                 3                      1  ...                 NaN   \n",
       "5                 1                      1  ...                37.0   \n",
       "6              <NA>                      1  ...                44.0   \n",
       "7                 3                      1  ...                38.0   \n",
       "8                 1                      1  ...                40.0   \n",
       "9                 5                      1  ...                44.0   \n",
       "\n",
       "   total protein  abdominocentesis appearance  abdomcentesis total protein  \\\n",
       "0           85.0                            2                          2.0   \n",
       "1            6.7                         <NA>                          NaN   \n",
       "2            7.2                            3                          5.3   \n",
       "3            7.4                         <NA>                          NaN   \n",
       "4            NaN                         <NA>                          NaN   \n",
       "5            7.0                         <NA>                          NaN   \n",
       "6            8.3                         <NA>                          NaN   \n",
       "7            6.2                         <NA>                          NaN   \n",
       "8            6.2                            1                          2.2   \n",
       "9            6.0                            2                          3.6   \n",
       "\n",
       "   outcome  surgical lesion?  type of lesion 1  type of lesion 2  \\\n",
       "0        3                 2              2208                 0   \n",
       "1        1                 2                 0                 0   \n",
       "2        2                 1              2208                 0   \n",
       "3        2                 2              4300                 0   \n",
       "4        1                 2                 0                 0   \n",
       "5        1                 1              3124                 0   \n",
       "6        2                 1              2208                 0   \n",
       "7        3                 1              3205                 0   \n",
       "8        1                 2                 0                 0   \n",
       "9        1                 1              2124                 0   \n",
       "\n",
       "   type of lesion 3  cp_data  \n",
       "0                 0        2  \n",
       "1                 0        1  \n",
       "2                 0        1  \n",
       "3                 0        2  \n",
       "4                 0        2  \n",
       "5                 0        2  \n",
       "6                 0        2  \n",
       "7                 0        2  \n",
       "8                 0        1  \n",
       "9                 0        1  \n",
       "\n",
       "[10 rows x 28 columns]"
      ]
     },
     "execution_count": 32,
     "metadata": {},
     "output_type": "execute_result"
    }
   ],
   "source": [
    "hd3.head(10)"
   ]
  },
  {
   "cell_type": "markdown",
   "id": "eb3a5cca",
   "metadata": {},
   "source": [
    "На этом этапе общий набор данных можно на время оставить (он, возможно, пригодится для восстановления данных в том наборе данных, который указан в дз). Сейчас же из общего датафрейма сформируем тот, который указан в дз:"
   ]
  },
  {
   "cell_type": "code",
   "execution_count": 33,
   "id": "b3225bfc",
   "metadata": {},
   "outputs": [
    {
     "name": "stdout",
     "output_type": "stream",
     "text": [
      "<class 'pandas.core.frame.DataFrame'>\n",
      "RangeIndex: 299 entries, 0 to 298\n",
      "Data columns (total 8 columns):\n",
      " #   Column                      Non-Null Count  Dtype  \n",
      "---  ------                      --------------  -----  \n",
      " 0   surgery?                    298 non-null    Int64  \n",
      " 1   Age                         299 non-null    int64  \n",
      " 2   rectal temperature          239 non-null    float64\n",
      " 3   pulse                       275 non-null    float64\n",
      " 4   respiratory rate            241 non-null    float64\n",
      " 5   temperature of extremities  243 non-null    Int64  \n",
      " 6   pain                        244 non-null    Int64  \n",
      " 7   outcome                     298 non-null    Int64  \n",
      "dtypes: Int64(4), float64(3), int64(1)\n",
      "memory usage: 20.0 KB\n"
     ]
    }
   ],
   "source": [
    "hd_set = hd3[['surgery?', \n",
    "             'Age',\n",
    "             'rectal temperature',\n",
    "             'pulse',\n",
    "             'respiratory rate',\n",
    "             'temperature of extremities',\n",
    "             'pain',\n",
    "             'outcome']]\n",
    "hd_set.info()"
   ]
  },
  {
   "cell_type": "markdown",
   "id": "32aaa603",
   "metadata": {},
   "source": [
    "Перед тем, как приступить к заполнению пропущенных данных, кажется правильным обратить внимание на то обстоятельство, что у нас нет данных в одном случае параметра 'outcome'. Как кажется, это та ситуация, когда совершенно недопустимо гадать, какова судьба лошади - умерла она (была усыплена), либо осталась жива. На мой взгляд, поскольку это ключевой параметр, а в задании требуется заполнение всех пропусков, то строку с пропуском по этому параметру желательно было бы удалить."
   ]
  },
  {
   "cell_type": "markdown",
   "id": "4a19b24b",
   "metadata": {},
   "source": [
    "Данные по этой лошади:"
   ]
  },
  {
   "cell_type": "code",
   "execution_count": 34,
   "id": "4e9c41a1",
   "metadata": {},
   "outputs": [
    {
     "data": {
      "text/html": [
       "<div>\n",
       "<style scoped>\n",
       "    .dataframe tbody tr th:only-of-type {\n",
       "        vertical-align: middle;\n",
       "    }\n",
       "\n",
       "    .dataframe tbody tr th {\n",
       "        vertical-align: top;\n",
       "    }\n",
       "\n",
       "    .dataframe thead th {\n",
       "        text-align: right;\n",
       "    }\n",
       "</style>\n",
       "<table border=\"1\" class=\"dataframe\">\n",
       "  <thead>\n",
       "    <tr style=\"text-align: right;\">\n",
       "      <th></th>\n",
       "      <th>surgery?</th>\n",
       "      <th>Age</th>\n",
       "      <th>Hospital Number</th>\n",
       "      <th>rectal temperature</th>\n",
       "      <th>pulse</th>\n",
       "      <th>respiratory rate</th>\n",
       "      <th>temperature of extremities</th>\n",
       "      <th>peripheral pulse</th>\n",
       "      <th>mucous membranes</th>\n",
       "      <th>capillary refill time</th>\n",
       "      <th>...</th>\n",
       "      <th>packed cell volume</th>\n",
       "      <th>total protein</th>\n",
       "      <th>abdominocentesis appearance</th>\n",
       "      <th>abdomcentesis total protein</th>\n",
       "      <th>outcome</th>\n",
       "      <th>surgical lesion?</th>\n",
       "      <th>type of lesion 1</th>\n",
       "      <th>type of lesion 2</th>\n",
       "      <th>type of lesion 3</th>\n",
       "      <th>cp_data</th>\n",
       "    </tr>\n",
       "  </thead>\n",
       "  <tbody>\n",
       "    <tr>\n",
       "      <th>131</th>\n",
       "      <td>&lt;NA&gt;</td>\n",
       "      <td>1</td>\n",
       "      <td>534572</td>\n",
       "      <td>38.0</td>\n",
       "      <td>48.0</td>\n",
       "      <td>20.0</td>\n",
       "      <td>3</td>\n",
       "      <td>1</td>\n",
       "      <td>3</td>\n",
       "      <td>1</td>\n",
       "      <td>...</td>\n",
       "      <td>43.0</td>\n",
       "      <td>73.0</td>\n",
       "      <td>2</td>\n",
       "      <td>1.0</td>\n",
       "      <td>&lt;NA&gt;</td>\n",
       "      <td>1</td>\n",
       "      <td>3111</td>\n",
       "      <td>0</td>\n",
       "      <td>0</td>\n",
       "      <td>2</td>\n",
       "    </tr>\n",
       "  </tbody>\n",
       "</table>\n",
       "<p>1 rows × 28 columns</p>\n",
       "</div>"
      ],
      "text/plain": [
       "     surgery?  Age  Hospital Number  rectal temperature  pulse  \\\n",
       "131      <NA>    1           534572                38.0   48.0   \n",
       "\n",
       "     respiratory rate  temperature of extremities  peripheral pulse  \\\n",
       "131              20.0                           3                 1   \n",
       "\n",
       "     mucous membranes  capillary refill time  ...  packed cell volume  \\\n",
       "131                 3                      1  ...                43.0   \n",
       "\n",
       "     total protein  abdominocentesis appearance  abdomcentesis total protein  \\\n",
       "131           73.0                            2                          1.0   \n",
       "\n",
       "     outcome  surgical lesion?  type of lesion 1  type of lesion 2  \\\n",
       "131     <NA>                 1              3111                 0   \n",
       "\n",
       "     type of lesion 3  cp_data  \n",
       "131                 0        2  \n",
       "\n",
       "[1 rows x 28 columns]"
      ]
     },
     "execution_count": 34,
     "metadata": {},
     "output_type": "execute_result"
    }
   ],
   "source": [
    "hd3[(hd3['outcome'].isna())]"
   ]
  },
  {
   "cell_type": "code",
   "execution_count": 35,
   "id": "c586ef3b",
   "metadata": {},
   "outputs": [
    {
     "name": "stdout",
     "output_type": "stream",
     "text": [
      "<class 'pandas.core.frame.DataFrame'>\n",
      "Int64Index: 1 entries, 131 to 131\n",
      "Data columns (total 28 columns):\n",
      " #   Column                       Non-Null Count  Dtype  \n",
      "---  ------                       --------------  -----  \n",
      " 0   surgery?                     0 non-null      Int64  \n",
      " 1   Age                          1 non-null      int64  \n",
      " 2   Hospital Number              1 non-null      int64  \n",
      " 3   rectal temperature           1 non-null      float64\n",
      " 4   pulse                        1 non-null      float64\n",
      " 5   respiratory rate             1 non-null      float64\n",
      " 6   temperature of extremities   1 non-null      Int64  \n",
      " 7   peripheral pulse             1 non-null      Int64  \n",
      " 8   mucous membranes             1 non-null      Int64  \n",
      " 9   capillary refill time        1 non-null      Int64  \n",
      " 10  pain                         1 non-null      Int64  \n",
      " 11  peristalsis                  1 non-null      Int64  \n",
      " 12  abdominal distension         1 non-null      Int64  \n",
      " 13  nasogastric tube             1 non-null      Int64  \n",
      " 14  nasogastric reflux           1 non-null      Int64  \n",
      " 15  nasogastric reflux PH        0 non-null      float64\n",
      " 16  rectal examination - feces   1 non-null      Int64  \n",
      " 17  abdomen                      1 non-null      Int64  \n",
      " 18  packed cell volume           1 non-null      float64\n",
      " 19  total protein                1 non-null      float64\n",
      " 20  abdominocentesis appearance  1 non-null      Int64  \n",
      " 21  abdomcentesis total protein  1 non-null      float64\n",
      " 22  outcome                      0 non-null      Int64  \n",
      " 23  surgical lesion?             1 non-null      int64  \n",
      " 24  type of lesion 1             1 non-null      int64  \n",
      " 25  type of lesion 2             1 non-null      int64  \n",
      " 26  type of lesion 3             1 non-null      int64  \n",
      " 27  cp_data                      1 non-null      int64  \n",
      "dtypes: Int64(14), float64(7), int64(7)\n",
      "memory usage: 246.0 bytes\n"
     ]
    }
   ],
   "source": [
    "hd3[(hd3['outcome'].isna())].info()"
   ]
  },
  {
   "cell_type": "markdown",
   "id": "24f453ba",
   "metadata": {},
   "source": [
    "удаляю (криво, не смог вспомнить как удалить строку)"
   ]
  },
  {
   "cell_type": "code",
   "execution_count": 38,
   "id": "3bea8483",
   "metadata": {},
   "outputs": [],
   "source": [
    "to_del = hd_set[ hd_set['outcome'].isna() ].index\n",
    "hd_set.drop(to_del , inplace=True)"
   ]
  },
  {
   "cell_type": "code",
   "execution_count": 39,
   "id": "26c69abb",
   "metadata": {},
   "outputs": [
    {
     "name": "stdout",
     "output_type": "stream",
     "text": [
      "<class 'pandas.core.frame.DataFrame'>\n",
      "Int64Index: 298 entries, 0 to 298\n",
      "Data columns (total 8 columns):\n",
      " #   Column                      Non-Null Count  Dtype  \n",
      "---  ------                      --------------  -----  \n",
      " 0   surgery?                    298 non-null    Int64  \n",
      " 1   Age                         298 non-null    int64  \n",
      " 2   rectal temperature          238 non-null    float64\n",
      " 3   pulse                       274 non-null    float64\n",
      " 4   respiratory rate            240 non-null    float64\n",
      " 5   temperature of extremities  242 non-null    Int64  \n",
      " 6   pain                        243 non-null    Int64  \n",
      " 7   outcome                     298 non-null    Int64  \n",
      "dtypes: Int64(4), float64(3), int64(1)\n",
      "memory usage: 30.2 KB\n"
     ]
    }
   ],
   "source": [
    "hd_set.info()"
   ]
  },
  {
   "cell_type": "code",
   "execution_count": 40,
   "id": "5024a889",
   "metadata": {},
   "outputs": [
    {
     "data": {
      "text/html": [
       "<div>\n",
       "<style scoped>\n",
       "    .dataframe tbody tr th:only-of-type {\n",
       "        vertical-align: middle;\n",
       "    }\n",
       "\n",
       "    .dataframe tbody tr th {\n",
       "        vertical-align: top;\n",
       "    }\n",
       "\n",
       "    .dataframe thead th {\n",
       "        text-align: right;\n",
       "    }\n",
       "</style>\n",
       "<table border=\"1\" class=\"dataframe\">\n",
       "  <thead>\n",
       "    <tr style=\"text-align: right;\">\n",
       "      <th></th>\n",
       "      <th>surgery?</th>\n",
       "      <th>Age</th>\n",
       "      <th>rectal temperature</th>\n",
       "      <th>pulse</th>\n",
       "      <th>respiratory rate</th>\n",
       "      <th>temperature of extremities</th>\n",
       "      <th>pain</th>\n",
       "      <th>outcome</th>\n",
       "    </tr>\n",
       "  </thead>\n",
       "  <tbody>\n",
       "    <tr>\n",
       "      <th>count</th>\n",
       "      <td>298.000000</td>\n",
       "      <td>298.000000</td>\n",
       "      <td>238.000000</td>\n",
       "      <td>274.000000</td>\n",
       "      <td>240.000000</td>\n",
       "      <td>242.000000</td>\n",
       "      <td>243.000000</td>\n",
       "      <td>298.000000</td>\n",
       "    </tr>\n",
       "    <tr>\n",
       "      <th>mean</th>\n",
       "      <td>1.395973</td>\n",
       "      <td>1.080537</td>\n",
       "      <td>38.167227</td>\n",
       "      <td>72.021898</td>\n",
       "      <td>30.470833</td>\n",
       "      <td>2.342975</td>\n",
       "      <td>2.938272</td>\n",
       "      <td>1.550336</td>\n",
       "    </tr>\n",
       "    <tr>\n",
       "      <th>std</th>\n",
       "      <td>0.489881</td>\n",
       "      <td>0.272580</td>\n",
       "      <td>0.734974</td>\n",
       "      <td>28.696330</td>\n",
       "      <td>17.702303</td>\n",
       "      <td>1.047687</td>\n",
       "      <td>1.304908</td>\n",
       "      <td>0.737967</td>\n",
       "    </tr>\n",
       "    <tr>\n",
       "      <th>min</th>\n",
       "      <td>1.000000</td>\n",
       "      <td>1.000000</td>\n",
       "      <td>35.400000</td>\n",
       "      <td>30.000000</td>\n",
       "      <td>8.000000</td>\n",
       "      <td>1.000000</td>\n",
       "      <td>1.000000</td>\n",
       "      <td>1.000000</td>\n",
       "    </tr>\n",
       "    <tr>\n",
       "      <th>25%</th>\n",
       "      <td>1.000000</td>\n",
       "      <td>1.000000</td>\n",
       "      <td>37.800000</td>\n",
       "      <td>48.000000</td>\n",
       "      <td>18.000000</td>\n",
       "      <td>1.000000</td>\n",
       "      <td>2.000000</td>\n",
       "      <td>1.000000</td>\n",
       "    </tr>\n",
       "    <tr>\n",
       "      <th>50%</th>\n",
       "      <td>1.000000</td>\n",
       "      <td>1.000000</td>\n",
       "      <td>38.200000</td>\n",
       "      <td>64.000000</td>\n",
       "      <td>24.500000</td>\n",
       "      <td>3.000000</td>\n",
       "      <td>3.000000</td>\n",
       "      <td>1.000000</td>\n",
       "    </tr>\n",
       "    <tr>\n",
       "      <th>75%</th>\n",
       "      <td>2.000000</td>\n",
       "      <td>1.000000</td>\n",
       "      <td>38.500000</td>\n",
       "      <td>88.000000</td>\n",
       "      <td>36.000000</td>\n",
       "      <td>3.000000</td>\n",
       "      <td>4.000000</td>\n",
       "      <td>2.000000</td>\n",
       "    </tr>\n",
       "    <tr>\n",
       "      <th>max</th>\n",
       "      <td>2.000000</td>\n",
       "      <td>2.000000</td>\n",
       "      <td>40.800000</td>\n",
       "      <td>184.000000</td>\n",
       "      <td>96.000000</td>\n",
       "      <td>4.000000</td>\n",
       "      <td>5.000000</td>\n",
       "      <td>3.000000</td>\n",
       "    </tr>\n",
       "  </tbody>\n",
       "</table>\n",
       "</div>"
      ],
      "text/plain": [
       "         surgery?         Age  rectal temperature       pulse  \\\n",
       "count  298.000000  298.000000          238.000000  274.000000   \n",
       "mean     1.395973    1.080537           38.167227   72.021898   \n",
       "std      0.489881    0.272580            0.734974   28.696330   \n",
       "min      1.000000    1.000000           35.400000   30.000000   \n",
       "25%      1.000000    1.000000           37.800000   48.000000   \n",
       "50%      1.000000    1.000000           38.200000   64.000000   \n",
       "75%      2.000000    1.000000           38.500000   88.000000   \n",
       "max      2.000000    2.000000           40.800000  184.000000   \n",
       "\n",
       "       respiratory rate  temperature of extremities        pain     outcome  \n",
       "count        240.000000                  242.000000  243.000000  298.000000  \n",
       "mean          30.470833                    2.342975    2.938272    1.550336  \n",
       "std           17.702303                    1.047687    1.304908    0.737967  \n",
       "min            8.000000                    1.000000    1.000000    1.000000  \n",
       "25%           18.000000                    1.000000    2.000000    1.000000  \n",
       "50%           24.500000                    3.000000    3.000000    1.000000  \n",
       "75%           36.000000                    3.000000    4.000000    2.000000  \n",
       "max           96.000000                    4.000000    5.000000    3.000000  "
      ]
     },
     "execution_count": 40,
     "metadata": {},
     "output_type": "execute_result"
    }
   ],
   "source": [
    "hd_set.describe()"
   ]
  },
  {
   "cell_type": "code",
   "execution_count": 41,
   "id": "4ceca7d9",
   "metadata": {},
   "outputs": [
    {
     "data": {
      "text/plain": [
       "surgery?                       0\n",
       "Age                            0\n",
       "rectal temperature            60\n",
       "pulse                         24\n",
       "respiratory rate              58\n",
       "temperature of extremities    56\n",
       "pain                          55\n",
       "outcome                        0\n",
       "dtype: int64"
      ]
     },
     "execution_count": 41,
     "metadata": {},
     "output_type": "execute_result"
    }
   ],
   "source": [
    "hd_set.isna().sum()"
   ]
  },
  {
   "cell_type": "markdown",
   "id": "6d0a5b64",
   "metadata": {},
   "source": [
    "Соответственно, теперь необходимо заполнить пропуски по 5 параметрам:\n",
    "\n",
    "- rectal temperature\n",
    "- pulse\n",
    "- respiratory rate\n",
    "- temperature of extremities\n",
    "- pain              "
   ]
  },
  {
   "cell_type": "markdown",
   "id": "c7d80e92",
   "metadata": {},
   "source": [
    "Что касается выбросов, то в вопросах параметров здоровья лошади мне трудно сказать, что является невозможным параметром. По категориальным параметрам мы выяснили, что все в рамках определений, по непрерывным значениям, как мне видится в рамках здравого смысла человека - не-ветеринара каких-то немыслимых экстремумов нет. На всякий случай посмотрим формально на выбросы:"
   ]
  },
  {
   "cell_type": "code",
   "execution_count": 42,
   "id": "166b55e5",
   "metadata": {},
   "outputs": [],
   "source": [
    "q1 = hd_set['rectal temperature'].quantile(0.25)\n",
    "q3 = hd_set['rectal temperature'].quantile(0.75)\n",
    "iqr = q3 - q1\n",
    "lower_bound = q1 - (1.5 * iqr) \n",
    "upper_bound = q3 + (1.5 * iqr)"
   ]
  },
  {
   "cell_type": "code",
   "execution_count": 43,
   "id": "0138fb2b",
   "metadata": {},
   "outputs": [
    {
     "data": {
      "text/plain": [
       "36.74999999999999"
      ]
     },
     "execution_count": 43,
     "metadata": {},
     "output_type": "execute_result"
    }
   ],
   "source": [
    "lower_bound"
   ]
  },
  {
   "cell_type": "code",
   "execution_count": 44,
   "id": "c8f25029",
   "metadata": {},
   "outputs": [
    {
     "data": {
      "text/plain": [
       "39.550000000000004"
      ]
     },
     "execution_count": 44,
     "metadata": {},
     "output_type": "execute_result"
    }
   ],
   "source": [
    "upper_bound"
   ]
  },
  {
   "cell_type": "code",
   "execution_count": 45,
   "id": "bd6ed636",
   "metadata": {},
   "outputs": [
    {
     "data": {
      "text/html": [
       "<div>\n",
       "<style scoped>\n",
       "    .dataframe tbody tr th:only-of-type {\n",
       "        vertical-align: middle;\n",
       "    }\n",
       "\n",
       "    .dataframe tbody tr th {\n",
       "        vertical-align: top;\n",
       "    }\n",
       "\n",
       "    .dataframe thead th {\n",
       "        text-align: right;\n",
       "    }\n",
       "</style>\n",
       "<table border=\"1\" class=\"dataframe\">\n",
       "  <thead>\n",
       "    <tr style=\"text-align: right;\">\n",
       "      <th></th>\n",
       "      <th>surgery?</th>\n",
       "      <th>Age</th>\n",
       "      <th>rectal temperature</th>\n",
       "      <th>pulse</th>\n",
       "      <th>respiratory rate</th>\n",
       "      <th>temperature of extremities</th>\n",
       "      <th>pain</th>\n",
       "      <th>outcome</th>\n",
       "    </tr>\n",
       "  </thead>\n",
       "  <tbody>\n",
       "    <tr>\n",
       "      <th>19</th>\n",
       "      <td>1</td>\n",
       "      <td>1</td>\n",
       "      <td>39.9</td>\n",
       "      <td>72.0</td>\n",
       "      <td>60.0</td>\n",
       "      <td>1</td>\n",
       "      <td>5</td>\n",
       "      <td>1</td>\n",
       "    </tr>\n",
       "    <tr>\n",
       "      <th>53</th>\n",
       "      <td>2</td>\n",
       "      <td>1</td>\n",
       "      <td>40.3</td>\n",
       "      <td>114.0</td>\n",
       "      <td>36.0</td>\n",
       "      <td>3</td>\n",
       "      <td>2</td>\n",
       "      <td>3</td>\n",
       "    </tr>\n",
       "    <tr>\n",
       "      <th>74</th>\n",
       "      <td>1</td>\n",
       "      <td>2</td>\n",
       "      <td>39.7</td>\n",
       "      <td>100.0</td>\n",
       "      <td>NaN</td>\n",
       "      <td>3</td>\n",
       "      <td>2</td>\n",
       "      <td>3</td>\n",
       "    </tr>\n",
       "    <tr>\n",
       "      <th>90</th>\n",
       "      <td>2</td>\n",
       "      <td>1</td>\n",
       "      <td>40.3</td>\n",
       "      <td>114.0</td>\n",
       "      <td>36.0</td>\n",
       "      <td>3</td>\n",
       "      <td>2</td>\n",
       "      <td>2</td>\n",
       "    </tr>\n",
       "    <tr>\n",
       "      <th>98</th>\n",
       "      <td>2</td>\n",
       "      <td>1</td>\n",
       "      <td>39.6</td>\n",
       "      <td>108.0</td>\n",
       "      <td>51.0</td>\n",
       "      <td>3</td>\n",
       "      <td>2</td>\n",
       "      <td>1</td>\n",
       "    </tr>\n",
       "    <tr>\n",
       "      <th>258</th>\n",
       "      <td>1</td>\n",
       "      <td>1</td>\n",
       "      <td>40.8</td>\n",
       "      <td>72.0</td>\n",
       "      <td>42.0</td>\n",
       "      <td>3</td>\n",
       "      <td>2</td>\n",
       "      <td>2</td>\n",
       "    </tr>\n",
       "    <tr>\n",
       "      <th>280</th>\n",
       "      <td>2</td>\n",
       "      <td>1</td>\n",
       "      <td>40.0</td>\n",
       "      <td>78.0</td>\n",
       "      <td>NaN</td>\n",
       "      <td>3</td>\n",
       "      <td>2</td>\n",
       "      <td>2</td>\n",
       "    </tr>\n",
       "  </tbody>\n",
       "</table>\n",
       "</div>"
      ],
      "text/plain": [
       "     surgery?  Age  rectal temperature  pulse  respiratory rate  \\\n",
       "19          1    1                39.9   72.0              60.0   \n",
       "53          2    1                40.3  114.0              36.0   \n",
       "74          1    2                39.7  100.0               NaN   \n",
       "90          2    1                40.3  114.0              36.0   \n",
       "98          2    1                39.6  108.0              51.0   \n",
       "258         1    1                40.8   72.0              42.0   \n",
       "280         2    1                40.0   78.0               NaN   \n",
       "\n",
       "     temperature of extremities  pain  outcome  \n",
       "19                            1     5        1  \n",
       "53                            3     2        3  \n",
       "74                            3     2        3  \n",
       "90                            3     2        2  \n",
       "98                            3     2        1  \n",
       "258                           3     2        2  \n",
       "280                           3     2        2  "
      ]
     },
     "execution_count": 45,
     "metadata": {},
     "output_type": "execute_result"
    }
   ],
   "source": [
    "hd_set[hd_set['rectal temperature'] > upper_bound]"
   ]
  },
  {
   "cell_type": "code",
   "execution_count": 46,
   "id": "48f52098",
   "metadata": {},
   "outputs": [
    {
     "data": {
      "text/html": [
       "<div>\n",
       "<style scoped>\n",
       "    .dataframe tbody tr th:only-of-type {\n",
       "        vertical-align: middle;\n",
       "    }\n",
       "\n",
       "    .dataframe tbody tr th {\n",
       "        vertical-align: top;\n",
       "    }\n",
       "\n",
       "    .dataframe thead th {\n",
       "        text-align: right;\n",
       "    }\n",
       "</style>\n",
       "<table border=\"1\" class=\"dataframe\">\n",
       "  <thead>\n",
       "    <tr style=\"text-align: right;\">\n",
       "      <th></th>\n",
       "      <th>surgery?</th>\n",
       "      <th>Age</th>\n",
       "      <th>rectal temperature</th>\n",
       "      <th>pulse</th>\n",
       "      <th>respiratory rate</th>\n",
       "      <th>temperature of extremities</th>\n",
       "      <th>pain</th>\n",
       "      <th>outcome</th>\n",
       "    </tr>\n",
       "  </thead>\n",
       "  <tbody>\n",
       "    <tr>\n",
       "      <th>43</th>\n",
       "      <td>1</td>\n",
       "      <td>1</td>\n",
       "      <td>35.4</td>\n",
       "      <td>140.0</td>\n",
       "      <td>24.0</td>\n",
       "      <td>3</td>\n",
       "      <td>4</td>\n",
       "      <td>3</td>\n",
       "    </tr>\n",
       "    <tr>\n",
       "      <th>79</th>\n",
       "      <td>1</td>\n",
       "      <td>1</td>\n",
       "      <td>36.4</td>\n",
       "      <td>98.0</td>\n",
       "      <td>35.0</td>\n",
       "      <td>3</td>\n",
       "      <td>4</td>\n",
       "      <td>2</td>\n",
       "    </tr>\n",
       "    <tr>\n",
       "      <th>117</th>\n",
       "      <td>1</td>\n",
       "      <td>1</td>\n",
       "      <td>36.5</td>\n",
       "      <td>78.0</td>\n",
       "      <td>30.0</td>\n",
       "      <td>1</td>\n",
       "      <td>5</td>\n",
       "      <td>1</td>\n",
       "    </tr>\n",
       "    <tr>\n",
       "      <th>140</th>\n",
       "      <td>2</td>\n",
       "      <td>1</td>\n",
       "      <td>36.0</td>\n",
       "      <td>42.0</td>\n",
       "      <td>30.0</td>\n",
       "      <td>&lt;NA&gt;</td>\n",
       "      <td>&lt;NA&gt;</td>\n",
       "      <td>2</td>\n",
       "    </tr>\n",
       "    <tr>\n",
       "      <th>237</th>\n",
       "      <td>2</td>\n",
       "      <td>1</td>\n",
       "      <td>36.1</td>\n",
       "      <td>88.0</td>\n",
       "      <td>NaN</td>\n",
       "      <td>3</td>\n",
       "      <td>3</td>\n",
       "      <td>3</td>\n",
       "    </tr>\n",
       "    <tr>\n",
       "      <th>250</th>\n",
       "      <td>2</td>\n",
       "      <td>1</td>\n",
       "      <td>36.6</td>\n",
       "      <td>42.0</td>\n",
       "      <td>18.0</td>\n",
       "      <td>3</td>\n",
       "      <td>1</td>\n",
       "      <td>2</td>\n",
       "    </tr>\n",
       "    <tr>\n",
       "      <th>297</th>\n",
       "      <td>1</td>\n",
       "      <td>1</td>\n",
       "      <td>36.5</td>\n",
       "      <td>100.0</td>\n",
       "      <td>24.0</td>\n",
       "      <td>3</td>\n",
       "      <td>3</td>\n",
       "      <td>1</td>\n",
       "    </tr>\n",
       "  </tbody>\n",
       "</table>\n",
       "</div>"
      ],
      "text/plain": [
       "     surgery?  Age  rectal temperature  pulse  respiratory rate  \\\n",
       "43          1    1                35.4  140.0              24.0   \n",
       "79          1    1                36.4   98.0              35.0   \n",
       "117         1    1                36.5   78.0              30.0   \n",
       "140         2    1                36.0   42.0              30.0   \n",
       "237         2    1                36.1   88.0               NaN   \n",
       "250         2    1                36.6   42.0              18.0   \n",
       "297         1    1                36.5  100.0              24.0   \n",
       "\n",
       "     temperature of extremities  pain  outcome  \n",
       "43                            3     4        3  \n",
       "79                            3     4        2  \n",
       "117                           1     5        1  \n",
       "140                        <NA>  <NA>        2  \n",
       "237                           3     3        3  \n",
       "250                           3     1        2  \n",
       "297                           3     3        1  "
      ]
     },
     "execution_count": 46,
     "metadata": {},
     "output_type": "execute_result"
    }
   ],
   "source": [
    "hd_set[hd_set['rectal temperature'] < lower_bound]"
   ]
  },
  {
   "cell_type": "code",
   "execution_count": 47,
   "id": "ad71f45a",
   "metadata": {},
   "outputs": [],
   "source": [
    "q1 = hd_set['pulse'].quantile(0.25)\n",
    "q3 = hd_set['pulse'].quantile(0.75)\n",
    "iqr = q3 - q1\n",
    "lower_bound = q1 - (1.5 * iqr) \n",
    "upper_bound = q3 + (1.5 * iqr)"
   ]
  },
  {
   "cell_type": "code",
   "execution_count": 48,
   "id": "4f3d807b",
   "metadata": {},
   "outputs": [
    {
     "data": {
      "text/plain": [
       "-12.0"
      ]
     },
     "execution_count": 48,
     "metadata": {},
     "output_type": "execute_result"
    }
   ],
   "source": [
    "lower_bound"
   ]
  },
  {
   "cell_type": "markdown",
   "id": "75fc816a",
   "metadata": {},
   "source": [
    "Очевидно, что нижняя граница за пределами жизни."
   ]
  },
  {
   "cell_type": "code",
   "execution_count": 49,
   "id": "874ce013",
   "metadata": {},
   "outputs": [
    {
     "data": {
      "text/plain": [
       "148.0"
      ]
     },
     "execution_count": 49,
     "metadata": {},
     "output_type": "execute_result"
    }
   ],
   "source": [
    "upper_bound"
   ]
  },
  {
   "cell_type": "code",
   "execution_count": 50,
   "id": "4178b3d1",
   "metadata": {},
   "outputs": [
    {
     "data": {
      "text/html": [
       "<div>\n",
       "<style scoped>\n",
       "    .dataframe tbody tr th:only-of-type {\n",
       "        vertical-align: middle;\n",
       "    }\n",
       "\n",
       "    .dataframe tbody tr th {\n",
       "        vertical-align: top;\n",
       "    }\n",
       "\n",
       "    .dataframe thead th {\n",
       "        text-align: right;\n",
       "    }\n",
       "</style>\n",
       "<table border=\"1\" class=\"dataframe\">\n",
       "  <thead>\n",
       "    <tr style=\"text-align: right;\">\n",
       "      <th></th>\n",
       "      <th>surgery?</th>\n",
       "      <th>Age</th>\n",
       "      <th>rectal temperature</th>\n",
       "      <th>pulse</th>\n",
       "      <th>respiratory rate</th>\n",
       "      <th>temperature of extremities</th>\n",
       "      <th>pain</th>\n",
       "      <th>outcome</th>\n",
       "    </tr>\n",
       "  </thead>\n",
       "  <tbody>\n",
       "    <tr>\n",
       "      <th>2</th>\n",
       "      <td>1</td>\n",
       "      <td>2</td>\n",
       "      <td>39.1</td>\n",
       "      <td>164.0</td>\n",
       "      <td>84.0</td>\n",
       "      <td>4</td>\n",
       "      <td>2</td>\n",
       "      <td>2</td>\n",
       "    </tr>\n",
       "    <tr>\n",
       "      <th>40</th>\n",
       "      <td>2</td>\n",
       "      <td>2</td>\n",
       "      <td>39.0</td>\n",
       "      <td>150.0</td>\n",
       "      <td>72.0</td>\n",
       "      <td>&lt;NA&gt;</td>\n",
       "      <td>&lt;NA&gt;</td>\n",
       "      <td>1</td>\n",
       "    </tr>\n",
       "    <tr>\n",
       "      <th>54</th>\n",
       "      <td>1</td>\n",
       "      <td>2</td>\n",
       "      <td>38.6</td>\n",
       "      <td>160.0</td>\n",
       "      <td>20.0</td>\n",
       "      <td>3</td>\n",
       "      <td>3</td>\n",
       "      <td>2</td>\n",
       "    </tr>\n",
       "    <tr>\n",
       "      <th>254</th>\n",
       "      <td>1</td>\n",
       "      <td>2</td>\n",
       "      <td>38.8</td>\n",
       "      <td>184.0</td>\n",
       "      <td>84.0</td>\n",
       "      <td>1</td>\n",
       "      <td>4</td>\n",
       "      <td>2</td>\n",
       "    </tr>\n",
       "    <tr>\n",
       "      <th>274</th>\n",
       "      <td>1</td>\n",
       "      <td>2</td>\n",
       "      <td>38.8</td>\n",
       "      <td>150.0</td>\n",
       "      <td>50.0</td>\n",
       "      <td>1</td>\n",
       "      <td>5</td>\n",
       "      <td>2</td>\n",
       "    </tr>\n",
       "  </tbody>\n",
       "</table>\n",
       "</div>"
      ],
      "text/plain": [
       "     surgery?  Age  rectal temperature  pulse  respiratory rate  \\\n",
       "2           1    2                39.1  164.0              84.0   \n",
       "40          2    2                39.0  150.0              72.0   \n",
       "54          1    2                38.6  160.0              20.0   \n",
       "254         1    2                38.8  184.0              84.0   \n",
       "274         1    2                38.8  150.0              50.0   \n",
       "\n",
       "     temperature of extremities  pain  outcome  \n",
       "2                             4     2        2  \n",
       "40                         <NA>  <NA>        1  \n",
       "54                            3     3        2  \n",
       "254                           1     4        2  \n",
       "274                           1     5        2  "
      ]
     },
     "execution_count": 50,
     "metadata": {},
     "output_type": "execute_result"
    }
   ],
   "source": [
    "hd_set[hd_set['pulse'] > upper_bound]"
   ]
  },
  {
   "cell_type": "markdown",
   "id": "41345672",
   "metadata": {},
   "source": [
    "Я бы не стал игнорировать ни один из этих \"выбросов\". Если бы речь шла о статистике жизненных показателей преимущественно здоровых лощадей, то вероятно, эти выбросы стоило бы удалить, но в нашем случае больных лошадей, исключение выбросов кажется нецелесообразным."
   ]
  },
  {
   "cell_type": "markdown",
   "id": "a6bb88cd",
   "metadata": {},
   "source": [
    "Что, вероятно, имеет смысл сделать, так это рассмотреть статистику в категориальных группах."
   ]
  },
  {
   "cell_type": "code",
   "execution_count": 51,
   "id": "f13c7794",
   "metadata": {},
   "outputs": [
    {
     "name": "stdout",
     "output_type": "stream",
     "text": [
      "pain\n",
      "1    38.20\n",
      "2    38.30\n",
      "3    38.15\n",
      "4    38.05\n",
      "5    38.00\n",
      "Name: rectal temperature, dtype: float64\n"
     ]
    }
   ],
   "source": [
    "print(hd_set.groupby('pain')['rectal temperature'].median())"
   ]
  },
  {
   "cell_type": "code",
   "execution_count": 52,
   "id": "271e0439",
   "metadata": {},
   "outputs": [
    {
     "name": "stdout",
     "output_type": "stream",
     "text": [
      "pain\n",
      "1    38.094444\n",
      "2    38.452000\n",
      "3    38.100000\n",
      "4    37.928571\n",
      "5    38.150000\n",
      "Name: rectal temperature, dtype: float64\n"
     ]
    }
   ],
   "source": [
    "print(hd_set.groupby('pain')['rectal temperature'].mean())"
   ]
  },
  {
   "cell_type": "code",
   "execution_count": 53,
   "id": "ca7c68a7",
   "metadata": {},
   "outputs": [
    {
     "name": "stdout",
     "output_type": "stream",
     "text": [
      "pain\n",
      "1    48.0\n",
      "2    78.0\n",
      "3    60.0\n",
      "4    80.0\n",
      "5    89.0\n",
      "Name: pulse, dtype: float64\n"
     ]
    }
   ],
   "source": [
    "print(hd_set.groupby('pain')['pulse'].median())"
   ]
  },
  {
   "cell_type": "code",
   "execution_count": 54,
   "id": "e4b83ae7",
   "metadata": {},
   "outputs": [
    {
     "name": "stdout",
     "output_type": "stream",
     "text": [
      "pain\n",
      "1    20.0\n",
      "2    32.0\n",
      "3    24.0\n",
      "4    30.0\n",
      "5    30.0\n",
      "Name: respiratory rate, dtype: float64\n"
     ]
    }
   ],
   "source": [
    "print(hd_set.groupby('pain')['respiratory rate'].median())"
   ]
  },
  {
   "cell_type": "code",
   "execution_count": 55,
   "id": "aa20aee3",
   "metadata": {},
   "outputs": [
    {
     "name": "stdout",
     "output_type": "stream",
     "text": [
      "pain\n",
      "1    21.419355\n",
      "2    33.192308\n",
      "3    27.775862\n",
      "4    32.366667\n",
      "5    31.750000\n",
      "Name: respiratory rate, dtype: float64\n"
     ]
    }
   ],
   "source": [
    "print(hd_set.groupby('pain')['respiratory rate'].mean())"
   ]
  },
  {
   "cell_type": "code",
   "execution_count": 56,
   "id": "3d3a0421",
   "metadata": {},
   "outputs": [
    {
     "name": "stdout",
     "output_type": "stream",
     "text": [
      "outcome\n",
      "1    38.20\n",
      "2    38.05\n",
      "3    38.05\n",
      "Name: rectal temperature, dtype: float64\n"
     ]
    }
   ],
   "source": [
    "print(hd_set.groupby('outcome')['rectal temperature'].median())"
   ]
  },
  {
   "cell_type": "code",
   "execution_count": 57,
   "id": "78addf0e",
   "metadata": {},
   "outputs": [
    {
     "name": "stdout",
     "output_type": "stream",
     "text": [
      "outcome\n",
      "1    38.190789\n",
      "2    38.173077\n",
      "3    38.052941\n",
      "Name: rectal temperature, dtype: float64\n"
     ]
    }
   ],
   "source": [
    "print(hd_set.groupby('outcome')['rectal temperature'].mean())"
   ]
  },
  {
   "cell_type": "code",
   "execution_count": 58,
   "id": "74529065",
   "metadata": {},
   "outputs": [
    {
     "name": "stdout",
     "output_type": "stream",
     "text": [
      "outcome\n",
      "1    54.0\n",
      "2    86.0\n",
      "3    82.0\n",
      "Name: pulse, dtype: float64\n"
     ]
    }
   ],
   "source": [
    "print(hd_set.groupby('outcome')['pulse'].median())"
   ]
  },
  {
   "cell_type": "code",
   "execution_count": 59,
   "id": "df3082b1",
   "metadata": {},
   "outputs": [
    {
     "name": "stdout",
     "output_type": "stream",
     "text": [
      "outcome\n",
      "1    63.421687\n",
      "2    87.553846\n",
      "3    81.744186\n",
      "Name: pulse, dtype: float64\n"
     ]
    }
   ],
   "source": [
    "print(hd_set.groupby('outcome')['pulse'].mean())"
   ]
  },
  {
   "cell_type": "code",
   "execution_count": 60,
   "id": "f00f20e5",
   "metadata": {},
   "outputs": [
    {
     "name": "stdout",
     "output_type": "stream",
     "text": [
      "outcome\n",
      "1    24.0\n",
      "2    30.0\n",
      "3    24.0\n",
      "Name: respiratory rate, dtype: float64\n"
     ]
    }
   ],
   "source": [
    "print(hd_set.groupby('outcome')['respiratory rate'].median())"
   ]
  },
  {
   "cell_type": "code",
   "execution_count": 61,
   "id": "9738a392",
   "metadata": {},
   "outputs": [
    {
     "name": "stdout",
     "output_type": "stream",
     "text": [
      "outcome\n",
      "1    29.278912\n",
      "2    33.122807\n",
      "3    31.138889\n",
      "Name: respiratory rate, dtype: float64\n"
     ]
    }
   ],
   "source": [
    "print(hd_set.groupby('outcome')['respiratory rate'].mean())"
   ]
  },
  {
   "cell_type": "code",
   "execution_count": 62,
   "id": "83d909b0",
   "metadata": {},
   "outputs": [
    {
     "name": "stdout",
     "output_type": "stream",
     "text": [
      "surgery?\n",
      "1    38.1\n",
      "2    38.2\n",
      "Name: rectal temperature, dtype: float64\n"
     ]
    }
   ],
   "source": [
    "print(hd_set.groupby('surgery?')['rectal temperature'].median())"
   ]
  },
  {
   "cell_type": "code",
   "execution_count": 63,
   "id": "885ed704",
   "metadata": {},
   "outputs": [
    {
     "name": "stdout",
     "output_type": "stream",
     "text": [
      "surgery?\n",
      "1    70.0\n",
      "2    55.0\n",
      "Name: pulse, dtype: float64\n"
     ]
    }
   ],
   "source": [
    "print(hd_set.groupby('surgery?')['pulse'].median())"
   ]
  },
  {
   "cell_type": "code",
   "execution_count": 64,
   "id": "96fc4c58",
   "metadata": {},
   "outputs": [
    {
     "name": "stdout",
     "output_type": "stream",
     "text": [
      "surgery?\n",
      "1    28.0\n",
      "2    24.0\n",
      "Name: respiratory rate, dtype: float64\n"
     ]
    }
   ],
   "source": [
    "print(hd_set.groupby('surgery?')['respiratory rate'].median())"
   ]
  },
  {
   "cell_type": "code",
   "execution_count": 65,
   "id": "d3b8e563",
   "metadata": {},
   "outputs": [
    {
     "name": "stdout",
     "output_type": "stream",
     "text": [
      "Age\n",
      "1    38.1\n",
      "2    38.6\n",
      "Name: rectal temperature, dtype: float64\n"
     ]
    }
   ],
   "source": [
    "print(hd_set.groupby('Age')['rectal temperature'].median())"
   ]
  },
  {
   "cell_type": "code",
   "execution_count": 66,
   "id": "3574ae86",
   "metadata": {},
   "outputs": [
    {
     "name": "stdout",
     "output_type": "stream",
     "text": [
      "Age\n",
      "1     60.0\n",
      "2    124.0\n",
      "Name: pulse, dtype: float64\n"
     ]
    }
   ],
   "source": [
    "print(hd_set.groupby('Age')['pulse'].median())"
   ]
  },
  {
   "cell_type": "code",
   "execution_count": 67,
   "id": "26b857a0",
   "metadata": {},
   "outputs": [
    {
     "name": "stdout",
     "output_type": "stream",
     "text": [
      "Age\n",
      "1    24.0\n",
      "2    49.0\n",
      "Name: respiratory rate, dtype: float64\n"
     ]
    }
   ],
   "source": [
    "print(hd_set.groupby('Age')['respiratory rate'].median())"
   ]
  },
  {
   "cell_type": "code",
   "execution_count": 68,
   "id": "f98d1316",
   "metadata": {},
   "outputs": [
    {
     "name": "stdout",
     "output_type": "stream",
     "text": [
      "Age\n",
      "1    1.0\n",
      "2    1.5\n",
      "Name: outcome, dtype: Float64\n"
     ]
    }
   ],
   "source": [
    "print(hd_set.groupby('Age')['outcome'].median())"
   ]
  },
  {
   "cell_type": "code",
   "execution_count": 69,
   "id": "02aea1fb",
   "metadata": {},
   "outputs": [
    {
     "name": "stdout",
     "output_type": "stream",
     "text": [
      "Age\n",
      "1    3.0\n",
      "2    2.5\n",
      "Name: temperature of extremities, dtype: Float64\n"
     ]
    }
   ],
   "source": [
    "print(hd_set.groupby('Age')['temperature of extremities'].median())"
   ]
  },
  {
   "cell_type": "code",
   "execution_count": 70,
   "id": "f729e2e5",
   "metadata": {},
   "outputs": [
    {
     "name": "stdout",
     "output_type": "stream",
     "text": [
      "temperature of extremities\n",
      "1    38.15\n",
      "2    38.20\n",
      "3    38.10\n",
      "4    38.35\n",
      "Name: rectal temperature, dtype: float64\n"
     ]
    }
   ],
   "source": [
    "print(hd_set.groupby('temperature of extremities')['rectal temperature'].median())"
   ]
  },
  {
   "cell_type": "code",
   "execution_count": 71,
   "id": "37080748",
   "metadata": {},
   "outputs": [
    {
     "name": "stdout",
     "output_type": "stream",
     "text": [
      "temperature of extremities\n",
      "1    54.0\n",
      "2    56.0\n",
      "3    80.0\n",
      "4    90.0\n",
      "Name: pulse, dtype: float64\n"
     ]
    }
   ],
   "source": [
    "print(hd_set.groupby('temperature of extremities')['pulse'].median())"
   ]
  },
  {
   "cell_type": "code",
   "execution_count": 72,
   "id": "039c9182",
   "metadata": {},
   "outputs": [
    {
     "name": "stdout",
     "output_type": "stream",
     "text": [
      "temperature of extremities\n",
      "1    24.0\n",
      "2    32.0\n",
      "3    28.0\n",
      "4    30.0\n",
      "Name: respiratory rate, dtype: float64\n"
     ]
    }
   ],
   "source": [
    "print(hd_set.groupby('temperature of extremities')['respiratory rate'].median())"
   ]
  },
  {
   "cell_type": "markdown",
   "id": "29aa5d69",
   "metadata": {},
   "source": [
    "В целом видна зависимость средних показателей от групп surgery?, Age, outcome.\n",
    "Имеет смысл заполнить пропуски в таких группах средним или медианой (средним в непрерывных значениях, медианой - в дискретных). "
   ]
  },
  {
   "cell_type": "code",
   "execution_count": 77,
   "id": "cefc1426",
   "metadata": {},
   "outputs": [],
   "source": [
    "hd_set_test = hd3[['surgery?', \n",
    "             'Age',\n",
    "             'rectal temperature',\n",
    "             'pulse',\n",
    "             'respiratory rate',\n",
    "             'temperature of extremities',\n",
    "             'pain',\n",
    "             'outcome']]\n",
    "to_del_test = hd_set_test[ hd_set_test['outcome'].isna() ].index\n",
    "hd_set_test.drop(to_del_test , inplace=True)"
   ]
  },
  {
   "cell_type": "code",
   "execution_count": 78,
   "id": "2a889125",
   "metadata": {},
   "outputs": [],
   "source": [
    "hd_set_test['rectal temperature'].fillna(hd_set.groupby(['Age', 'surgery?'])['rectal temperature'].transform('mean'), inplace=True)"
   ]
  },
  {
   "cell_type": "code",
   "execution_count": 79,
   "id": "621eb136",
   "metadata": {},
   "outputs": [],
   "source": [
    "hd_set_test['respiratory rate'].fillna(hd_set.groupby('outcome')['respiratory rate'].transform('median'), inplace=True)"
   ]
  },
  {
   "cell_type": "code",
   "execution_count": 80,
   "id": "29d876cc",
   "metadata": {},
   "outputs": [],
   "source": [
    "hd_set_test['temperature of extremities'].fillna(hd_set.groupby(['Age', 'outcome'])['temperature of extremities'].transform('median'), inplace=True)"
   ]
  },
  {
   "cell_type": "code",
   "execution_count": 81,
   "id": "857b9d11",
   "metadata": {},
   "outputs": [],
   "source": [
    "hd_set_test['pulse'].fillna(hd_set.groupby(['Age', 'outcome'])['pulse'].transform('median'), inplace=True)"
   ]
  },
  {
   "cell_type": "code",
   "execution_count": 82,
   "id": "c8f18702",
   "metadata": {},
   "outputs": [],
   "source": [
    "hd_set_test['pain'].fillna(hd_set.groupby('Age')['pain'].transform('median'), inplace=True)"
   ]
  },
  {
   "cell_type": "code",
   "execution_count": 83,
   "id": "df11bc31",
   "metadata": {},
   "outputs": [
    {
     "data": {
      "text/html": [
       "<div>\n",
       "<style scoped>\n",
       "    .dataframe tbody tr th:only-of-type {\n",
       "        vertical-align: middle;\n",
       "    }\n",
       "\n",
       "    .dataframe tbody tr th {\n",
       "        vertical-align: top;\n",
       "    }\n",
       "\n",
       "    .dataframe thead th {\n",
       "        text-align: right;\n",
       "    }\n",
       "</style>\n",
       "<table border=\"1\" class=\"dataframe\">\n",
       "  <thead>\n",
       "    <tr style=\"text-align: right;\">\n",
       "      <th></th>\n",
       "      <th>surgery?</th>\n",
       "      <th>Age</th>\n",
       "      <th>rectal temperature</th>\n",
       "      <th>pulse</th>\n",
       "      <th>respiratory rate</th>\n",
       "      <th>temperature of extremities</th>\n",
       "      <th>pain</th>\n",
       "      <th>outcome</th>\n",
       "    </tr>\n",
       "  </thead>\n",
       "  <tbody>\n",
       "    <tr>\n",
       "      <th>count</th>\n",
       "      <td>298.000000</td>\n",
       "      <td>298.000000</td>\n",
       "      <td>298.000000</td>\n",
       "      <td>298.000000</td>\n",
       "      <td>298.00000</td>\n",
       "      <td>298.000000</td>\n",
       "      <td>298.000000</td>\n",
       "      <td>298.000000</td>\n",
       "    </tr>\n",
       "    <tr>\n",
       "      <th>mean</th>\n",
       "      <td>1.395973</td>\n",
       "      <td>1.080537</td>\n",
       "      <td>38.163918</td>\n",
       "      <td>72.107383</td>\n",
       "      <td>29.59396</td>\n",
       "      <td>2.338926</td>\n",
       "      <td>2.949664</td>\n",
       "      <td>1.550336</td>\n",
       "    </tr>\n",
       "    <tr>\n",
       "      <th>std</th>\n",
       "      <td>0.489881</td>\n",
       "      <td>0.272580</td>\n",
       "      <td>0.659529</td>\n",
       "      <td>28.295730</td>\n",
       "      <td>16.02858</td>\n",
       "      <td>0.986045</td>\n",
       "      <td>1.178147</td>\n",
       "      <td>0.737967</td>\n",
       "    </tr>\n",
       "    <tr>\n",
       "      <th>min</th>\n",
       "      <td>1.000000</td>\n",
       "      <td>1.000000</td>\n",
       "      <td>35.400000</td>\n",
       "      <td>30.000000</td>\n",
       "      <td>8.00000</td>\n",
       "      <td>1.000000</td>\n",
       "      <td>1.000000</td>\n",
       "      <td>1.000000</td>\n",
       "    </tr>\n",
       "    <tr>\n",
       "      <th>25%</th>\n",
       "      <td>1.000000</td>\n",
       "      <td>1.000000</td>\n",
       "      <td>37.900000</td>\n",
       "      <td>48.250000</td>\n",
       "      <td>20.00000</td>\n",
       "      <td>1.000000</td>\n",
       "      <td>2.000000</td>\n",
       "      <td>1.000000</td>\n",
       "    </tr>\n",
       "    <tr>\n",
       "      <th>50%</th>\n",
       "      <td>1.000000</td>\n",
       "      <td>1.000000</td>\n",
       "      <td>38.100000</td>\n",
       "      <td>64.000000</td>\n",
       "      <td>24.00000</td>\n",
       "      <td>3.000000</td>\n",
       "      <td>3.000000</td>\n",
       "      <td>1.000000</td>\n",
       "    </tr>\n",
       "    <tr>\n",
       "      <th>75%</th>\n",
       "      <td>2.000000</td>\n",
       "      <td>1.000000</td>\n",
       "      <td>38.500000</td>\n",
       "      <td>88.000000</td>\n",
       "      <td>34.75000</td>\n",
       "      <td>3.000000</td>\n",
       "      <td>4.000000</td>\n",
       "      <td>2.000000</td>\n",
       "    </tr>\n",
       "    <tr>\n",
       "      <th>max</th>\n",
       "      <td>2.000000</td>\n",
       "      <td>2.000000</td>\n",
       "      <td>40.800000</td>\n",
       "      <td>184.000000</td>\n",
       "      <td>96.00000</td>\n",
       "      <td>4.000000</td>\n",
       "      <td>5.000000</td>\n",
       "      <td>3.000000</td>\n",
       "    </tr>\n",
       "  </tbody>\n",
       "</table>\n",
       "</div>"
      ],
      "text/plain": [
       "         surgery?         Age  rectal temperature       pulse  \\\n",
       "count  298.000000  298.000000          298.000000  298.000000   \n",
       "mean     1.395973    1.080537           38.163918   72.107383   \n",
       "std      0.489881    0.272580            0.659529   28.295730   \n",
       "min      1.000000    1.000000           35.400000   30.000000   \n",
       "25%      1.000000    1.000000           37.900000   48.250000   \n",
       "50%      1.000000    1.000000           38.100000   64.000000   \n",
       "75%      2.000000    1.000000           38.500000   88.000000   \n",
       "max      2.000000    2.000000           40.800000  184.000000   \n",
       "\n",
       "       respiratory rate  temperature of extremities        pain     outcome  \n",
       "count         298.00000                  298.000000  298.000000  298.000000  \n",
       "mean           29.59396                    2.338926    2.949664    1.550336  \n",
       "std            16.02858                    0.986045    1.178147    0.737967  \n",
       "min             8.00000                    1.000000    1.000000    1.000000  \n",
       "25%            20.00000                    1.000000    2.000000    1.000000  \n",
       "50%            24.00000                    3.000000    3.000000    1.000000  \n",
       "75%            34.75000                    3.000000    4.000000    2.000000  \n",
       "max            96.00000                    4.000000    5.000000    3.000000  "
      ]
     },
     "execution_count": 83,
     "metadata": {},
     "output_type": "execute_result"
    }
   ],
   "source": [
    "hd_set_test.describe()"
   ]
  },
  {
   "cell_type": "code",
   "execution_count": 84,
   "id": "af83521c",
   "metadata": {},
   "outputs": [
    {
     "data": {
      "text/html": [
       "<div>\n",
       "<style scoped>\n",
       "    .dataframe tbody tr th:only-of-type {\n",
       "        vertical-align: middle;\n",
       "    }\n",
       "\n",
       "    .dataframe tbody tr th {\n",
       "        vertical-align: top;\n",
       "    }\n",
       "\n",
       "    .dataframe thead th {\n",
       "        text-align: right;\n",
       "    }\n",
       "</style>\n",
       "<table border=\"1\" class=\"dataframe\">\n",
       "  <thead>\n",
       "    <tr style=\"text-align: right;\">\n",
       "      <th></th>\n",
       "      <th>surgery?</th>\n",
       "      <th>Age</th>\n",
       "      <th>rectal temperature</th>\n",
       "      <th>pulse</th>\n",
       "      <th>respiratory rate</th>\n",
       "      <th>temperature of extremities</th>\n",
       "      <th>pain</th>\n",
       "      <th>outcome</th>\n",
       "    </tr>\n",
       "  </thead>\n",
       "  <tbody>\n",
       "    <tr>\n",
       "      <th>count</th>\n",
       "      <td>298.000000</td>\n",
       "      <td>298.000000</td>\n",
       "      <td>238.000000</td>\n",
       "      <td>274.000000</td>\n",
       "      <td>240.000000</td>\n",
       "      <td>242.000000</td>\n",
       "      <td>243.000000</td>\n",
       "      <td>298.000000</td>\n",
       "    </tr>\n",
       "    <tr>\n",
       "      <th>mean</th>\n",
       "      <td>1.395973</td>\n",
       "      <td>1.080537</td>\n",
       "      <td>38.167227</td>\n",
       "      <td>72.021898</td>\n",
       "      <td>30.470833</td>\n",
       "      <td>2.342975</td>\n",
       "      <td>2.938272</td>\n",
       "      <td>1.550336</td>\n",
       "    </tr>\n",
       "    <tr>\n",
       "      <th>std</th>\n",
       "      <td>0.489881</td>\n",
       "      <td>0.272580</td>\n",
       "      <td>0.734974</td>\n",
       "      <td>28.696330</td>\n",
       "      <td>17.702303</td>\n",
       "      <td>1.047687</td>\n",
       "      <td>1.304908</td>\n",
       "      <td>0.737967</td>\n",
       "    </tr>\n",
       "    <tr>\n",
       "      <th>min</th>\n",
       "      <td>1.000000</td>\n",
       "      <td>1.000000</td>\n",
       "      <td>35.400000</td>\n",
       "      <td>30.000000</td>\n",
       "      <td>8.000000</td>\n",
       "      <td>1.000000</td>\n",
       "      <td>1.000000</td>\n",
       "      <td>1.000000</td>\n",
       "    </tr>\n",
       "    <tr>\n",
       "      <th>25%</th>\n",
       "      <td>1.000000</td>\n",
       "      <td>1.000000</td>\n",
       "      <td>37.800000</td>\n",
       "      <td>48.000000</td>\n",
       "      <td>18.000000</td>\n",
       "      <td>1.000000</td>\n",
       "      <td>2.000000</td>\n",
       "      <td>1.000000</td>\n",
       "    </tr>\n",
       "    <tr>\n",
       "      <th>50%</th>\n",
       "      <td>1.000000</td>\n",
       "      <td>1.000000</td>\n",
       "      <td>38.200000</td>\n",
       "      <td>64.000000</td>\n",
       "      <td>24.500000</td>\n",
       "      <td>3.000000</td>\n",
       "      <td>3.000000</td>\n",
       "      <td>1.000000</td>\n",
       "    </tr>\n",
       "    <tr>\n",
       "      <th>75%</th>\n",
       "      <td>2.000000</td>\n",
       "      <td>1.000000</td>\n",
       "      <td>38.500000</td>\n",
       "      <td>88.000000</td>\n",
       "      <td>36.000000</td>\n",
       "      <td>3.000000</td>\n",
       "      <td>4.000000</td>\n",
       "      <td>2.000000</td>\n",
       "    </tr>\n",
       "    <tr>\n",
       "      <th>max</th>\n",
       "      <td>2.000000</td>\n",
       "      <td>2.000000</td>\n",
       "      <td>40.800000</td>\n",
       "      <td>184.000000</td>\n",
       "      <td>96.000000</td>\n",
       "      <td>4.000000</td>\n",
       "      <td>5.000000</td>\n",
       "      <td>3.000000</td>\n",
       "    </tr>\n",
       "  </tbody>\n",
       "</table>\n",
       "</div>"
      ],
      "text/plain": [
       "         surgery?         Age  rectal temperature       pulse  \\\n",
       "count  298.000000  298.000000          238.000000  274.000000   \n",
       "mean     1.395973    1.080537           38.167227   72.021898   \n",
       "std      0.489881    0.272580            0.734974   28.696330   \n",
       "min      1.000000    1.000000           35.400000   30.000000   \n",
       "25%      1.000000    1.000000           37.800000   48.000000   \n",
       "50%      1.000000    1.000000           38.200000   64.000000   \n",
       "75%      2.000000    1.000000           38.500000   88.000000   \n",
       "max      2.000000    2.000000           40.800000  184.000000   \n",
       "\n",
       "       respiratory rate  temperature of extremities        pain     outcome  \n",
       "count        240.000000                  242.000000  243.000000  298.000000  \n",
       "mean          30.470833                    2.342975    2.938272    1.550336  \n",
       "std           17.702303                    1.047687    1.304908    0.737967  \n",
       "min            8.000000                    1.000000    1.000000    1.000000  \n",
       "25%           18.000000                    1.000000    2.000000    1.000000  \n",
       "50%           24.500000                    3.000000    3.000000    1.000000  \n",
       "75%           36.000000                    3.000000    4.000000    2.000000  \n",
       "max           96.000000                    4.000000    5.000000    3.000000  "
      ]
     },
     "execution_count": 84,
     "metadata": {},
     "output_type": "execute_result"
    }
   ],
   "source": [
    "hd_set.describe()"
   ]
  },
  {
   "cell_type": "markdown",
   "id": "d1644ad9",
   "metadata": {},
   "source": [
    "Как мы видим, в результате применения избранных методов заполнения пропусков существенных изменений в статистиках не произошло."
   ]
  }
 ],
 "metadata": {
  "kernelspec": {
   "display_name": "Python 3",
   "language": "python",
   "name": "python3"
  },
  "language_info": {
   "codemirror_mode": {
    "name": "ipython",
    "version": 3
   },
   "file_extension": ".py",
   "mimetype": "text/x-python",
   "name": "python",
   "nbconvert_exporter": "python",
   "pygments_lexer": "ipython3",
   "version": "3.8.8"
  }
 },
 "nbformat": 4,
 "nbformat_minor": 5
}
