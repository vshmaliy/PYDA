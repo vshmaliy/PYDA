{
 "cells": [
  {
   "cell_type": "markdown",
   "id": "bdeef798",
   "metadata": {},
   "source": [
    "### Задание 1"
   ]
  },
  {
   "cell_type": "markdown",
   "id": "3650be18",
   "metadata": {},
   "source": [
    "Даны векторы x = (1,1), y = (2, 0) и z = (0,2)\n",
    "\n",
    "● Изобразить векторы на экране\n",
    "\n",
    "● Изобразить точку x + y + z\n",
    "\n",
    "● Найти угол между векторами x и y"
   ]
  },
  {
   "cell_type": "code",
   "execution_count": 1,
   "id": "b4e14f9a",
   "metadata": {},
   "outputs": [],
   "source": [
    "import numpy as np\n",
    "import matplotlib.pyplot as plt\n",
    "import sympy as sym"
   ]
  },
  {
   "cell_type": "code",
   "execution_count": 2,
   "id": "d9c02ed4",
   "metadata": {},
   "outputs": [],
   "source": [
    "x=np.array([1,1])\n",
    "y=np.array([2,0])\n",
    "z=np.array([0,2])"
   ]
  },
  {
   "cell_type": "code",
   "execution_count": 3,
   "id": "e1ee60fc",
   "metadata": {},
   "outputs": [
    {
     "data": {
      "text/plain": [
       "array([3, 3])"
      ]
     },
     "execution_count": 3,
     "metadata": {},
     "output_type": "execute_result"
    }
   ],
   "source": [
    "w=x+y+z\n",
    "w"
   ]
  },
  {
   "cell_type": "code",
   "execution_count": 4,
   "id": "147d3f79",
   "metadata": {},
   "outputs": [
    {
     "data": {
      "text/plain": [
       "<function matplotlib.pyplot.show(close=None, block=None)>"
      ]
     },
     "execution_count": 4,
     "metadata": {},
     "output_type": "execute_result"
    },
    {
     "data": {
      "image/png": "[encoded data removed]",
      "text/plain": [
       "<Figure size 432x288 with 1 Axes>"
      ]
     },
     "metadata": {
      "needs_background": "light"
     },
     "output_type": "display_data"
    }
   ],
   "source": [
    "plt.figure()\n",
    "plt.plot(x[0],x[1],'yo')\n",
    "plt.plot(y[0],y[1],'ro')\n",
    "plt.plot(z[0],z[1],'go')\n",
    "plt.plot(w[0],w[1],'bo')\n",
    "plt.grid()\n",
    "plt.show"
   ]
  },
  {
   "cell_type": "code",
   "execution_count": 5,
   "id": "a74a32f2",
   "metadata": {},
   "outputs": [
    {
     "data": {
      "text/plain": [
       "45.00000000000001"
      ]
     },
     "execution_count": 5,
     "metadata": {},
     "output_type": "execute_result"
    }
   ],
   "source": [
    "np.rad2deg(np.arccos(np.dot(x,y)/(np.linalg.norm(x)*np.linalg.norm(y))))"
   ]
  },
  {
   "cell_type": "markdown",
   "id": "fd1727c0",
   "metadata": {},
   "source": [
    "(угол между векторами x и y равен 45 градусам)"
   ]
  },
  {
   "cell_type": "markdown",
   "id": "9f726156",
   "metadata": {},
   "source": [
    "### Задание 2"
   ]
  },
  {
   "cell_type": "markdown",
   "id": "da028c8f",
   "metadata": {},
   "source": [
    "● Создайте матрицу 3 на 3, заполненную числами от 1 до 9\n",
    "\n",
    "● Прибавьте к ней матрицу с единицами на диагонали\n",
    "\n",
    "● Умножьте полученную матрицу на вектор (1, 2, 3)"
   ]
  },
  {
   "cell_type": "code",
   "execution_count": 6,
   "id": "14de412d",
   "metadata": {},
   "outputs": [],
   "source": [
    "A=np.array([[1,2,3],[4,5,6],[7,8,9]])\n",
    "B=np.array([[1,0,0],[0,1,0],[0,0,1]])"
   ]
  },
  {
   "cell_type": "code",
   "execution_count": 7,
   "id": "6808767e",
   "metadata": {},
   "outputs": [
    {
     "data": {
      "text/plain": [
       "array([[ 2,  2,  3],\n",
       "       [ 4,  6,  6],\n",
       "       [ 7,  8, 10]])"
      ]
     },
     "execution_count": 7,
     "metadata": {},
     "output_type": "execute_result"
    }
   ],
   "source": [
    "C=A+B\n",
    "C"
   ]
  },
  {
   "cell_type": "code",
   "execution_count": 8,
   "id": "8f4b7d0d",
   "metadata": {},
   "outputs": [],
   "source": [
    "d=np.array([1,2,3])"
   ]
  },
  {
   "cell_type": "code",
   "execution_count": 9,
   "id": "09b1db5f",
   "metadata": {},
   "outputs": [
    {
     "data": {
      "text/plain": [
       "array([15, 34, 53])"
      ]
     },
     "execution_count": 9,
     "metadata": {},
     "output_type": "execute_result"
    }
   ],
   "source": [
    "C@d"
   ]
  },
  {
   "cell_type": "markdown",
   "id": "5841213e",
   "metadata": {},
   "source": [
    "### Задание 3"
   ]
  },
  {
   "cell_type": "code",
   "execution_count": 10,
   "id": "05d0f94a",
   "metadata": {},
   "outputs": [],
   "source": [
    "x=sym.Symbol('x')"
   ]
  },
  {
   "cell_type": "code",
   "execution_count": 11,
   "id": "73c54303",
   "metadata": {},
   "outputs": [
    {
     "data": {
      "text/latex": [
       "$\\displaystyle 3 x \\left(x^{2} + x\\right)^{3}$"
      ],
      "text/plain": [
       "3*x*(x**2 + x)**3"
      ]
     },
     "execution_count": 11,
     "metadata": {},
     "output_type": "execute_result"
    }
   ],
   "source": [
    "3*x*(x**2 + x)**3"
   ]
  },
  {
   "cell_type": "markdown",
   "id": "f635f29e",
   "metadata": {},
   "source": [
    "Посчитайте значение первой и второй производной функции в точке x = 1"
   ]
  },
  {
   "cell_type": "markdown",
   "id": "03a78681",
   "metadata": {},
   "source": [
    "первая производная:"
   ]
  },
  {
   "cell_type": "code",
   "execution_count": 12,
   "id": "8883a1f1",
   "metadata": {},
   "outputs": [
    {
     "data": {
      "text/latex": [
       "$\\displaystyle 3 x \\left(6 x + 3\\right) \\left(x^{2} + x\\right)^{2} + 3 \\left(x^{2} + x\\right)^{3}$"
      ],
      "text/plain": [
       "3*x*(6*x + 3)*(x**2 + x)**2 + 3*(x**2 + x)**3"
      ]
     },
     "execution_count": 12,
     "metadata": {},
     "output_type": "execute_result"
    }
   ],
   "source": [
    "res=sym.diff(3*x*(x**2 + x)**3,x,1)\n",
    "res"
   ]
  },
  {
   "cell_type": "code",
   "execution_count": 13,
   "id": "2d868e5b",
   "metadata": {},
   "outputs": [
    {
     "data": {
      "text/latex": [
       "$\\displaystyle 132$"
      ],
      "text/plain": [
       "132"
      ]
     },
     "execution_count": 13,
     "metadata": {},
     "output_type": "execute_result"
    }
   ],
   "source": [
    "res.subs(x,1)"
   ]
  },
  {
   "cell_type": "markdown",
   "id": "018d4a61",
   "metadata": {},
   "source": [
    "вторая производная:"
   ]
  },
  {
   "cell_type": "code",
   "execution_count": 14,
   "id": "c225dc19",
   "metadata": {},
   "outputs": [
    {
     "data": {
      "text/latex": [
       "$\\displaystyle 18 x^{2} \\left(x + 1\\right) \\left(x \\left(x + 1\\right) + \\left(x + 1\\right) \\left(2 x + 1\\right) + \\left(2 x + 1\\right)^{2}\\right)$"
      ],
      "text/plain": [
       "18*x**2*(x + 1)*(x*(x + 1) + (x + 1)*(2*x + 1) + (2*x + 1)**2)"
      ]
     },
     "execution_count": 14,
     "metadata": {},
     "output_type": "execute_result"
    }
   ],
   "source": [
    "res1=sym.diff(3*x*(x**2 + x)**3,x,2)\n",
    "res1"
   ]
  },
  {
   "cell_type": "code",
   "execution_count": 15,
   "id": "82e8c3ec",
   "metadata": {},
   "outputs": [
    {
     "data": {
      "text/latex": [
       "$\\displaystyle 612$"
      ],
      "text/plain": [
       "612"
      ]
     },
     "execution_count": 15,
     "metadata": {},
     "output_type": "execute_result"
    }
   ],
   "source": [
    "res1.subs(x,1)"
   ]
  },
  {
   "cell_type": "markdown",
   "id": "d55e4d23",
   "metadata": {},
   "source": [
    "как вариант, для большей наглядности, можно раскрыть скобки в исходной функции:"
   ]
  },
  {
   "cell_type": "code",
   "execution_count": 16,
   "id": "e911fa4c",
   "metadata": {},
   "outputs": [
    {
     "data": {
      "text/latex": [
       "$\\displaystyle 3 x^{7} + 9 x^{6} + 9 x^{5} + 3 x^{4}$"
      ],
      "text/plain": [
       "3*x**7 + 9*x**6 + 9*x**5 + 3*x**4"
      ]
     },
     "execution_count": 16,
     "metadata": {},
     "output_type": "execute_result"
    }
   ],
   "source": [
    "3*x**7 + 9*x**6 + 9*x**5 + 3*x**4"
   ]
  },
  {
   "cell_type": "markdown",
   "id": "4b3138a7",
   "metadata": {},
   "source": [
    "первая производная:"
   ]
  },
  {
   "cell_type": "code",
   "execution_count": 17,
   "id": "187bac88",
   "metadata": {},
   "outputs": [
    {
     "data": {
      "text/latex": [
       "$\\displaystyle 21 x^{6} + 54 x^{5} + 45 x^{4} + 12 x^{3}$"
      ],
      "text/plain": [
       "21*x**6 + 54*x**5 + 45*x**4 + 12*x**3"
      ]
     },
     "execution_count": 17,
     "metadata": {},
     "output_type": "execute_result"
    }
   ],
   "source": [
    "res=sym.diff(3*x**7 + 9*x**6 + 9*x**5 + 3*x**4,x,1)\n",
    "res"
   ]
  },
  {
   "cell_type": "code",
   "execution_count": 18,
   "id": "0329250c",
   "metadata": {},
   "outputs": [
    {
     "data": {
      "text/latex": [
       "$\\displaystyle 132$"
      ],
      "text/plain": [
       "132"
      ]
     },
     "execution_count": 18,
     "metadata": {},
     "output_type": "execute_result"
    }
   ],
   "source": [
    "res.subs(x,1)"
   ]
  },
  {
   "cell_type": "markdown",
   "id": "6b075e8e",
   "metadata": {},
   "source": [
    "вторая производная:"
   ]
  },
  {
   "cell_type": "code",
   "execution_count": 19,
   "id": "9c82771d",
   "metadata": {},
   "outputs": [
    {
     "data": {
      "text/latex": [
       "$\\displaystyle 126 x^{5} + 270 x^{4} + 180 x^{3} + 36 x^{2}$"
      ],
      "text/plain": [
       "126*x**5 + 270*x**4 + 180*x**3 + 36*x**2"
      ]
     },
     "execution_count": 19,
     "metadata": {},
     "output_type": "execute_result"
    }
   ],
   "source": [
    "res1=sym.diff(21*x**6 + 54*x**5 + 45*x**4 + 12*x**3,x,1)\n",
    "res1"
   ]
  },
  {
   "cell_type": "code",
   "execution_count": 20,
   "id": "f78ee096",
   "metadata": {},
   "outputs": [
    {
     "data": {
      "text/latex": [
       "$\\displaystyle 612$"
      ],
      "text/plain": [
       "612"
      ]
     },
     "execution_count": 20,
     "metadata": {},
     "output_type": "execute_result"
    }
   ],
   "source": [
    "res1.subs(x,1)"
   ]
  }
 ],
 "metadata": {
  "kernelspec": {
   "display_name": "Python 3",
   "language": "python",
   "name": "python3"
  },
  "language_info": {
   "codemirror_mode": {
    "name": "ipython",
    "version": 3
   },
   "file_extension": ".py",
   "mimetype": "text/x-python",
   "name": "python",
   "nbconvert_exporter": "python",
   "pygments_lexer": "ipython3",
   "version": "3.8.8"
  }
 },
 "nbformat": 4,
 "nbformat_minor": 5
}
