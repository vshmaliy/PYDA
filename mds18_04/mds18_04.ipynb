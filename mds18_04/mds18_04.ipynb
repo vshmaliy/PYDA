{
 "cells": [
  {
   "cell_type": "markdown",
   "id": "f8fac79b",
   "metadata": {},
   "source": [
    "### MDS18. ДЗ 04 (Математический анализ. Функции одной переменной)."
   ]
  },
  {
   "cell_type": "code",
   "execution_count": 1,
   "id": "ead7f206",
   "metadata": {},
   "outputs": [],
   "source": [
    "import numpy as np\n",
    "import sympy as sym\n",
    "import matplotlib.pyplot as plt"
   ]
  },
  {
   "cell_type": "markdown",
   "id": "a09b734d",
   "metadata": {},
   "source": [
    "#### Задание 1. Вычислить значения первой и второй производной функции f(x) (в точке x = 1)."
   ]
  },
  {
   "cell_type": "code",
   "execution_count": 2,
   "id": "3918a02c",
   "metadata": {},
   "outputs": [],
   "source": [
    "x = sym.Symbol('x')"
   ]
  },
  {
   "cell_type": "code",
   "execution_count": 3,
   "id": "99ef5ccd",
   "metadata": {},
   "outputs": [],
   "source": [
    "f = sym.Symbol('f')"
   ]
  },
  {
   "cell_type": "code",
   "execution_count": 4,
   "id": "d6927f00",
   "metadata": {},
   "outputs": [
    {
     "data": {
      "text/latex": [
       "$\\displaystyle x^{5} + 4 \\sin{\\left(2 x \\right)} + \\cos{\\left(3 x + 3 \\right)}$"
      ],
      "text/plain": [
       "x**5 + 4*sin(2*x) + cos(3*x + 3)"
      ]
     },
     "execution_count": 4,
     "metadata": {},
     "output_type": "execute_result"
    }
   ],
   "source": [
    "f = (x**5)+(4*sym.sin(2*x))+(sym.cos((3*x)+3))\n",
    "f"
   ]
  },
  {
   "cell_type": "markdown",
   "id": "22443a13",
   "metadata": {},
   "source": [
    "В устных указаниях лектора к дз было предложено сначала посчитать первую и вторую производную заданной функции вручную (обозначим их, соответственно, df и d2f):"
   ]
  },
  {
   "cell_type": "code",
   "execution_count": 5,
   "id": "38620b16",
   "metadata": {},
   "outputs": [
    {
     "data": {
      "text/latex": [
       "$\\displaystyle 5 x^{4} - 3 \\sin{\\left(3 x + 3 \\right)} + 8 \\cos{\\left(2 x \\right)}$"
      ],
      "text/plain": [
       "5*x**4 - 3*sin(3*x + 3) + 8*cos(2*x)"
      ]
     },
     "execution_count": 5,
     "metadata": {},
     "output_type": "execute_result"
    }
   ],
   "source": [
    "df = ((5*(x**(5-1)))+(4*sym.cos(2*x)*2)-(sym.sin((3*x)+3)*3))\n",
    "df"
   ]
  },
  {
   "cell_type": "markdown",
   "id": "beeb2199",
   "metadata": {},
   "source": [
    "занятно, как sympy вывел  решение - он поменял третий и второй член - он выстраивает формулу по степени сложности - 3x + 3 в аргументе кажется ему сложнее, чем 2x и поэтому он решил поставить его вторым? Или у него сначала должны идти синусы, а потом косинусы? \n",
    "\n",
    "Но я возвращаю исходный порядок"
   ]
  },
  {
   "cell_type": "code",
   "execution_count": 6,
   "id": "5ae0e4fb",
   "metadata": {},
   "outputs": [
    {
     "data": {
      "text/latex": [
       "$\\displaystyle 20 x^{3} - 16 \\sin{\\left(2 x \\right)} - 9 \\cos{\\left(3 x + 3 \\right)}$"
      ],
      "text/plain": [
       "20*x**3 - 16*sin(2*x) - 9*cos(3*x + 3)"
      ]
     },
     "execution_count": 6,
     "metadata": {},
     "output_type": "execute_result"
    }
   ],
   "source": [
    "d2f = ((5*4*(x**(4-1)))-(8*(sym.sin(2*x))*2)-(3*(sym.cos((3*x)+3))*3))\n",
    "d2f"
   ]
  },
  {
   "cell_type": "markdown",
   "id": "919f07f2",
   "metadata": {},
   "source": [
    "при x=1 df и d2f, соответственно, равны (продолжаю считать вручную))):"
   ]
  },
  {
   "cell_type": "markdown",
   "id": "01f7a833",
   "metadata": {},
   "source": [
    "df(1)"
   ]
  },
  {
   "cell_type": "code",
   "execution_count": 7,
   "id": "7ce0240a",
   "metadata": {},
   "outputs": [
    {
     "data": {
      "text/latex": [
       "$\\displaystyle 8 \\cos{\\left(2 \\right)} - 3 \\sin{\\left(6 \\right)} + 5$"
      ],
      "text/plain": [
       "8*cos(2) - 3*sin(6) + 5"
      ]
     },
     "execution_count": 7,
     "metadata": {},
     "output_type": "execute_result"
    }
   ],
   "source": [
    "df = (5*(1**(4)))+(8*sym.cos(2))-(3*(sym.sin(3+3)))\n",
    "df"
   ]
  },
  {
   "cell_type": "markdown",
   "id": "461d8033",
   "metadata": {},
   "source": [
    "d2f(1)"
   ]
  },
  {
   "cell_type": "code",
   "execution_count": 8,
   "id": "a79faf0d",
   "metadata": {},
   "outputs": [
    {
     "data": {
      "text/latex": [
       "$\\displaystyle - 16 \\sin{\\left(2 \\right)} - 9 \\cos{\\left(6 \\right)} + 20$"
      ],
      "text/plain": [
       "-16*sin(2) - 9*cos(6) + 20"
      ]
     },
     "execution_count": 8,
     "metadata": {},
     "output_type": "execute_result"
    }
   ],
   "source": [
    "d2f = (20*(1**(3)))-(16*(sym.sin(2*1)))-(9*(sym.cos((3*1)+3)))\n",
    "d2f"
   ]
  },
  {
   "cell_type": "markdown",
   "id": "28e98d4b",
   "metadata": {},
   "source": [
    "не уверен, что это требуется заданием, но на всякий случай посчитаем и численное значение:"
   ]
  },
  {
   "cell_type": "markdown",
   "id": "5f7c3876",
   "metadata": {},
   "source": [
    "df(1)"
   ]
  },
  {
   "cell_type": "code",
   "execution_count": 9,
   "id": "96519f2b",
   "metadata": {},
   "outputs": [
    {
     "data": {
      "text/plain": [
       "2.5090718022196383"
      ]
     },
     "execution_count": 9,
     "metadata": {},
     "output_type": "execute_result"
    }
   ],
   "source": [
    "5 + (8*np.cos(2)) - (3*np.sin(6)) "
   ]
  },
  {
   "cell_type": "markdown",
   "id": "4ef15dc6",
   "metadata": {},
   "source": [
    "d2f(1)"
   ]
  },
  {
   "cell_type": "code",
   "execution_count": 10,
   "id": "adbc525c",
   "metadata": {},
   "outputs": [
    {
     "data": {
      "text/plain": [
       "-3.1902914090642014"
      ]
     },
     "execution_count": 10,
     "metadata": {},
     "output_type": "execute_result"
    }
   ],
   "source": [
    "20 - (16*(np.sin(2))) - (9*(np.cos(6)))"
   ]
  },
  {
   "cell_type": "markdown",
   "id": "809abd93",
   "metadata": {},
   "source": [
    "Теперь пусть sympy сам берет производные:"
   ]
  },
  {
   "cell_type": "code",
   "execution_count": 11,
   "id": "93c2e55a",
   "metadata": {},
   "outputs": [
    {
     "data": {
      "text/latex": [
       "$\\displaystyle 5 x^{4} - 3 \\sin{\\left(3 x + 3 \\right)} + 8 \\cos{\\left(2 x \\right)}$"
      ],
      "text/plain": [
       "5*x**4 - 3*sin(3*x + 3) + 8*cos(2*x)"
      ]
     },
     "execution_count": 11,
     "metadata": {},
     "output_type": "execute_result"
    }
   ],
   "source": [
    "df = sym.diff(f,x,1)\n",
    "df"
   ]
  },
  {
   "cell_type": "code",
   "execution_count": 12,
   "id": "ff9889a0",
   "metadata": {},
   "outputs": [
    {
     "data": {
      "text/latex": [
       "$\\displaystyle 20 x^{3} - 16 \\sin{\\left(2 x \\right)} - 9 \\cos{\\left(3 \\left(x + 1\\right) \\right)}$"
      ],
      "text/plain": [
       "20*x**3 - 16*sin(2*x) - 9*cos(3*(x + 1))"
      ]
     },
     "execution_count": 12,
     "metadata": {},
     "output_type": "execute_result"
    }
   ],
   "source": [
    "d2f = sym.diff(f,x,2)\n",
    "d2f"
   ]
  },
  {
   "cell_type": "code",
   "execution_count": 13,
   "id": "55ea40be",
   "metadata": {},
   "outputs": [
    {
     "data": {
      "text/latex": [
       "$\\displaystyle 8 \\cos{\\left(2 \\right)} - 3 \\sin{\\left(6 \\right)} + 5$"
      ],
      "text/plain": [
       "8*cos(2) - 3*sin(6) + 5"
      ]
     },
     "execution_count": 13,
     "metadata": {},
     "output_type": "execute_result"
    }
   ],
   "source": [
    "df.subs(x,1)"
   ]
  },
  {
   "cell_type": "code",
   "execution_count": 14,
   "id": "e29a9974",
   "metadata": {},
   "outputs": [
    {
     "data": {
      "text/latex": [
       "$\\displaystyle - 16 \\sin{\\left(2 \\right)} - 9 \\cos{\\left(6 \\right)} + 20$"
      ],
      "text/plain": [
       "-16*sin(2) - 9*cos(6) + 20"
      ]
     },
     "execution_count": 14,
     "metadata": {},
     "output_type": "execute_result"
    }
   ],
   "source": [
    "d2f.subs(x,1)"
   ]
  },
  {
   "cell_type": "markdown",
   "id": "7a03324f",
   "metadata": {},
   "source": [
    "получились те же результаты, численные значения были получены выше"
   ]
  },
  {
   "cell_type": "markdown",
   "id": "8cd3e99e",
   "metadata": {},
   "source": [
    "#### Задание 2. Постройте график функции f(x), первой и второй производной (на отрезке [-5; 5].)"
   ]
  },
  {
   "cell_type": "code",
   "execution_count": 15,
   "id": "7a96bd3f",
   "metadata": {},
   "outputs": [],
   "source": [
    "f = sym.Symbol('f')"
   ]
  },
  {
   "cell_type": "code",
   "execution_count": 16,
   "id": "4b1c9142",
   "metadata": {},
   "outputs": [],
   "source": [
    "x = sym.Symbol('x')"
   ]
  },
  {
   "cell_type": "code",
   "execution_count": 17,
   "id": "163f8968",
   "metadata": {},
   "outputs": [
    {
     "data": {
      "text/latex": [
       "$\\displaystyle \\sin^{5}{\\left(2 x + 1 \\right)}$"
      ],
      "text/plain": [
       "sin(2*x + 1)**5"
      ]
     },
     "execution_count": 17,
     "metadata": {},
     "output_type": "execute_result"
    }
   ],
   "source": [
    "f = (sym.sin((2*x)+1))**5\n",
    "f"
   ]
  },
  {
   "cell_type": "markdown",
   "id": "ee9706fd",
   "metadata": {},
   "source": [
    "(если я правильно понял, тут уже не было рекомендаций по ручному вычислению производных, так что предоставляем это sympy)"
   ]
  },
  {
   "cell_type": "code",
   "execution_count": 18,
   "id": "adb6afb8",
   "metadata": {},
   "outputs": [
    {
     "data": {
      "text/latex": [
       "$\\displaystyle 10 \\sin^{4}{\\left(2 x + 1 \\right)} \\cos{\\left(2 x + 1 \\right)}$"
      ],
      "text/plain": [
       "10*sin(2*x + 1)**4*cos(2*x + 1)"
      ]
     },
     "execution_count": 18,
     "metadata": {},
     "output_type": "execute_result"
    }
   ],
   "source": [
    "df = sym.diff(f,x,1)\n",
    "df"
   ]
  },
  {
   "cell_type": "code",
   "execution_count": 19,
   "id": "d3c699cd",
   "metadata": {},
   "outputs": [
    {
     "data": {
      "text/latex": [
       "$\\displaystyle 20 \\left(- \\sin^{2}{\\left(2 x + 1 \\right)} + 4 \\cos^{2}{\\left(2 x + 1 \\right)}\\right) \\sin^{3}{\\left(2 x + 1 \\right)}$"
      ],
      "text/plain": [
       "20*(-sin(2*x + 1)**2 + 4*cos(2*x + 1)**2)*sin(2*x + 1)**3"
      ]
     },
     "execution_count": 19,
     "metadata": {},
     "output_type": "execute_result"
    }
   ],
   "source": [
    "d2f = sym.diff(f,x,2)\n",
    "d2f"
   ]
  },
  {
   "cell_type": "markdown",
   "id": "03c1c3cf",
   "metadata": {},
   "source": [
    "Переходим к построению графиков:"
   ]
  },
  {
   "cell_type": "code",
   "execution_count": 20,
   "id": "47fb9322",
   "metadata": {},
   "outputs": [],
   "source": [
    "def Func(x):\n",
    "    return (np.sin((2*x)+1))**5"
   ]
  },
  {
   "cell_type": "code",
   "execution_count": 21,
   "id": "0d4f8210",
   "metadata": {},
   "outputs": [],
   "source": [
    "def dFunc(x):\n",
    "    return 10*((np.sin((2*x)+1))**4)*(np.cos((2*x)+1))"
   ]
  },
  {
   "cell_type": "code",
   "execution_count": 22,
   "id": "76beb466",
   "metadata": {},
   "outputs": [],
   "source": [
    "def d2Func(x):\n",
    "    return 20*((4*(np.cos((2*x)+1)**2))-((np.sin((2*x)+1))**2))*((np.sin((2*x)+1))**3)"
   ]
  },
  {
   "cell_type": "code",
   "execution_count": 23,
   "id": "2603eede",
   "metadata": {},
   "outputs": [],
   "source": [
    "x=np.arange(-5, 5, 0.01)"
   ]
  },
  {
   "cell_type": "code",
   "execution_count": 24,
   "id": "db960c52",
   "metadata": {},
   "outputs": [
    {
     "data": {
      "image/png": "[encoded data removed]",
      "text/plain": [
       "<Figure size 432x288 with 1 Axes>"
      ]
     },
     "metadata": {
      "needs_background": "light"
     },
     "output_type": "display_data"
    }
   ],
   "source": [
    "plt.plot(x,Func(x), label = 'f')\n",
    "plt.plot(x,dFunc(x), label = 'df')\n",
    "plt.plot(x,d2Func(x), label = 'd2f')\n",
    "plt.xlabel('x')\n",
    "plt.ylabel('y')\n",
    "plt.legend()\n",
    "plt.title('f(x), df(x), d2f(x)')\n",
    "plt.show()"
   ]
  },
  {
   "cell_type": "code",
   "execution_count": null,
   "id": "d3a2889c",
   "metadata": {},
   "outputs": [],
   "source": []
  }
 ],
 "metadata": {
  "kernelspec": {
   "display_name": "Python 3",
   "language": "python",
   "name": "python3"
  },
  "language_info": {
   "codemirror_mode": {
    "name": "ipython",
    "version": 3
   },
   "file_extension": ".py",
   "mimetype": "text/x-python",
   "name": "python",
   "nbconvert_exporter": "python",
   "pygments_lexer": "ipython3",
   "version": "3.8.8"
  }
 },
 "nbformat": 4,
 "nbformat_minor": 5
}
