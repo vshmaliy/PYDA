{
 "cells": [
  {
   "cell_type": "markdown",
   "id": "9dc4406b",
   "metadata": {},
   "source": [
    "1.\n",
    "Переведите содержимое файла purchase_log.txt в словарь purchases вида:\n",
    "{‘1840e0b9d4’: ‘Продукты’, …}"
   ]
  },
  {
   "cell_type": "markdown",
   "id": "acec236e",
   "metadata": {},
   "source": [
    "2.\n",
    "Для каждого user_id в файле visit_log.csv определите третий столбец с категорией покупки \n",
    "(если покупка была, сам файл visit_log.csv изменять не надо). \n",
    "Запишите в файл funnel.csv визиты из файла visit_log.csv, в которых были покупки с указанием категории.\n",
    "\n",
    "Учтите условия на данные:\n",
    "содержимое purchase_log.txt помещается в оперативную память компьютера\n",
    "содержимое visit_log.csv - нет; используйте только построчную обработку этого файла"
   ]
  },
  {
   "cell_type": "code",
   "execution_count": 1,
   "id": "a91dbea5",
   "metadata": {},
   "outputs": [],
   "source": [
    "import json"
   ]
  },
  {
   "cell_type": "code",
   "execution_count": 2,
   "id": "97cc5c90",
   "metadata": {},
   "outputs": [],
   "source": [
    "#Здесь я создаю словарь purchases (сначала попробовал на 100 строк):\n",
    "\n",
    "#i = 0\n",
    "purchases = {}\n",
    "with open('purchase_log.txt', 'r', encoding='utf-8') as f:\n",
    "    for line in f:\n",
    "        line = line.strip()\n",
    "        dict_ = json.loads(line)\n",
    "        purchases[dict_['user_id']] = dict_['category']\n",
    "#        i += 1\n",
    "#        if i > 100:\n",
    "#            break\n",
    "#purchases"
   ]
  },
  {
   "cell_type": "code",
   "execution_count": 3,
   "id": "30a87983",
   "metadata": {},
   "outputs": [],
   "source": [
    "# Здесь на основе файла visit_log.csv создаю файл funnel.csv\n",
    "\n",
    "with open('visit_log.csv') as f2:\n",
    "    with open('funnel.csv', 'w') as f3:\n",
    "        for line in f2:\n",
    "            for user_id in purchases:\n",
    "                if user_id in line and purchases[user_id] !=None:\n",
    "                    line = line.strip().split(',')\n",
    "                    line.append(purchases[user_id])\n",
    "                    line_=str(line)+'\\n'\n",
    "                    f3.write(line_)"
   ]
  },
  {
   "cell_type": "code",
   "execution_count": 4,
   "id": "45f58261",
   "metadata": {},
   "outputs": [],
   "source": [
    "f3 = open('funnel.csv')"
   ]
  },
  {
   "cell_type": "code",
   "execution_count": 5,
   "id": "b46bca73",
   "metadata": {},
   "outputs": [
    {
     "name": "stdout",
     "output_type": "stream",
     "text": [
      "0 ['user_id', 'source', 'category']\n",
      "\n",
      "1 ['1840e0b9d4', 'other', 'Продукты']\n",
      "\n",
      "2 ['4e4f90fcfb', 'context', 'Электроника']\n",
      "\n",
      "3 ['afea8d72fc', 'other', 'Электроника']\n",
      "\n",
      "4 ['2824221f38', 'email', 'Продукты']\n",
      "\n",
      "5 ['373a6055fe', 'other', 'Бытовая техника']\n",
      "\n",
      "6 ['9b2ab046f3', 'other', 'Электроника']\n",
      "\n",
      "7 ['9f39d307c3', 'context', 'Электроника']\n",
      "\n",
      "8 ['44edeffc91', 'context', 'Продукты']\n",
      "\n",
      "9 ['704474fa2d', 'other', 'Продукты']\n",
      "\n",
      "10 ['1de31be403', 'other', 'Бытовая техника']\n",
      "\n",
      "11 ['5da0dedf13', 'context', 'Досуг']\n",
      "\n"
     ]
    }
   ],
   "source": [
    "for i, line in enumerate(f3):\n",
    "    print(i, line)\n",
    "    \n",
    "    if i > 10:\n",
    "        break"
   ]
  },
  {
   "cell_type": "code",
   "execution_count": null,
   "id": "cb188535",
   "metadata": {},
   "outputs": [],
   "source": []
  }
 ],
 "metadata": {
  "kernelspec": {
   "display_name": "Python 3",
   "language": "python",
   "name": "python3"
  },
  "language_info": {
   "codemirror_mode": {
    "name": "ipython",
    "version": 3
   },
   "file_extension": ".py",
   "mimetype": "text/x-python",
   "name": "python",
   "nbconvert_exporter": "python",
   "pygments_lexer": "ipython3",
   "version": "3.8.8"
  }
 },
 "nbformat": 4,
 "nbformat_minor": 5
}
