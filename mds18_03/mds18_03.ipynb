{
 "cells": [
  {
   "cell_type": "markdown",
   "id": "6446a29b",
   "metadata": {},
   "source": [
    "## MDS18. ДЗ 03 (лекция \"Продвинутая линейная алгебра\")."
   ]
  },
  {
   "cell_type": "markdown",
   "id": "5473d007",
   "metadata": {},
   "source": [
    "### Задание 1"
   ]
  },
  {
   "cell_type": "code",
   "execution_count": 1,
   "id": "43c4860c",
   "metadata": {},
   "outputs": [],
   "source": [
    "import numpy as np\n",
    "import matplotlib.pyplot as plt"
   ]
  },
  {
   "cell_type": "markdown",
   "id": "8e3ebdc7",
   "metadata": {},
   "source": [
    "#### Дан объект в 2d пространстве:"
   ]
  },
  {
   "cell_type": "code",
   "execution_count": 2,
   "id": "b4239a42",
   "metadata": {},
   "outputs": [
    {
     "data": {
      "text/plain": [
       "(-200.0, 200.0)"
      ]
     },
     "execution_count": 2,
     "metadata": {},
     "output_type": "execute_result"
    },
    {
     "data": {
      "image/png": "[encoded data removed]",
      "text/plain": [
       "<Figure size 432x288 with 1 Axes>"
      ]
     },
     "metadata": {
      "needs_background": "light"
     },
     "output_type": "display_data"
    }
   ],
   "source": [
    "A = [\n",
    "[-100, -100, 1],\n",
    "[-100, 100, 1],\n",
    "[100, 100, 1],\n",
    "[0, 0, 1],\n",
    "[100, -100, 1],\n",
    "[-100, -100, 1]]\n",
    "\n",
    "A = np.array(A)\n",
    "x = A[:,0]\n",
    "y = A[:,1]\n",
    "\n",
    "plt.plot(x, y)\n",
    "plt.grid()\n",
    "plt.ylim([-200, 200])\n",
    "plt.xlim([-200, 200])"
   ]
  },
  {
   "cell_type": "markdown",
   "id": "61a62b89",
   "metadata": {},
   "source": [
    "#### При помощи линейных отображений:\n",
    "\n",
    "#### 1.1 Уменьшить объект в два раза "
   ]
  },
  {
   "cell_type": "code",
   "execution_count": 3,
   "id": "41af58df",
   "metadata": {},
   "outputs": [
    {
     "data": {
      "text/plain": [
       "array([[0.5, 0. , 0. ],\n",
       "       [0. , 0.5, 0. ],\n",
       "       [0. , 0. , 1. ]])"
      ]
     },
     "execution_count": 3,
     "metadata": {},
     "output_type": "execute_result"
    }
   ],
   "source": [
    "B=np.array([[0.5,0,0],[0,0.5,0],[0,0,1]])\n",
    "B"
   ]
  },
  {
   "cell_type": "code",
   "execution_count": 4,
   "id": "f55bcabe",
   "metadata": {},
   "outputs": [
    {
     "data": {
      "text/plain": [
       "array([[-50., -50.,  50.,   0.,  50., -50.],\n",
       "       [-50.,  50.,  50.,   0., -50., -50.],\n",
       "       [  1.,   1.,   1.,   1.,   1.,   1.]])"
      ]
     },
     "execution_count": 4,
     "metadata": {},
     "output_type": "execute_result"
    }
   ],
   "source": [
    "tt = np.matmul(B,A.transpose())\n",
    "tt"
   ]
  },
  {
   "cell_type": "code",
   "execution_count": 5,
   "id": "83db191a",
   "metadata": {},
   "outputs": [
    {
     "data": {
      "text/plain": [
       "array([[-50., -50.,   1.],\n",
       "       [-50.,  50.,   1.],\n",
       "       [ 50.,  50.,   1.],\n",
       "       [  0.,   0.,   1.],\n",
       "       [ 50., -50.,   1.],\n",
       "       [-50., -50.,   1.]])"
      ]
     },
     "execution_count": 5,
     "metadata": {},
     "output_type": "execute_result"
    }
   ],
   "source": [
    "tt = tt.transpose()\n",
    "tt"
   ]
  },
  {
   "cell_type": "code",
   "execution_count": 6,
   "id": "260330cf",
   "metadata": {},
   "outputs": [
    {
     "data": {
      "text/plain": [
       "(-200.0, 200.0)"
      ]
     },
     "execution_count": 6,
     "metadata": {},
     "output_type": "execute_result"
    },
    {
     "data": {
      "image/png": "[encoded data removed]",
      "text/plain": [
       "<Figure size 432x288 with 1 Axes>"
      ]
     },
     "metadata": {
      "needs_background": "light"
     },
     "output_type": "display_data"
    }
   ],
   "source": [
    "A1 = np.array(tt)\n",
    "x = A1[:,0]\n",
    "y = A1[:,1]\n",
    "\n",
    "plt.plot(x, y)\n",
    "plt.grid()\n",
    "plt.ylim([-200, 200])\n",
    "plt.xlim([-200, 200])"
   ]
  },
  {
   "cell_type": "markdown",
   "id": "2a5a4238",
   "metadata": {},
   "source": [
    "#### 1.2 Повернуть на 130 градусов"
   ]
  },
  {
   "cell_type": "code",
   "execution_count": 7,
   "id": "84f8ad80",
   "metadata": {},
   "outputs": [
    {
     "data": {
      "text/plain": [
       "array([[-0.64278761,  0.76604444,  0.        ],\n",
       "       [-0.76604444, -0.64278761,  0.        ],\n",
       "       [ 0.        ,  0.        ,  1.        ]])"
      ]
     },
     "execution_count": 7,
     "metadata": {},
     "output_type": "execute_result"
    }
   ],
   "source": [
    "B1=np.array([[(np.cos(np.radians(130))),(np.sin(np.radians(130))),0],\n",
    "             [-(np.sin(np.radians(130))),(np.cos(np.radians(130))),0],\n",
    "            [0,0,1]])\n",
    "B1"
   ]
  },
  {
   "cell_type": "code",
   "execution_count": 8,
   "id": "8d98df42",
   "metadata": {},
   "outputs": [
    {
     "data": {
      "text/plain": [
       "array([[ -12.32568334,  140.88320528,   12.32568334,    0.        ,\n",
       "        -140.88320528,  -12.32568334],\n",
       "       [ 140.88320528,   12.32568334, -140.88320528,    0.        ,\n",
       "         -12.32568334,  140.88320528],\n",
       "       [   1.        ,    1.        ,    1.        ,    1.        ,\n",
       "           1.        ,    1.        ]])"
      ]
     },
     "execution_count": 8,
     "metadata": {},
     "output_type": "execute_result"
    }
   ],
   "source": [
    "tt1 = np.matmul(B1,A.transpose())\n",
    "tt1"
   ]
  },
  {
   "cell_type": "code",
   "execution_count": 9,
   "id": "3950e852",
   "metadata": {},
   "outputs": [
    {
     "data": {
      "text/plain": [
       "array([[ -12.32568334,  140.88320528,    1.        ],\n",
       "       [ 140.88320528,   12.32568334,    1.        ],\n",
       "       [  12.32568334, -140.88320528,    1.        ],\n",
       "       [   0.        ,    0.        ,    1.        ],\n",
       "       [-140.88320528,  -12.32568334,    1.        ],\n",
       "       [ -12.32568334,  140.88320528,    1.        ]])"
      ]
     },
     "execution_count": 9,
     "metadata": {},
     "output_type": "execute_result"
    }
   ],
   "source": [
    "tt1 = tt1.transpose()\n",
    "tt1"
   ]
  },
  {
   "cell_type": "code",
   "execution_count": 10,
   "id": "ebef6949",
   "metadata": {},
   "outputs": [
    {
     "data": {
      "text/plain": [
       "(-200.0, 200.0)"
      ]
     },
     "execution_count": 10,
     "metadata": {},
     "output_type": "execute_result"
    },
    {
     "data": {
      "image/png": "[encoded data removed]",
      "text/plain": [
       "<Figure size 432x288 with 1 Axes>"
      ]
     },
     "metadata": {
      "needs_background": "light"
     },
     "output_type": "display_data"
    }
   ],
   "source": [
    "A2 = np.array(tt1)\n",
    "x = A2[:,0]\n",
    "y = A2[:,1]\n",
    "\n",
    "plt.plot(x, y)\n",
    "plt.grid()\n",
    "plt.ylim([-200, 200])\n",
    "plt.xlim([-200, 200])"
   ]
  },
  {
   "cell_type": "markdown",
   "id": "bd2fe1e0",
   "metadata": {},
   "source": [
    "#### 1.3 Отразить объект относительно прямой y=x"
   ]
  },
  {
   "cell_type": "code",
   "execution_count": 11,
   "id": "c50978f8",
   "metadata": {},
   "outputs": [
    {
     "data": {
      "text/plain": [
       "array([[0, 1, 0],\n",
       "       [1, 0, 0],\n",
       "       [0, 0, 1]])"
      ]
     },
     "execution_count": 11,
     "metadata": {},
     "output_type": "execute_result"
    }
   ],
   "source": [
    "B2=np.array([[0,1,0],[1,0,0],[0,0,1]])\n",
    "B2"
   ]
  },
  {
   "cell_type": "code",
   "execution_count": 12,
   "id": "ca3303ef",
   "metadata": {},
   "outputs": [
    {
     "data": {
      "text/plain": [
       "array([[-100,  100,  100,    0, -100, -100],\n",
       "       [-100, -100,  100,    0,  100, -100],\n",
       "       [   1,    1,    1,    1,    1,    1]])"
      ]
     },
     "execution_count": 12,
     "metadata": {},
     "output_type": "execute_result"
    }
   ],
   "source": [
    "tt2 = np.matmul(B2,A.transpose())\n",
    "tt2"
   ]
  },
  {
   "cell_type": "code",
   "execution_count": 13,
   "id": "c9e5d260",
   "metadata": {},
   "outputs": [
    {
     "data": {
      "text/plain": [
       "array([[-100, -100,    1],\n",
       "       [ 100, -100,    1],\n",
       "       [ 100,  100,    1],\n",
       "       [   0,    0,    1],\n",
       "       [-100,  100,    1],\n",
       "       [-100, -100,    1]])"
      ]
     },
     "execution_count": 13,
     "metadata": {},
     "output_type": "execute_result"
    }
   ],
   "source": [
    "tt2 = tt2.transpose()\n",
    "tt2"
   ]
  },
  {
   "cell_type": "code",
   "execution_count": 14,
   "id": "29d7ad5c",
   "metadata": {},
   "outputs": [
    {
     "data": {
      "text/plain": [
       "(-200.0, 200.0)"
      ]
     },
     "execution_count": 14,
     "metadata": {},
     "output_type": "execute_result"
    },
    {
     "data": {
      "image/png": "[encoded data removed]",
      "text/plain": [
       "<Figure size 432x288 with 1 Axes>"
      ]
     },
     "metadata": {
      "needs_background": "light"
     },
     "output_type": "display_data"
    }
   ],
   "source": [
    "A2 = np.array(tt2)\n",
    "x = A2[:,0]\n",
    "y = A2[:,1]\n",
    "\n",
    "plt.plot(x, y)\n",
    "plt.grid()\n",
    "plt.ylim([-200, 200])\n",
    "plt.xlim([-200, 200])"
   ]
  },
  {
   "cell_type": "markdown",
   "id": "79940474",
   "metadata": {},
   "source": [
    "#### 1.4 Вычислить определитель композиции преобразований \n",
    "(итоговой матрицы реализующей все три отображения)"
   ]
  },
  {
   "cell_type": "code",
   "execution_count": 15,
   "id": "bf4e4876",
   "metadata": {},
   "outputs": [
    {
     "data": {
      "text/plain": [
       "array([[-0.38302222, -0.3213938 ,  0.        ],\n",
       "       [-0.3213938 ,  0.38302222,  0.        ],\n",
       "       [ 0.        ,  0.        ,  1.        ]])"
      ]
     },
     "execution_count": 15,
     "metadata": {},
     "output_type": "execute_result"
    }
   ],
   "source": [
    "comp = np.matmul((B.transpose()),(np.matmul((B1.transpose()),B2)))\n",
    "comp"
   ]
  },
  {
   "cell_type": "code",
   "execution_count": 16,
   "id": "f4007be0",
   "metadata": {},
   "outputs": [
    {
     "data": {
      "text/plain": [
       "-0.24999999999999994"
      ]
     },
     "execution_count": 16,
     "metadata": {},
     "output_type": "execute_result"
    }
   ],
   "source": [
    "np.linalg.det(comp)"
   ]
  },
  {
   "cell_type": "markdown",
   "id": "63055d70",
   "metadata": {},
   "source": [
    "Применим итоговую матрицу comp к исходной матрице А (чтобы убедиться, что все сделано правильно)"
   ]
  },
  {
   "cell_type": "code",
   "execution_count": 17,
   "id": "7a513a4a",
   "metadata": {},
   "outputs": [
    {
     "data": {
      "text/plain": [
       "array([[ 70.44160264,   6.16284167, -70.44160264,   0.        ,\n",
       "         -6.16284167,  70.44160264],\n",
       "       [ -6.16284167,  70.44160264,   6.16284167,   0.        ,\n",
       "        -70.44160264,  -6.16284167],\n",
       "       [  1.        ,   1.        ,   1.        ,   1.        ,\n",
       "          1.        ,   1.        ]])"
      ]
     },
     "execution_count": 17,
     "metadata": {},
     "output_type": "execute_result"
    }
   ],
   "source": [
    "tt3 = np.matmul(comp,A.transpose())\n",
    "tt3"
   ]
  },
  {
   "cell_type": "code",
   "execution_count": 18,
   "id": "25026ba0",
   "metadata": {},
   "outputs": [],
   "source": [
    "tt3 = tt3.transpose()"
   ]
  },
  {
   "cell_type": "code",
   "execution_count": 19,
   "id": "50939bfb",
   "metadata": {},
   "outputs": [
    {
     "data": {
      "text/plain": [
       "(-200.0, 200.0)"
      ]
     },
     "execution_count": 19,
     "metadata": {},
     "output_type": "execute_result"
    },
    {
     "data": {
      "image/png": "[encoded data removed]",
      "text/plain": [
       "<Figure size 432x288 with 1 Axes>"
      ]
     },
     "metadata": {
      "needs_background": "light"
     },
     "output_type": "display_data"
    }
   ],
   "source": [
    "A3 = np.array(tt3)\n",
    "x = A3[:,0]\n",
    "y = A3[:,1]\n",
    "\n",
    "plt.plot(x, y)\n",
    "plt.grid()\n",
    "plt.ylim([-200, 200])\n",
    "plt.xlim([-200, 200])"
   ]
  },
  {
   "cell_type": "markdown",
   "id": "e3b499a9",
   "metadata": {},
   "source": [
    "#### Альтернативное решение 1 задания:"
   ]
  },
  {
   "cell_type": "markdown",
   "id": "2eae1a58",
   "metadata": {},
   "source": [
    "Мы работаем с 2d объектом А, у которого третий столбец - единицы (геометрически это 2d фигура в плоскости (x y 1))\n",
    "Поэтому естественно возникает искушение при решении задачи опустить третий столбец, и тогда решение будет более наглядным (наверное, к итоговым результатам можно было бы просто вернуть третий столбец с единицами):"
   ]
  },
  {
   "cell_type": "code",
   "execution_count": 20,
   "id": "fc32bb11",
   "metadata": {},
   "outputs": [],
   "source": [
    "A0 = A[:,[0,1]]"
   ]
  },
  {
   "cell_type": "code",
   "execution_count": 21,
   "id": "ef0431da",
   "metadata": {},
   "outputs": [
    {
     "data": {
      "text/plain": [
       "array([[-100, -100],\n",
       "       [-100,  100],\n",
       "       [ 100,  100],\n",
       "       [   0,    0],\n",
       "       [ 100, -100],\n",
       "       [-100, -100]])"
      ]
     },
     "execution_count": 21,
     "metadata": {},
     "output_type": "execute_result"
    }
   ],
   "source": [
    "A0"
   ]
  },
  {
   "cell_type": "code",
   "execution_count": 22,
   "id": "13958f39",
   "metadata": {},
   "outputs": [
    {
     "data": {
      "text/plain": [
       "(-200.0, 200.0)"
      ]
     },
     "execution_count": 22,
     "metadata": {},
     "output_type": "execute_result"
    },
    {
     "data": {
      "image/png": "[encoded data removed]",
      "text/plain": [
       "<Figure size 432x288 with 1 Axes>"
      ]
     },
     "metadata": {
      "needs_background": "light"
     },
     "output_type": "display_data"
    }
   ],
   "source": [
    "A = np.array(A)\n",
    "A0 = A[:,[0,1]]\n",
    "x = A0[:,0]\n",
    "y = A0[:,1]\n",
    "\n",
    "plt.plot(x, y)\n",
    "plt.grid()\n",
    "plt.ylim([-200, 200])\n",
    "plt.xlim([-200, 200])"
   ]
  },
  {
   "cell_type": "code",
   "execution_count": 23,
   "id": "192c62c9",
   "metadata": {},
   "outputs": [
    {
     "data": {
      "text/plain": [
       "array([[0.5, 0. ],\n",
       "       [0. , 0.5]])"
      ]
     },
     "execution_count": 23,
     "metadata": {},
     "output_type": "execute_result"
    }
   ],
   "source": [
    "B=np.array([[0.5,0],[0,0.5]])\n",
    "B"
   ]
  },
  {
   "cell_type": "code",
   "execution_count": 24,
   "id": "ec5e6d18",
   "metadata": {},
   "outputs": [
    {
     "data": {
      "text/plain": [
       "array([[-50., -50.,  50.,   0.,  50., -50.],\n",
       "       [-50.,  50.,  50.,   0., -50., -50.]])"
      ]
     },
     "execution_count": 24,
     "metadata": {},
     "output_type": "execute_result"
    }
   ],
   "source": [
    "tt = np.matmul(B,A0.transpose())\n",
    "tt"
   ]
  },
  {
   "cell_type": "code",
   "execution_count": 25,
   "id": "a2310a97",
   "metadata": {},
   "outputs": [
    {
     "data": {
      "text/plain": [
       "array([[-50., -50.],\n",
       "       [-50.,  50.],\n",
       "       [ 50.,  50.],\n",
       "       [  0.,   0.],\n",
       "       [ 50., -50.],\n",
       "       [-50., -50.]])"
      ]
     },
     "execution_count": 25,
     "metadata": {},
     "output_type": "execute_result"
    }
   ],
   "source": [
    "tt = tt.transpose()\n",
    "tt"
   ]
  },
  {
   "cell_type": "code",
   "execution_count": 26,
   "id": "c9e8c3ad",
   "metadata": {},
   "outputs": [
    {
     "data": {
      "text/plain": [
       "(-200.0, 200.0)"
      ]
     },
     "execution_count": 26,
     "metadata": {},
     "output_type": "execute_result"
    },
    {
     "data": {
      "image/png": "[encoded data removed]",
      "text/plain": [
       "<Figure size 432x288 with 1 Axes>"
      ]
     },
     "metadata": {
      "needs_background": "light"
     },
     "output_type": "display_data"
    }
   ],
   "source": [
    "A1 = np.array(tt)\n",
    "x = A1[:,0]\n",
    "y = A1[:,1]\n",
    "\n",
    "plt.plot(x, y)\n",
    "plt.grid()\n",
    "plt.ylim([-200, 200])\n",
    "plt.xlim([-200, 200])"
   ]
  },
  {
   "cell_type": "code",
   "execution_count": 27,
   "id": "c7582ca5",
   "metadata": {},
   "outputs": [
    {
     "data": {
      "text/plain": [
       "array([[-0.64278761,  0.76604444],\n",
       "       [-0.76604444, -0.64278761]])"
      ]
     },
     "execution_count": 27,
     "metadata": {},
     "output_type": "execute_result"
    }
   ],
   "source": [
    "B1=np.array([[(np.cos(np.radians(130))),(np.sin(np.radians(130)))],\n",
    "             [-(np.sin(np.radians(130))),(np.cos(np.radians(130)))]])\n",
    "B1"
   ]
  },
  {
   "cell_type": "code",
   "execution_count": 28,
   "id": "d1a4926d",
   "metadata": {},
   "outputs": [
    {
     "data": {
      "text/plain": [
       "array([[ -12.32568334,  140.88320528,   12.32568334,    0.        ,\n",
       "        -140.88320528,  -12.32568334],\n",
       "       [ 140.88320528,   12.32568334, -140.88320528,    0.        ,\n",
       "         -12.32568334,  140.88320528]])"
      ]
     },
     "execution_count": 28,
     "metadata": {},
     "output_type": "execute_result"
    }
   ],
   "source": [
    "tt1 = np.matmul(B1,A0.transpose())\n",
    "tt1"
   ]
  },
  {
   "cell_type": "code",
   "execution_count": 29,
   "id": "1aea7a66",
   "metadata": {},
   "outputs": [
    {
     "data": {
      "text/plain": [
       "array([[ -12.32568334,  140.88320528],\n",
       "       [ 140.88320528,   12.32568334],\n",
       "       [  12.32568334, -140.88320528],\n",
       "       [   0.        ,    0.        ],\n",
       "       [-140.88320528,  -12.32568334],\n",
       "       [ -12.32568334,  140.88320528]])"
      ]
     },
     "execution_count": 29,
     "metadata": {},
     "output_type": "execute_result"
    }
   ],
   "source": [
    "tt1 = tt1.transpose()\n",
    "tt1"
   ]
  },
  {
   "cell_type": "code",
   "execution_count": 30,
   "id": "1196105e",
   "metadata": {},
   "outputs": [
    {
     "data": {
      "text/plain": [
       "(-200.0, 200.0)"
      ]
     },
     "execution_count": 30,
     "metadata": {},
     "output_type": "execute_result"
    },
    {
     "data": {
      "image/png": "[encoded data removed]",
      "text/plain": [
       "<Figure size 432x288 with 1 Axes>"
      ]
     },
     "metadata": {
      "needs_background": "light"
     },
     "output_type": "display_data"
    }
   ],
   "source": [
    "A2 = np.array(tt1)\n",
    "x = A2[:,0]\n",
    "y = A2[:,1]\n",
    "\n",
    "plt.plot(x, y)\n",
    "plt.grid()\n",
    "plt.ylim([-200, 200])\n",
    "plt.xlim([-200, 200])"
   ]
  },
  {
   "cell_type": "code",
   "execution_count": 31,
   "id": "b794dbaa",
   "metadata": {},
   "outputs": [
    {
     "data": {
      "text/plain": [
       "array([[0, 1],\n",
       "       [1, 0]])"
      ]
     },
     "execution_count": 31,
     "metadata": {},
     "output_type": "execute_result"
    }
   ],
   "source": [
    "B2=np.array([[0,1],[1,0]])\n",
    "B2"
   ]
  },
  {
   "cell_type": "code",
   "execution_count": 32,
   "id": "56a45922",
   "metadata": {},
   "outputs": [
    {
     "data": {
      "text/plain": [
       "array([[-100,  100,  100,    0, -100, -100],\n",
       "       [-100, -100,  100,    0,  100, -100]])"
      ]
     },
     "execution_count": 32,
     "metadata": {},
     "output_type": "execute_result"
    }
   ],
   "source": [
    "tt2 = np.matmul(B2,A0.transpose())\n",
    "tt2"
   ]
  },
  {
   "cell_type": "code",
   "execution_count": 33,
   "id": "9ced5001",
   "metadata": {},
   "outputs": [
    {
     "data": {
      "text/plain": [
       "array([[-100, -100],\n",
       "       [ 100, -100],\n",
       "       [ 100,  100],\n",
       "       [   0,    0],\n",
       "       [-100,  100],\n",
       "       [-100, -100]])"
      ]
     },
     "execution_count": 33,
     "metadata": {},
     "output_type": "execute_result"
    }
   ],
   "source": [
    "tt2 = tt2.transpose()\n",
    "tt2"
   ]
  },
  {
   "cell_type": "code",
   "execution_count": 34,
   "id": "1b1c8c90",
   "metadata": {},
   "outputs": [
    {
     "data": {
      "text/plain": [
       "(-200.0, 200.0)"
      ]
     },
     "execution_count": 34,
     "metadata": {},
     "output_type": "execute_result"
    },
    {
     "data": {
      "image/png": "[encoded data removed]",
      "text/plain": [
       "<Figure size 432x288 with 1 Axes>"
      ]
     },
     "metadata": {
      "needs_background": "light"
     },
     "output_type": "display_data"
    }
   ],
   "source": [
    "A2 = np.array(tt2)\n",
    "x = A2[:,0]\n",
    "y = A2[:,1]\n",
    "\n",
    "plt.plot(x, y)\n",
    "plt.grid()\n",
    "plt.ylim([-200, 200])\n",
    "plt.xlim([-200, 200])"
   ]
  },
  {
   "cell_type": "code",
   "execution_count": 35,
   "id": "16bc1c49",
   "metadata": {},
   "outputs": [
    {
     "data": {
      "text/plain": [
       "array([[-0.38302222, -0.3213938 ],\n",
       "       [-0.3213938 ,  0.38302222]])"
      ]
     },
     "execution_count": 35,
     "metadata": {},
     "output_type": "execute_result"
    }
   ],
   "source": [
    "comp = np.matmul((B.transpose()),(np.matmul((B1.transpose()),B2)))\n",
    "comp"
   ]
  },
  {
   "cell_type": "code",
   "execution_count": 36,
   "id": "7a58614d",
   "metadata": {},
   "outputs": [
    {
     "data": {
      "text/plain": [
       "-0.25"
      ]
     },
     "execution_count": 36,
     "metadata": {},
     "output_type": "execute_result"
    }
   ],
   "source": [
    "np.linalg.det(comp)"
   ]
  },
  {
   "cell_type": "markdown",
   "id": "5e2929e3",
   "metadata": {},
   "source": [
    "Интересно, что во втором варианте определитель оказывается ровно -0.25,  в отличие от -0.2499999999999999 в первом - вероятно это результат использования более сложных и затратных расчетных алгоритмов в случае с \"лишним\" третьим столбцом (аргумент в пользу второго варианта)))"
   ]
  },
  {
   "cell_type": "code",
   "execution_count": 37,
   "id": "8aab60f9",
   "metadata": {},
   "outputs": [
    {
     "data": {
      "text/plain": [
       "array([[ 70.44160264,   6.16284167, -70.44160264,   0.        ,\n",
       "         -6.16284167,  70.44160264],\n",
       "       [ -6.16284167,  70.44160264,   6.16284167,   0.        ,\n",
       "        -70.44160264,  -6.16284167]])"
      ]
     },
     "execution_count": 37,
     "metadata": {},
     "output_type": "execute_result"
    }
   ],
   "source": [
    "tt3 = np.matmul(comp,A0.transpose())\n",
    "tt3"
   ]
  },
  {
   "cell_type": "code",
   "execution_count": 38,
   "id": "c71a3911",
   "metadata": {},
   "outputs": [
    {
     "data": {
      "text/plain": [
       "array([[ 70.44160264,  -6.16284167],\n",
       "       [  6.16284167,  70.44160264],\n",
       "       [-70.44160264,   6.16284167],\n",
       "       [  0.        ,   0.        ],\n",
       "       [ -6.16284167, -70.44160264],\n",
       "       [ 70.44160264,  -6.16284167]])"
      ]
     },
     "execution_count": 38,
     "metadata": {},
     "output_type": "execute_result"
    }
   ],
   "source": [
    "tt3 = tt3.transpose()\n",
    "tt3"
   ]
  },
  {
   "cell_type": "code",
   "execution_count": 39,
   "id": "8ccd652f",
   "metadata": {},
   "outputs": [
    {
     "data": {
      "text/plain": [
       "(-200.0, 200.0)"
      ]
     },
     "execution_count": 39,
     "metadata": {},
     "output_type": "execute_result"
    },
    {
     "data": {
      "image/png": "[encoded data removed]",
      "text/plain": [
       "<Figure size 432x288 with 1 Axes>"
      ]
     },
     "metadata": {
      "needs_background": "light"
     },
     "output_type": "display_data"
    }
   ],
   "source": [
    "A3 = np.array(tt3)\n",
    "x = A3[:,0]\n",
    "y = A3[:,1]\n",
    "\n",
    "plt.plot(x, y)\n",
    "plt.grid()\n",
    "plt.ylim([-200, 200])\n",
    "plt.xlim([-200, 200])"
   ]
  },
  {
   "cell_type": "markdown",
   "id": "aef0b6a2",
   "metadata": {},
   "source": [
    "### Задание 2"
   ]
  },
  {
   "cell_type": "markdown",
   "id": "66f44c16",
   "metadata": {},
   "source": [
    "Решите систему уравнений, используя матричный подход\n",
    "\n",
    "x+z = 2\n",
    "\n",
    "-x + y - 2*z + w = -2\n",
    "\n",
    "4*x + z - 2*w = 0\n",
    "\n",
    "-4*x + 4*y + w = 5"
   ]
  },
  {
   "cell_type": "code",
   "execution_count": 40,
   "id": "32927e4a",
   "metadata": {},
   "outputs": [
    {
     "data": {
      "text/plain": [
       "array([[ 1,  0,  1,  0],\n",
       "       [-1,  1, -2,  1],\n",
       "       [ 4,  0,  1, -2],\n",
       "       [-4,  4,  0,  1]])"
      ]
     },
     "execution_count": 40,
     "metadata": {},
     "output_type": "execute_result"
    }
   ],
   "source": [
    "A = np.array([[1,0,1,0],[-1,1,-2,1],[4,0,1,-2],[-4,4,0,1]])\n",
    "A"
   ]
  },
  {
   "cell_type": "code",
   "execution_count": 41,
   "id": "75b32c57",
   "metadata": {},
   "outputs": [
    {
     "data": {
      "text/plain": [
       "array([[ 2],\n",
       "       [-2],\n",
       "       [ 0],\n",
       "       [ 5]])"
      ]
     },
     "execution_count": 41,
     "metadata": {},
     "output_type": "execute_result"
    }
   ],
   "source": [
    "B = np.array([[2],[-2],[0],[5]])\n",
    "B"
   ]
  },
  {
   "cell_type": "code",
   "execution_count": 42,
   "id": "ed234090",
   "metadata": {},
   "outputs": [
    {
     "data": {
      "text/plain": [
       "24.999999999999996"
      ]
     },
     "execution_count": 42,
     "metadata": {},
     "output_type": "execute_result"
    }
   ],
   "source": [
    "np.linalg.det(A)"
   ]
  },
  {
   "cell_type": "markdown",
   "id": "fa7a661f",
   "metadata": {},
   "source": [
    "вариант 1"
   ]
  },
  {
   "cell_type": "code",
   "execution_count": 43,
   "id": "59e83a00",
   "metadata": {},
   "outputs": [
    {
     "data": {
      "text/plain": [
       "array([[ 0.52,  0.32,  0.12, -0.08],\n",
       "       [ 0.2 ,  0.2 ,  0.2 ,  0.2 ],\n",
       "       [ 0.48, -0.32, -0.12,  0.08],\n",
       "       [ 1.28,  0.48, -0.32, -0.12]])"
      ]
     },
     "execution_count": 43,
     "metadata": {},
     "output_type": "execute_result"
    }
   ],
   "source": [
    "A1 = np.linalg.inv(A)\n",
    "A1"
   ]
  },
  {
   "cell_type": "code",
   "execution_count": 44,
   "id": "628d3fea",
   "metadata": {},
   "outputs": [
    {
     "data": {
      "text/plain": [
       "array([[0.],\n",
       "       [1.],\n",
       "       [2.],\n",
       "       [1.]])"
      ]
     },
     "execution_count": 44,
     "metadata": {},
     "output_type": "execute_result"
    }
   ],
   "source": [
    "A1@B"
   ]
  },
  {
   "cell_type": "markdown",
   "id": "1c36a72f",
   "metadata": {},
   "source": [
    "вариант 2"
   ]
  },
  {
   "cell_type": "code",
   "execution_count": 45,
   "id": "473ac95b",
   "metadata": {},
   "outputs": [
    {
     "data": {
      "text/plain": [
       "array([[0.],\n",
       "       [1.],\n",
       "       [2.],\n",
       "       [1.]])"
      ]
     },
     "execution_count": 45,
     "metadata": {},
     "output_type": "execute_result"
    }
   ],
   "source": [
    "np.linalg.solve(A,B)"
   ]
  },
  {
   "cell_type": "code",
   "execution_count": null,
   "id": "05b0d1f6",
   "metadata": {},
   "outputs": [],
   "source": []
  }
 ],
 "metadata": {
  "kernelspec": {
   "display_name": "Python 3",
   "language": "python",
   "name": "python3"
  },
  "language_info": {
   "codemirror_mode": {
    "name": "ipython",
    "version": 3
   },
   "file_extension": ".py",
   "mimetype": "text/x-python",
   "name": "python",
   "nbconvert_exporter": "python",
   "pygments_lexer": "ipython3",
   "version": "3.8.8"
  }
 },
 "nbformat": 4,
 "nbformat_minor": 5
}
