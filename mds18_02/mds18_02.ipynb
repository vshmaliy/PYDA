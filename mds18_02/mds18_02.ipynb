{
 "cells": [
  {
   "cell_type": "markdown",
   "id": "a24ac081",
   "metadata": {},
   "source": [
    "## MDS18. ДЗ 02 (лекция \"Линейная алгебра. Матрицы\")."
   ]
  },
  {
   "cell_type": "markdown",
   "id": "282f9647",
   "metadata": {},
   "source": [
    "### 1) Создайте случайную матрицу А1 размерностью 5 на 5"
   ]
  },
  {
   "cell_type": "code",
   "execution_count": 1,
   "id": "3665b980",
   "metadata": {},
   "outputs": [],
   "source": [
    "import numpy as np"
   ]
  },
  {
   "cell_type": "code",
   "execution_count": 2,
   "id": "d4c694ee",
   "metadata": {},
   "outputs": [
    {
     "data": {
      "text/plain": [
       "array([[0.99506968, 0.58430022, 0.8174697 , 0.95716934, 0.03392958],\n",
       "       [0.87546676, 0.58066123, 0.0623455 , 0.2510612 , 0.94759618],\n",
       "       [0.24809336, 0.81689179, 0.02251387, 0.16996045, 0.20861915],\n",
       "       [0.00376958, 0.09292004, 0.67521193, 0.84845778, 0.03982372],\n",
       "       [0.80984635, 0.57151063, 0.86751103, 0.27901382, 0.20976656]])"
      ]
     },
     "execution_count": 2,
     "metadata": {},
     "output_type": "execute_result"
    }
   ],
   "source": [
    "A1 = np.random.random((5,5))\n",
    "A1"
   ]
  },
  {
   "cell_type": "markdown",
   "id": "edab00b0",
   "metadata": {},
   "source": [
    "### 2) Транспонируйте матрицу A1"
   ]
  },
  {
   "cell_type": "code",
   "execution_count": 3,
   "id": "0ce69a9d",
   "metadata": {},
   "outputs": [
    {
     "data": {
      "text/plain": [
       "array([[0.99506968, 0.87546676, 0.24809336, 0.00376958, 0.80984635],\n",
       "       [0.58430022, 0.58066123, 0.81689179, 0.09292004, 0.57151063],\n",
       "       [0.8174697 , 0.0623455 , 0.02251387, 0.67521193, 0.86751103],\n",
       "       [0.95716934, 0.2510612 , 0.16996045, 0.84845778, 0.27901382],\n",
       "       [0.03392958, 0.94759618, 0.20861915, 0.03982372, 0.20976656]])"
      ]
     },
     "execution_count": 3,
     "metadata": {},
     "output_type": "execute_result"
    }
   ],
   "source": [
    "np.transpose(A1)"
   ]
  },
  {
   "cell_type": "markdown",
   "id": "480db89d",
   "metadata": {},
   "source": [
    "### 3) Найдите обратную матрицу для А1"
   ]
  },
  {
   "cell_type": "code",
   "execution_count": 4,
   "id": "f28f0040",
   "metadata": {},
   "outputs": [
    {
     "data": {
      "text/plain": [
       "array([[ 1.15426049,  0.20427392, -0.71244096, -1.16048726, -0.18062467],\n",
       "       [-0.21604652, -0.36653456,  1.49924377, -0.01472038,  0.20247451],\n",
       "       [-0.93346551, -0.27008601, -0.28406211,  0.68913823,  1.52274652],\n",
       "       [ 0.81245454,  0.20466622,  0.07734409,  0.59574334, -1.24599143],\n",
       "       [-1.08785294,  1.05472384, -0.26228732,  0.87799307,  0.27273802]])"
      ]
     },
     "execution_count": 4,
     "metadata": {},
     "output_type": "execute_result"
    }
   ],
   "source": [
    "np.linalg.inv(A1)"
   ]
  },
  {
   "cell_type": "markdown",
   "id": "ca1c721d",
   "metadata": {},
   "source": [
    "### 4) Создайте диагональную матрицу - поэлементно перемножив единичную матрицу I и случайную матрицу A2 размерности 4 на 4"
   ]
  },
  {
   "cell_type": "code",
   "execution_count": 5,
   "id": "52ac003a",
   "metadata": {},
   "outputs": [
    {
     "data": {
      "text/plain": [
       "array([[0.26691446, 0.10588687, 0.93544006, 0.82845225],\n",
       "       [0.73849409, 0.11972549, 0.90726435, 0.03481261],\n",
       "       [0.50161758, 0.80313809, 0.61350933, 0.57941034],\n",
       "       [0.46209203, 0.5904769 , 0.37989135, 0.83935975]])"
      ]
     },
     "execution_count": 5,
     "metadata": {},
     "output_type": "execute_result"
    }
   ],
   "source": [
    "A2 = np.random.random((4,4))\n",
    "A2"
   ]
  },
  {
   "cell_type": "code",
   "execution_count": 6,
   "id": "6b5d7952",
   "metadata": {},
   "outputs": [
    {
     "data": {
      "text/plain": [
       "array([[1., 0., 0., 0.],\n",
       "       [0., 1., 0., 0.],\n",
       "       [0., 0., 1., 0.],\n",
       "       [0., 0., 0., 1.]])"
      ]
     },
     "execution_count": 6,
     "metadata": {},
     "output_type": "execute_result"
    }
   ],
   "source": [
    "I = np.eye(4)\n",
    "I"
   ]
  },
  {
   "cell_type": "code",
   "execution_count": 7,
   "id": "abdc2820",
   "metadata": {},
   "outputs": [
    {
     "data": {
      "text/plain": [
       "array([[0.26691446, 0.        , 0.        , 0.        ],\n",
       "       [0.        , 0.11972549, 0.        , 0.        ],\n",
       "       [0.        , 0.        , 0.61350933, 0.        ],\n",
       "       [0.        , 0.        , 0.        , 0.83935975]])"
      ]
     },
     "execution_count": 7,
     "metadata": {},
     "output_type": "execute_result"
    }
   ],
   "source": [
    "A3 = I*A2\n",
    "A3"
   ]
  },
  {
   "cell_type": "markdown",
   "id": "2808e74d",
   "metadata": {},
   "source": [
    "### 5) Создайте нулевую матрицу размерности 3 на 3"
   ]
  },
  {
   "cell_type": "code",
   "execution_count": 8,
   "id": "5c6d2a75",
   "metadata": {},
   "outputs": [
    {
     "data": {
      "text/plain": [
       "array([[0., 0., 0.],\n",
       "       [0., 0., 0.],\n",
       "       [0., 0., 0.]])"
      ]
     },
     "execution_count": 8,
     "metadata": {},
     "output_type": "execute_result"
    }
   ],
   "source": [
    "A4 = np.zeros([3,3])\n",
    "A4"
   ]
  },
  {
   "cell_type": "markdown",
   "id": "cd26f063",
   "metadata": {},
   "source": [
    "### 6) Для всех полученных матриц найдите: определитель, ранг и собственные значения"
   ]
  },
  {
   "cell_type": "markdown",
   "id": "750d5018",
   "metadata": {},
   "source": [
    "#### Матрица A1:"
   ]
  },
  {
   "cell_type": "code",
   "execution_count": 9,
   "id": "b3888631",
   "metadata": {},
   "outputs": [
    {
     "data": {
      "text/plain": [
       "0.33961522775182107"
      ]
     },
     "execution_count": 9,
     "metadata": {},
     "output_type": "execute_result"
    }
   ],
   "source": [
    "np.linalg.det(A1)"
   ]
  },
  {
   "cell_type": "code",
   "execution_count": 10,
   "id": "6f46d037",
   "metadata": {},
   "outputs": [
    {
     "data": {
      "text/plain": [
       "5"
      ]
     },
     "execution_count": 10,
     "metadata": {},
     "output_type": "execute_result"
    }
   ],
   "source": [
    "np.linalg.matrix_rank(A1)"
   ]
  },
  {
   "cell_type": "code",
   "execution_count": 11,
   "id": "881170a4",
   "metadata": {},
   "outputs": [
    {
     "data": {
      "text/plain": [
       "(array([ 2.39415585+0.j        ,  0.44817847+0.39081204j,\n",
       "         0.44817847-0.39081204j, -0.31702184+0.54832829j,\n",
       "        -0.31702184-0.54832829j]),\n",
       " array([[ 0.55286304+0.j        , -0.16386718+0.46046167j,\n",
       "         -0.16386718-0.46046167j, -0.14181627+0.08116339j,\n",
       "         -0.14181627-0.08116339j],\n",
       "        [ 0.56321958+0.j        ,  0.37810133-0.10858388j,\n",
       "          0.37810133+0.10858388j,  0.59198024+0.j        ,\n",
       "          0.59198024-0.j        ],\n",
       "        [ 0.30877367+0.j        ,  0.26581053-0.29904183j,\n",
       "          0.26581053+0.29904183j, -0.13473887-0.55655931j,\n",
       "         -0.13473887+0.55655931j],\n",
       "        [ 0.18292774+0.j        , -0.56194235+0.j        ,\n",
       "         -0.56194235-0.j        , -0.08426263+0.27462501j,\n",
       "         -0.08426263-0.27462501j],\n",
       "        [ 0.49831961+0.j        ,  0.27470993-0.2346178j ,\n",
       "          0.27470993+0.2346178j , -0.39858727+0.23142236j,\n",
       "         -0.39858727-0.23142236j]]))"
      ]
     },
     "execution_count": 11,
     "metadata": {},
     "output_type": "execute_result"
    }
   ],
   "source": [
    "np.linalg.eig(A1)"
   ]
  },
  {
   "cell_type": "code",
   "execution_count": 12,
   "id": "11a9077b",
   "metadata": {},
   "outputs": [
    {
     "data": {
      "text/plain": [
       "array([ 2.39415585+0.j        ,  0.44817847+0.39081204j,\n",
       "        0.44817847-0.39081204j, -0.31702184+0.54832829j,\n",
       "       -0.31702184-0.54832829j])"
      ]
     },
     "execution_count": 12,
     "metadata": {},
     "output_type": "execute_result"
    }
   ],
   "source": [
    "np.linalg.eigvals(A1)"
   ]
  },
  {
   "cell_type": "markdown",
   "id": "01eb83ec",
   "metadata": {},
   "source": [
    "#### Транспонированная матрица A1:"
   ]
  },
  {
   "cell_type": "code",
   "execution_count": 13,
   "id": "af39099e",
   "metadata": {},
   "outputs": [
    {
     "data": {
      "text/plain": [
       "0.33961522775182107"
      ]
     },
     "execution_count": 13,
     "metadata": {},
     "output_type": "execute_result"
    }
   ],
   "source": [
    "np.linalg.det(np.transpose(A1))"
   ]
  },
  {
   "cell_type": "code",
   "execution_count": 14,
   "id": "8ba8af11",
   "metadata": {},
   "outputs": [
    {
     "data": {
      "text/plain": [
       "5"
      ]
     },
     "execution_count": 14,
     "metadata": {},
     "output_type": "execute_result"
    }
   ],
   "source": [
    "np.linalg.matrix_rank(np.transpose(A1))"
   ]
  },
  {
   "cell_type": "code",
   "execution_count": 15,
   "id": "a6231f6b",
   "metadata": {},
   "outputs": [
    {
     "data": {
      "text/plain": [
       "(array([ 2.39415585+0.j        ,  0.44817847+0.39081204j,\n",
       "         0.44817847-0.39081204j, -0.31702184+0.54832829j,\n",
       "        -0.31702184-0.54832829j]),\n",
       " array([[ 0.52517791+0.j        , -0.32881697+0.42424478j,\n",
       "         -0.32881697-0.42424478j,  0.18178633+0.11079938j,\n",
       "          0.18178633-0.11079938j],\n",
       "        [ 0.47170693+0.j        ,  0.02269915-0.11543549j,\n",
       "          0.02269915+0.11543549j, -0.18671264-0.44209682j,\n",
       "         -0.18671264+0.44209682j],\n",
       "        [ 0.43103788+0.j        ,  0.26978026-0.06328867j,\n",
       "          0.26978026+0.06328867j,  0.6306534 +0.j        ,\n",
       "          0.6306534 -0.j        ],\n",
       "        [ 0.49670343+0.j        ,  0.72248108+0.j        ,\n",
       "          0.72248108-0.j        , -0.056628  -0.1234449j ,\n",
       "         -0.056628  +0.1234449j ],\n",
       "        [ 0.26300719+0.j        , -0.09322676-0.3009953j ,\n",
       "         -0.09322676+0.3009953j , -0.36063815+0.42206286j,\n",
       "         -0.36063815-0.42206286j]]))"
      ]
     },
     "execution_count": 15,
     "metadata": {},
     "output_type": "execute_result"
    }
   ],
   "source": [
    "np.linalg.eig(np.transpose(A1))"
   ]
  },
  {
   "cell_type": "markdown",
   "id": "0a17fac1",
   "metadata": {},
   "source": [
    "#### Обратная матрица для A1:"
   ]
  },
  {
   "cell_type": "code",
   "execution_count": 16,
   "id": "120dfe24",
   "metadata": {},
   "outputs": [
    {
     "data": {
      "text/plain": [
       "2.944508721295514"
      ]
     },
     "execution_count": 16,
     "metadata": {},
     "output_type": "execute_result"
    }
   ],
   "source": [
    "np.linalg.det(np.linalg.inv(A1))"
   ]
  },
  {
   "cell_type": "code",
   "execution_count": 17,
   "id": "886ce9ca",
   "metadata": {},
   "outputs": [
    {
     "data": {
      "text/plain": [
       "5"
      ]
     },
     "execution_count": 17,
     "metadata": {},
     "output_type": "execute_result"
    }
   ],
   "source": [
    "np.linalg.matrix_rank(np.linalg.inv(A1))"
   ]
  },
  {
   "cell_type": "code",
   "execution_count": 18,
   "id": "a31f2289",
   "metadata": {},
   "outputs": [
    {
     "data": {
      "text/plain": [
       "(array([-0.79024952+1.36683381j, -0.79024952-1.36683381j,\n",
       "         1.26748024+1.10524394j,  1.26748024-1.10524394j,\n",
       "         0.41768375+0.j        ]),\n",
       " array([[ 0.14181627+0.08116339j,  0.14181627-0.08116339j,\n",
       "          0.16386718+0.46046167j,  0.16386718-0.46046167j,\n",
       "          0.55286304+0.j        ],\n",
       "        [-0.59198024+0.j        , -0.59198024-0.j        ,\n",
       "         -0.37810133-0.10858388j, -0.37810133+0.10858388j,\n",
       "          0.56321958+0.j        ],\n",
       "        [ 0.13473887-0.55655931j,  0.13473887+0.55655931j,\n",
       "         -0.26581053-0.29904183j, -0.26581053+0.29904183j,\n",
       "          0.30877367+0.j        ],\n",
       "        [ 0.08426263+0.27462501j,  0.08426263-0.27462501j,\n",
       "          0.56194235+0.j        ,  0.56194235-0.j        ,\n",
       "          0.18292774+0.j        ],\n",
       "        [ 0.39858727+0.23142236j,  0.39858727-0.23142236j,\n",
       "         -0.27470993-0.2346178j , -0.27470993+0.2346178j ,\n",
       "          0.49831961+0.j        ]]))"
      ]
     },
     "execution_count": 18,
     "metadata": {},
     "output_type": "execute_result"
    }
   ],
   "source": [
    "np.linalg.eig(np.linalg.inv(A1))"
   ]
  },
  {
   "cell_type": "markdown",
   "id": "e6f47f28",
   "metadata": {},
   "source": [
    "#### Единичная матрица I:"
   ]
  },
  {
   "cell_type": "code",
   "execution_count": 19,
   "id": "c68e48e8",
   "metadata": {},
   "outputs": [
    {
     "data": {
      "text/plain": [
       "1.0"
      ]
     },
     "execution_count": 19,
     "metadata": {},
     "output_type": "execute_result"
    }
   ],
   "source": [
    "np.linalg.det(I)"
   ]
  },
  {
   "cell_type": "code",
   "execution_count": 20,
   "id": "6a7fb1f2",
   "metadata": {},
   "outputs": [
    {
     "data": {
      "text/plain": [
       "4"
      ]
     },
     "execution_count": 20,
     "metadata": {},
     "output_type": "execute_result"
    }
   ],
   "source": [
    "np.linalg.matrix_rank(I)"
   ]
  },
  {
   "cell_type": "code",
   "execution_count": 21,
   "id": "0ffbac7e",
   "metadata": {},
   "outputs": [
    {
     "data": {
      "text/plain": [
       "(array([1., 1., 1., 1.]),\n",
       " array([[1., 0., 0., 0.],\n",
       "        [0., 1., 0., 0.],\n",
       "        [0., 0., 1., 0.],\n",
       "        [0., 0., 0., 1.]]))"
      ]
     },
     "execution_count": 21,
     "metadata": {},
     "output_type": "execute_result"
    }
   ],
   "source": [
    "np.linalg.eig(I)"
   ]
  },
  {
   "cell_type": "markdown",
   "id": "092279c7",
   "metadata": {},
   "source": [
    "#### Диагональная матрица А3:"
   ]
  },
  {
   "cell_type": "code",
   "execution_count": 22,
   "id": "3b38e7ec",
   "metadata": {},
   "outputs": [
    {
     "data": {
      "text/plain": [
       "0.016456141935448084"
      ]
     },
     "execution_count": 22,
     "metadata": {},
     "output_type": "execute_result"
    }
   ],
   "source": [
    "np.linalg.det(A3)"
   ]
  },
  {
   "cell_type": "code",
   "execution_count": 23,
   "id": "23cefb1c",
   "metadata": {},
   "outputs": [
    {
     "data": {
      "text/plain": [
       "4"
      ]
     },
     "execution_count": 23,
     "metadata": {},
     "output_type": "execute_result"
    }
   ],
   "source": [
    "np.linalg.matrix_rank(A3)"
   ]
  },
  {
   "cell_type": "code",
   "execution_count": 24,
   "id": "d1995f58",
   "metadata": {},
   "outputs": [
    {
     "data": {
      "text/plain": [
       "(array([0.26691446, 0.11972549, 0.61350933, 0.83935975]),\n",
       " array([[1., 0., 0., 0.],\n",
       "        [0., 1., 0., 0.],\n",
       "        [0., 0., 1., 0.],\n",
       "        [0., 0., 0., 1.]]))"
      ]
     },
     "execution_count": 24,
     "metadata": {},
     "output_type": "execute_result"
    }
   ],
   "source": [
    "np.linalg.eig(A3)"
   ]
  },
  {
   "cell_type": "markdown",
   "id": "df3a2f5a",
   "metadata": {},
   "source": [
    "#### Нулевая матрица А4:"
   ]
  },
  {
   "cell_type": "code",
   "execution_count": 25,
   "id": "f7d15537",
   "metadata": {},
   "outputs": [
    {
     "data": {
      "text/plain": [
       "0.0"
      ]
     },
     "execution_count": 25,
     "metadata": {},
     "output_type": "execute_result"
    }
   ],
   "source": [
    "np.linalg.det(A4)"
   ]
  },
  {
   "cell_type": "code",
   "execution_count": 26,
   "id": "babede2b",
   "metadata": {},
   "outputs": [
    {
     "data": {
      "text/plain": [
       "0"
      ]
     },
     "execution_count": 26,
     "metadata": {},
     "output_type": "execute_result"
    }
   ],
   "source": [
    "np.linalg.matrix_rank(A4)"
   ]
  },
  {
   "cell_type": "code",
   "execution_count": 27,
   "id": "9f776c8d",
   "metadata": {},
   "outputs": [
    {
     "data": {
      "text/plain": [
       "(array([0., 0., 0.]),\n",
       " array([[1., 0., 0.],\n",
       "        [0., 1., 0.],\n",
       "        [0., 0., 1.]]))"
      ]
     },
     "execution_count": 27,
     "metadata": {},
     "output_type": "execute_result"
    }
   ],
   "source": [
    "np.linalg.eig(A4)"
   ]
  },
  {
   "cell_type": "markdown",
   "id": "ad6d673d",
   "metadata": {},
   "source": [
    "### 7) Проанализируйте результаты"
   ]
  },
  {
   "cell_type": "markdown",
   "id": "b73787d9",
   "metadata": {},
   "source": [
    "#### (кое-что, навскидку)))\n",
    "\n",
    "- определитель транспонированной матрицы совпадает с исходной и не совпадает с обратной\n",
    "- собственные числа транспонированной матрицы совпадают с исходной, и отличаются от обратной\n",
    "- собственные вектора исходной, транспонированной и обратной матрицы, как кажется, отличны (хотя из-за того, что там сложный набор чисел, включая комплексные. на глаз это трудно разобрать, а теорию смотреть было лень, извините ...\n",
    "- определитель единичной матрицы - единица, нулевой - ноль\n",
    "- похоже, что собственные вектора нулевой, единичной и диагональной матрицы с одинаковым числом столбцов(строк) совпадают"
   ]
  },
  {
   "cell_type": "code",
   "execution_count": null,
   "id": "2dab0b09",
   "metadata": {},
   "outputs": [],
   "source": []
  }
 ],
 "metadata": {
  "kernelspec": {
   "display_name": "Python 3",
   "language": "python",
   "name": "python3"
  },
  "language_info": {
   "codemirror_mode": {
    "name": "ipython",
    "version": 3
   },
   "file_extension": ".py",
   "mimetype": "text/x-python",
   "name": "python",
   "nbconvert_exporter": "python",
   "pygments_lexer": "ipython3",
   "version": "3.8.8"
  }
 },
 "nbformat": 4,
 "nbformat_minor": 5
}
