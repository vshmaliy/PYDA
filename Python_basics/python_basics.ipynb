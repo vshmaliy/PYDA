{
 "cells": [
  {
   "cell_type": "markdown",
   "id": "4cd43dea",
   "metadata": {},
   "source": [
    "# Домашнее задание к лекции \"Основы Python\""
   ]
  },
  {
   "cell_type": "markdown",
   "id": "5f7bf094",
   "metadata": {},
   "source": [
    "## Задание 1"
   ]
  },
  {
   "cell_type": "markdown",
   "id": "4b84c9d5",
   "metadata": {},
   "source": [
    "Даны 2 переменных, в которых хранятся строки произвольной длины: *phrase_1* и *phrase_2*.  \n",
    "Напишите код, который проверяет какая из этих строк длиннее."
   ]
  },
  {
   "cell_type": "code",
   "execution_count": 1,
   "id": "de4d9659",
   "metadata": {},
   "outputs": [
    {
     "name": "stdout",
     "output_type": "stream",
     "text": [
      "Фраза 1 длиннее фразы 2\n"
     ]
    }
   ],
   "source": [
    "phrase_1 = 'Насколько проще было бы писать программы, если бы не заказчики'\n",
    "phrase_2 = '640Кб должно хватить для любых задач. Билл Гейтс (по легенде)'\n",
    "if len (phrase_1) > len (phrase_2):\n",
    "    print ('Фраза 1 длиннее фразы 2')\n",
    "elif len (phrase_1) < len (phrase_2):\n",
    "    print ('Фраза 2 длиннее фразы 1')\n",
    "else:\n",
    "    print ('Фразы равной длины')"
   ]
  },
  {
   "cell_type": "markdown",
   "id": "418073b3",
   "metadata": {},
   "source": [
    "## Задание 2"
   ]
  },
  {
   "cell_type": "markdown",
   "id": "72ea39c5",
   "metadata": {},
   "source": [
    "Дана переменная, в которой хранится четырехзначное число (год). Необходимо написать программу, которая выведет, является ли данный год високосным или обычным."
   ]
  },
  {
   "cell_type": "code",
   "execution_count": 2,
   "id": "6cc83b96",
   "metadata": {},
   "outputs": [
    {
     "name": "stdout",
     "output_type": "stream",
     "text": [
      "2020 - високосный год\n"
     ]
    }
   ],
   "source": [
    "year = 2020\n",
    "if year % 4 == 0:\n",
    "    print (year, '- високосный год')\n",
    "else:\n",
    "    print (year, '- обычный год')"
   ]
  },
  {
   "cell_type": "markdown",
   "id": "ca9f046b",
   "metadata": {},
   "source": [
    "## Задание 3"
   ]
  },
  {
   "cell_type": "markdown",
   "id": "3b636716",
   "metadata": {},
   "source": [
    "Необходимо написать программу, которая будет запрашивать у пользователя месяц и дату рождения и выводить соответствующий знак зодиака."
   ]
  },
  {
   "cell_type": "code",
   "execution_count": 3,
   "id": "be9ff71a",
   "metadata": {},
   "outputs": [
    {
     "name": "stdout",
     "output_type": "stream",
     "text": [
      "Введите день31\n",
      "Введите месяцДекабрь\n",
      "Ваш знак зодиака: Козерог\n"
     ]
    }
   ],
   "source": [
    "day = int(input('Введите день'))\n",
    "month = input('Введите месяц')\n",
    "if (month == 'Март' and 21 <= day <= 31) or (month == 'Апрель' and 1 <= day <= 20):\n",
    "    print ('Ваш знак зодиака: Овен')\n",
    "elif (month == 'Апрель' and 21 <= day <= 30) or (month == 'Май' and 1 <= day <= 20):\n",
    "    print ('Ваш знак зодиака: Телец')\n",
    "elif (month == 'Май' and 21 <= day <= 31) or (month == 'Июнь' and 1 <= day <= 21):\n",
    "    print ('Ваш знак зодиака: Близнецы')\n",
    "elif (month == 'Июнь' and 22 <= day <= 30) or (month == 'Июль' and 1 <= day <= 22):\n",
    "    print ('Ваш знак зодиака: Рак')\n",
    "elif (month == 'Июль' and 23 <= day <= 31) or (month == 'Август' and 1 <= day <= 22):\n",
    "    print ('Ваш знак зодиака: Лев')\n",
    "elif (month == 'Август' and 23 <= day <= 31) or (month == 'Сентябрь' and 1 <= day <= 22):\n",
    "    print ('Ваш знак зодиака: Дева')\n",
    "elif (month == 'Сентябрь' and 23 <= day <= 30) or (month == 'Октябрь' and 1 <= day <= 22):\n",
    "    print ('Ваш знак зодиака: Весы')\n",
    "elif (month == 'Октябрь' and 23 <= day <= 31) or (month == 'Ноябрь' and 1 <= day <= 21):\n",
    "    print ('Ваш знак зодиака: Скорпион')\n",
    "elif (month == 'Ноябрь' and 22 <= day <= 30) or (month == 'Декабрь' and 1 <= day <= 20):\n",
    "    print ('Ваш знак зодиака: Стрелец')\n",
    "elif (month == 'Декабрь' and 21 <= day <= 31) or (month == 'Январь' and 1 <= day <= 19):\n",
    "    print ('Ваш знак зодиака: Козерог')\n",
    "elif (month == 'Январь' and 20 <= day <= 31) or (month == 'Февраль' and 1 <= day <= 19):\n",
    "    print ('Ваш знак зодиака: Водолей')\n",
    "elif (month == 'Февраль' and 20 <= day <= 29) or (month == 'Март' and 1 <= day <= 20):\n",
    "    print ('Ваш знак зодиака: Рыбы')\n",
    "else:\n",
    "    print ('К сожалению, неверно введены день или месяц - название месяца вводите с большой буквы')"
   ]
  },
  {
   "cell_type": "markdown",
   "id": "dc02355a",
   "metadata": {},
   "source": [
    "## Задание 4"
   ]
  },
  {
   "cell_type": "markdown",
   "id": "ca5a7975",
   "metadata": {},
   "source": [
    "Вам нужно написать программу для подбора упаковок по размерам товара. Размеры (ширина, длина, высота) хранятся в переменных (в сантиметрах):\n",
    "\n",
    "Используйте следующие правила:\n",
    "- если каждое из трех измерений менее 15 сантиметров, то выведите на экран \"Коробка №1\";\n",
    "- если хотя бы одно из измерений больше 15 сантиметров, но менее 50 сантиметров, то выводите \"Коробка №2\";\n",
    "- если длина товара больше 2 метров, то выводите \"Упаковка для лыж\";\n",
    "- во всех остальных случаях выводите \"Стандартная коробка №3\"."
   ]
  },
  {
   "cell_type": "code",
   "execution_count": 4,
   "id": "ecc59cbf",
   "metadata": {},
   "outputs": [
    {
     "name": "stdout",
     "output_type": "stream",
     "text": [
      "width = 15\n",
      "length = 50\n",
      "height = 15\n",
      "Результат:\n",
      "Стандартная коробка №3\n"
     ]
    }
   ],
   "source": [
    "width = 15\n",
    "length = 50\n",
    "height = 15\n",
    "print ('width =', width)\n",
    "print ('length =', length)\n",
    "print ('height =', height)\n",
    "print ('Результат:')\n",
    "if length > 200:\n",
    "    print ('Упаковка для лыж')\n",
    "elif width < 15 and length < 15 and height < 15:\n",
    "    print ('Коробка №1')\n",
    "elif 15 < width < 50 or 15 < length < 50 or 15 < height < 50:\n",
    "    print ('Коробка №2')\n",
    "else:\n",
    "    print ('Стандартная коробка №3')"
   ]
  }
 ],
 "metadata": {
  "kernelspec": {
   "display_name": "Python 3",
   "language": "python",
   "name": "python3"
  },
  "language_info": {
   "codemirror_mode": {
    "name": "ipython",
    "version": 3
   },
   "file_extension": ".py",
   "mimetype": "text/x-python",
   "name": "python",
   "nbconvert_exporter": "python",
   "pygments_lexer": "ipython3",
   "version": "3.8.8"
  }
 },
 "nbformat": 4,
 "nbformat_minor": 5
}
